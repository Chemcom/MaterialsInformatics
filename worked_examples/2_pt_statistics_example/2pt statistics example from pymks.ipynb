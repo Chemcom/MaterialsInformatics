{
 "cells": [
  {
   "cell_type": "markdown",
   "id": "db5023f2",
   "metadata": {},
   "source": [
    "# What are 2-Point Spatial Correlations (also called 2-Point Statistics)?\n",
    "This example computes both periodic and non-periodic 2-point spatial correlations (also referred to as 2-point stats or auto-correlations and cross-correlations) for a checkerboard microstructure. This is a simple example to demonstrate how spatial correlations capture features seen in the original microstructure. More technical details about 2-point statistics are in the theory section.\n",
    "\n",
    "taken from http://pymks.org/en/stable/rst/notebooks/checkerboard.html"
   ]
  },
  {
   "cell_type": "code",
   "execution_count": null,
   "id": "89c35fb5",
   "metadata": {},
   "outputs": [],
   "source": [
    "import numpy as np\n",
    "from sklearn.pipeline import Pipeline\n",
    "\n",
    "from pymks import (\n",
    "    generate_checkerboard,\n",
    "    plot_microstructures,\n",
    "    PrimitiveTransformer,\n",
    "    TwoPointCorrelation\n",
    ")"
   ]
  },
  {
   "cell_type": "code",
   "execution_count": null,
   "id": "b2b7428a",
   "metadata": {},
   "outputs": [],
   "source": [
    "#PYTEST_VALIDATE_IGNORE_OUTPUT\n",
    "\n",
    "%matplotlib inline\n",
    "%load_ext autoreload\n",
    "%autoreload 2"
   ]
  },
  {
   "cell_type": "markdown",
   "id": "48c73a73",
   "metadata": {},
   "source": [
    "Start with a 8x8 microstructure as a useful tool for seeing correlations"
   ]
  },
  {
   "cell_type": "code",
   "execution_count": null,
   "id": "5ee100c6",
   "metadata": {},
   "outputs": [],
   "source": [
    "x_data = generate_checkerboard(\n",
    "    size=(21 * 8, 21 * 8),\n",
    "    square_shape=(21, 21)\n",
    ").persist()"
   ]
  },
  {
   "cell_type": "code",
   "execution_count": null,
   "id": "da1c274a",
   "metadata": {
    "scrolled": true
   },
   "outputs": [],
   "source": [
    "plot_microstructures(x_data[0])\n",
    "print(x_data.shape)"
   ]
  },
  {
   "cell_type": "markdown",
   "id": "a616f5f8",
   "metadata": {},
   "source": [
    "or we can do it on any generic image we'd like"
   ]
  },
  {
   "cell_type": "code",
   "execution_count": null,
   "id": "ffdc0c99",
   "metadata": {},
   "outputs": [],
   "source": [
    "from PIL import Image\n",
    "  \n",
    "# open method used to open different extension image file\n",
    "im = Image.open(r\"custom3.jpg\") \n",
    "  \n",
    "# This method will show image in any image viewer \n",
    "#im.show() \n",
    "\n",
    "# asarray() class is used to convert\n",
    "# PIL images into NumPy arrays\n",
    "numpydata = np.asarray(im)\n",
    "thresh = 200\n",
    "fn = lambda x : 255 if x > thresh else 0\n",
    "r = im.convert('L').point(fn, mode='1')  \n",
    "numpydata = np.asarray(r)\n",
    "print(numpydata.shape)\n",
    "x_data=numpydata\n",
    "y = np.expand_dims(x_data, axis=0)\n",
    "print(y.shape)\n",
    "x_data = y\n",
    "plot_microstructures(x_data[0])"
   ]
  },
  {
   "cell_type": "markdown",
   "id": "3b6e296c",
   "metadata": {},
   "source": [
    "## Compute Periodic 2-Point Statistics\n",
    "Compute the periodic 2-points stats using the TwoPointCorrelation class. The periodic_boundary argument is set to True. To compute 2-point stats first discretize the microstructure using a chosen basis using a PrimitiveTransformer with n_state equal to 2. The PrimitiveTransformer and the TwoPointCorrelation are combined into a Scikit-learn pipeline to generate a model. The transform method executes the pipeline as this is not a model that requires a predict step to use."
   ]
  },
  {
   "cell_type": "markdown",
   "id": "680fb9ec",
   "metadata": {},
   "source": [
    "Periodic 2-Point statistics makes an assumption that the microstructure is repeating consistently. "
   ]
  },
  {
   "cell_type": "code",
   "execution_count": null,
   "id": "dd37af7f",
   "metadata": {},
   "outputs": [],
   "source": [
    "model = Pipeline(steps=[\n",
    "    ('discretize', PrimitiveTransformer(n_state=2, min_=0.0, max_=1.0)),\n",
    "    ('correlations', TwoPointCorrelation(\n",
    "        periodic_boundary=True,\n",
    "        cutoff=x_data.shape[1],\n",
    "        correlations=[[0, 0], [1, 1], [0, 1]]\n",
    "    ))\n",
    "])\n",
    "\n",
    "print(x_data.shape)\n",
    "x_stats = model.transform(x_data).persist()\n",
    "print(x_stats.shape)"
   ]
  },
  {
   "cell_type": "code",
   "execution_count": null,
   "id": "e6d96f3e",
   "metadata": {
    "scrolled": true
   },
   "outputs": [],
   "source": [
    "plot_microstructures(x_stats[0, :, :, 0], x_stats[0, :, :, 1], titles=['0 -> 0', '1 -> 1'], cmap='bwr');\n"
   ]
  },
  {
   "cell_type": "code",
   "execution_count": null,
   "id": "5de2f270",
   "metadata": {},
   "outputs": [],
   "source": [
    "plot_microstructures(x_stats[0, :, :, 2], titles=['0 -> 1'], cmap='bwr');\n"
   ]
  },
  {
   "cell_type": "code",
   "execution_count": null,
   "id": "424007df",
   "metadata": {
    "scrolled": true
   },
   "outputs": [],
   "source": [
    "center = x_stats.shape[1] // 2\n",
    "\n",
    "print('Volume fraction of 0 -> 0: ', np.allclose(x_stats[0, center, center, 0], 0.5))\n",
    "print('Volume fraction of 0 -> 1: ', np.allclose(x_stats[0, center, center, 2], 0))"
   ]
  },
  {
   "cell_type": "markdown",
   "id": "c4c0e320",
   "metadata": {},
   "source": [
    "## Compute Non-Periodic 2-Point Statistics\n",
    "Compute the non-periodic 2-point statistics for the microstructure, but with non-periodic statistics by setting the periodic_boundary=False."
   ]
  },
  {
   "cell_type": "markdown",
   "id": "f17fada4",
   "metadata": {},
   "source": [
    "Non-Periodic 2-Point statistics is useful for when you want to analyze a microstructure that doesn't repeat consistently. "
   ]
  },
  {
   "cell_type": "code",
   "execution_count": null,
   "id": "95e84f5b",
   "metadata": {},
   "outputs": [],
   "source": [
    "model = Pipeline(steps=[\n",
    "    ('discretize', PrimitiveTransformer(n_state=2, min_=0.0, max_=1.0)),\n",
    "    ('correlations', TwoPointCorrelation(\n",
    "        periodic_boundary=False,\n",
    "        cutoff=x_data.shape[1],\n",
    "        correlations=[[0, 0], [1, 1], [0, 1]]\n",
    "    ))\n",
    "])\n",
    "\n",
    "x_stats = model.transform(x_data).persist()\n",
    "x_stats.shape"
   ]
  },
  {
   "cell_type": "code",
   "execution_count": null,
   "id": "f8fc7350",
   "metadata": {},
   "outputs": [],
   "source": [
    "plot_microstructures(x_stats[0, :, :, 0], x_stats[0, :, :, 1], titles=['0 -> 0', '1 -> 1'], cmap='bwr');\n"
   ]
  },
  {
   "cell_type": "code",
   "execution_count": null,
   "id": "2eebae4c",
   "metadata": {},
   "outputs": [],
   "source": [
    "plot_microstructures(x_stats[0, :, :, 2], titles=['0 -> 1'], cmap='bwr');\n"
   ]
  },
  {
   "cell_type": "code",
   "execution_count": null,
   "id": "0e1329dc",
   "metadata": {},
   "outputs": [],
   "source": [
    "#PYTEST_VALIDATE_IGNORE_OUTPUT\n",
    "\n",
    "print('Volume fraction of black phase', x_stats[0, center, center, 0].compute())\n",
    "print('Volume fraction of white phase', x_stats[0, center, center, 1].compute())"
   ]
  },
  {
   "cell_type": "code",
   "execution_count": null,
   "id": "31967123",
   "metadata": {},
   "outputs": [],
   "source": [
    "assert np.allclose(x_stats[0, center, center, 0], 0.5)\n",
    "assert np.allclose(x_stats[0, center, center, 1], 0.5)"
   ]
  },
  {
   "cell_type": "markdown",
   "id": "4c668a65",
   "metadata": {},
   "source": [
    "# Try it yourself!\n",
    "\n",
    "- There are three images of real grain boundaries in the 2 point statistics example folder\n",
    "- After importing the image, visually plot the microstructures of each photo similar to what was done above\n",
    "- Play around with the threshhold and see what gives a good resolution\n",
    "- What would you expect to work best for these microstructures? Periodic or Non-Periodic?\n",
    "- Play around with the threshold after plotting the Periodic/Non-Periodic graphs. How does this change the visualized statistics? \n",
    "- Why does changing the threshold not change the calculated volume fractions?"
   ]
  },
  {
   "cell_type": "code",
   "execution_count": null,
   "id": "57eac55e",
   "metadata": {},
   "outputs": [],
   "source": [
    "# Code here\n"
   ]
  }
 ],
 "metadata": {
  "kernelspec": {
   "display_name": "Python 3",
   "language": "python",
   "name": "python3"
  },
  "language_info": {
   "codemirror_mode": {
    "name": "ipython",
    "version": 3
   },
   "file_extension": ".py",
   "mimetype": "text/x-python",
   "name": "python",
   "nbconvert_exporter": "python",
   "pygments_lexer": "ipython3",
   "version": "3.11.9"
  }
 },
 "nbformat": 4,
 "nbformat_minor": 5
}
