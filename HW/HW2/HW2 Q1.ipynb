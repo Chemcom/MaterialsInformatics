{
 "cells": [
  {
   "cell_type": "markdown",
   "metadata": {},
   "source": [
    "# Question 1: Structural features\n",
    "**1.1 cif-cn-featurizer**\n",
    "\n",
    "Our friend Anton Oliynyk has recently released a new python script `cif-cn-featurizer`. \n",
    "\n",
    "Here is their description \"A Python script designed to process CIF (Crystallographic Information File) files and extract various features from them. These features include interatomic distances, atomic environment information, and coordination numbers. The script can handle binary and ternary compounds.\"\n",
    "\n",
    "Let's test it out and see how it works! To do so we will need some cifs. Right now the featurizer only works with binaries made up of certain elements shown in this plot. \n",
    "\n",
    "![allowed elements](https://github.com/sp8rks/MaterialsInformatics/blob/main/HW/HW2/cif-cn-featurizer-allowed-elements.png?raw=true)\n",
    "\n",
    "**<font color='teal'>a)</font>** Download the `cif-cn-featurizer` files and run it on the cif files in the `HW\\cn-featurizer\\cifs` folder. \n",
    "\n",
    "Note: in case you can't get it working, you'll also find a csv folder with all the extracted features for these cifs already complete, but try and get it working so you can use it in the future!"
   ]
  },
  {
   "cell_type": "code",
   "execution_count": 1,
   "metadata": {},
   "outputs": [],
   "source": [
    "#you can run this in your miniconda command prompt if you prefer\n",
    "\n"
   ]
  },
  {
   "cell_type": "markdown",
   "metadata": {},
   "source": [
    "**1.2 Getting labeled data for the cifs**\n",
    "\n",
    "**<font color='teal'>b)</font>** Now that you've got feature vectors in a series of .csv files, let's use them to build a model to predict a property. To get a property let's search for a materials project entry using the cif cards! If you've forgotten how, go back to the `legacy_MPRester_tutorial.ipynb` notebook where we did an example. Once you have the material project id, run a query to extract a property like bulk modulus ([\"elasticity\"][\"K_VRH\"])"
   ]
  },
  {
   "cell_type": "code",
   "execution_count": 7,
   "metadata": {},
   "outputs": [
    {
     "name": "stdout",
     "output_type": "stream",
     "text": [
      "['mp-22568', 'mp-20131', 'mp-1977', 'mp-2484', 'mp-20729', 'mp-30745', 'mp-980752', 'mp-11482', 'mp-376', 'mp-2751', 'mp-1911', 'mp-30866', 'mp-20369', 'mp-20903', 'mp-19977', 'mp-1080098', 'mp-633', 'mp-2465', 'mp-16513', 'mp-21197', 'mp-865411', 'mp-30787', 'mp-865411', 'mp-2391', 'mp-21430', 'mp-674', 'mp-481', 'mp-790', 'mp-20309', 'mp-2825', 'mp-2451', 'mp-2391', 'mp-2092', 'mp-1571', 'mp-801', 'mp-369', 'mp-718', 'mp-30634', 'mp-12553', 'mp-569196', 'mp-768', 'mp-2588', 'mp-16513', 'mp-567305', 'mp-674', 'mp-559', 'mp-2092', 'mp-959', 'mp-1571', 'mp-640095', 'mp-20469', 'mp-2333', 'mp-1451', 'mp-891', 'mp-20469', 'mp-636279', 'mp-1139', 'mp-357', 'mp-19977', 'mp-2134', 'mp-1451', 'mp-797', 'mp-2351', 'mp-718', 'mp-2391', 'mp-300', 'mp-1979', 'mp-1409', 'mp-21432', 'mp-2747', 'mp-21427', 'mp-20309', 'mp-2092', 'mp-2092', 'mp-21427', 'mp-865411', 'mp-801', 'mp-20469', 'mp-1549', 'mp-977', 'mp-2006', 'mp-1080756', 'mp-1082', 'mp-20258', 'mp-1232', 'mp-20920', 'mp-11506', 'mp-568823', 'mp-20971', 'mp-1291', 'mp-19919', 'mp-20387', 'mp-1158', 'mp-21177', 'mp-20516', 'mp-1051', 'mp-1080590', 'mp-1326', 'mp-21431', 'mp-20236', 'mp-2588', 'mp-30386']\n"
     ]
    }
   ],
   "source": [
    "# Using the legacy version of the MPRester API extract a list of material ids from the cif cards in the cifds folder\n",
    "\n",
    "from pymatgen.ext.matproj import MPRester\n",
    "import os\n",
    "import pandas as pd\n",
    "\n",
    "apiKeyPath = \"/Users/stanleywessman/Downloads/oldApiKey.txt\"\n",
    "\n",
    "# Read API key from file\n",
    "def readFile(filename):\n",
    "    try:\n",
    "        with open(filename, 'r') as f:\n",
    "            return f.read().strip()\n",
    "    except FileNotFoundError:\n",
    "        print(\"File not found\")\n",
    "        return None\n",
    "\n",
    "apiKey = readFile(apiKeyPath)\n",
    "\n",
    "#set up the MPRester API\n",
    "mpr = MPRester(apiKey)\n",
    "\n",
    "# using the legacy MPRester API extract the bulk modulus from each of the cif files in the folder cn-featurizer/cifs\n",
    "\n",
    "cifFolder = \"/Users/stanleywessman/Downloads/MaterialsInformatics/HW/HW2/cn-featurizer/cifs\"\n",
    "\n",
    "cifFiles = os.listdir(cifFolder)\n",
    "\n",
    "cifFiles = [cifFolder + \"/\" + f for f in cifFiles]\n",
    "\n",
    "cifFiles = [f for f in cifFiles if f.endswith(\".cif\")]\n",
    "\n",
    "\n",
    "#extract the material ids from the cif files\n",
    "\n",
    "materialIds = []\n",
    "\n",
    "for cifFile in cifFiles:\n",
    "    try:\n",
    "        matID = mpr.find_structure(cifFile)[0]\n",
    "        materialIds.append(matID)\n",
    "    except:\n",
    "        count = 0\n",
    "\n",
    "print(materialIds)\n",
    "        \n",
    "\n"
   ]
  },
  {
   "cell_type": "code",
   "execution_count": 9,
   "metadata": {},
   "outputs": [
    {
     "data": {
      "text/html": [
       "<div>\n",
       "<style scoped>\n",
       "    .dataframe tbody tr th:only-of-type {\n",
       "        vertical-align: middle;\n",
       "    }\n",
       "\n",
       "    .dataframe tbody tr th {\n",
       "        vertical-align: top;\n",
       "    }\n",
       "\n",
       "    .dataframe thead th {\n",
       "        text-align: right;\n",
       "    }\n",
       "</style>\n",
       "<table border=\"1\" class=\"dataframe\">\n",
       "  <thead>\n",
       "    <tr style=\"text-align: right;\">\n",
       "      <th></th>\n",
       "      <th>formula</th>\n",
       "      <th>bulkModulus</th>\n",
       "    </tr>\n",
       "  </thead>\n",
       "  <tbody>\n",
       "    <tr>\n",
       "      <th>0</th>\n",
       "      <td>V3Ga</td>\n",
       "      <td>168.0</td>\n",
       "    </tr>\n",
       "    <tr>\n",
       "      <th>1</th>\n",
       "      <td>YIn3</td>\n",
       "      <td>195.0</td>\n",
       "    </tr>\n",
       "    <tr>\n",
       "      <th>2</th>\n",
       "      <td>NdSn3</td>\n",
       "      <td>56.0</td>\n",
       "    </tr>\n",
       "    <tr>\n",
       "      <th>3</th>\n",
       "      <td>SmSn3</td>\n",
       "      <td>57.0</td>\n",
       "    </tr>\n",
       "    <tr>\n",
       "      <th>4</th>\n",
       "      <td>LaIn3</td>\n",
       "      <td>179.0</td>\n",
       "    </tr>\n",
       "  </tbody>\n",
       "</table>\n",
       "</div>"
      ],
      "text/plain": [
       "  formula  bulkModulus\n",
       "0    V3Ga        168.0\n",
       "1    YIn3        195.0\n",
       "2   NdSn3         56.0\n",
       "3   SmSn3         57.0\n",
       "4   LaIn3        179.0"
      ]
     },
     "execution_count": 9,
     "metadata": {},
     "output_type": "execute_result"
    }
   ],
   "source": [
    "# using the legacy api extract the bulk modulus for each material id\n",
    "\n",
    "bulkModuli = []\n",
    "formula = []\n",
    "\n",
    "for matID in materialIds:\n",
    "    try:\n",
    "        data = mpr.query(criteria={\"material_id\": matID}, properties=[\"elasticity\", \"K_VRH\", \"pretty_formula\"])\n",
    "        bulkModuli.append(data[0][\"elasticity\"][\"K_VRH\"])\n",
    "        formula.append(data[0][\"pretty_formula\"])\n",
    "    except:\n",
    "        count = 0\n",
    "\n",
    "# create a pandas dataframe with the formula and bulk moduli\n",
    "df = pd.DataFrame({\"formula\": formula, \"bulkModulus\": bulkModuli})"
   ]
  },
  {
   "cell_type": "markdown",
   "metadata": {},
   "source": [
    "**1.3 Comparing structural features to compositional features**\n",
    "\n",
    "**<font color='teal'>c)</font>** Now that you've got structural features and you can get compositional features (use CBFV), let's compare them! Build a Support vector machine regressor model with each feature set and determine which works better. "
   ]
  },
  {
   "cell_type": "code",
   "execution_count": 31,
   "metadata": {},
   "outputs": [
    {
     "name": "stderr",
     "output_type": "stream",
     "text": [
      "Processing Input Data: 100%|██████████| 74/74 [00:00<00:00, 40178.45it/s]\n"
     ]
    },
    {
     "name": "stdout",
     "output_type": "stream",
     "text": [
      "\tFeaturizing Compositions...\n"
     ]
    },
    {
     "name": "stderr",
     "output_type": "stream",
     "text": [
      "Assigning Features...: 100%|██████████| 74/74 [00:00<00:00, 8932.01it/s]\n"
     ]
    },
    {
     "name": "stdout",
     "output_type": "stream",
     "text": [
      "\tCreating Pandas Objects...\n"
     ]
    },
    {
     "name": "stderr",
     "output_type": "stream",
     "text": [
      "Processing Input Data: 100%|██████████| 74/74 [00:00<00:00, 62437.84it/s]\n"
     ]
    },
    {
     "name": "stdout",
     "output_type": "stream",
     "text": [
      "\tFeaturizing Compositions...\n"
     ]
    },
    {
     "name": "stderr",
     "output_type": "stream",
     "text": [
      "Assigning Features...: 100%|██████████| 74/74 [00:00<00:00, 17728.82it/s]\n"
     ]
    },
    {
     "name": "stdout",
     "output_type": "stream",
     "text": [
      "\tCreating Pandas Objects...\n"
     ]
    },
    {
     "name": "stderr",
     "output_type": "stream",
     "text": [
      "Processing Input Data: 100%|██████████| 74/74 [00:00<00:00, 60644.49it/s]\n"
     ]
    },
    {
     "name": "stdout",
     "output_type": "stream",
     "text": [
      "\tFeaturizing Compositions...\n"
     ]
    },
    {
     "name": "stderr",
     "output_type": "stream",
     "text": [
      "Assigning Features...: 100%|██████████| 74/74 [00:00<00:00, 18541.13it/s]"
     ]
    },
    {
     "name": "stdout",
     "output_type": "stream",
     "text": [
      "\tCreating Pandas Objects...\n",
      "R2 score for mat2vec:  0.6973978922963262\n",
      "Mean absolute error for mat2vec:  20.005736798263275\n",
      "Mean squared error for mat2vec:  1781.8341816127736\n",
      "R2 score for magpie:  0.5764099406709824\n",
      "Mean absolute error for magpie:  22.67196463845006\n",
      "Mean squared error for magpie:  2494.256409618072\n",
      "R2 score for oliynyk:  0.6772645361496904\n",
      "Mean absolute error for oliynyk:  19.514916664757273\n",
      "Mean squared error for oliynyk:  1900.3868990571273\n"
     ]
    },
    {
     "name": "stderr",
     "output_type": "stream",
     "text": [
      "\n"
     ]
    }
   ],
   "source": [
    "from sklearn.svm import SVR\n",
    "from sklearn.model_selection import train_test_split\n",
    "from sklearn.metrics import r2_score\n",
    "from sklearn.metrics import mean_absolute_error\n",
    "from sklearn.metrics import mean_squared_error\n",
    "from sklearn.preprocessing import StandardScaler\n",
    "from sklearn.preprocessing import Normalizer\n",
    "import numpy as np\n",
    "from CBFV import composition\n",
    "\n",
    "df.rename(columns={\"bulkModulus\": \"target\"}, inplace=True)\n",
    "\n",
    "xMV, yMV, formulaMV, skippedMV = composition.generate_features(df, elem_prop='mat2vec')\n",
    "xMag, yMag, formulaMag, skippedMag = composition.generate_features(df, elem_prop='magpie')\n",
    "xOli, yOli, formulaOli, skippedOli = composition.generate_features(df, elem_prop='oliynyk')\n",
    "\n",
    "scaler = StandardScaler()\n",
    "normalizer = Normalizer()\n",
    "\n",
    "# split the data into training and test sets\n",
    "dfTrain = df.sample(frac=0.8, random_state=0)\n",
    "dfTest = df.drop(dfTrain.index)\n",
    "\n",
    "# using the index of the df_train vairable index out values from the different model's variables and store them in their respective variables\n",
    "xMVtrain = xMV.drop(dfTest.index)\n",
    "xMVtest = xMV.drop(dfTrain.index)\n",
    "yMVtrain = yMV.drop(dfTest.index)\n",
    "yMVtest = yMV.drop(dfTrain.index)\n",
    "\n",
    "xMagtrain = xMag.drop(dfTest.index)\n",
    "xMagtest = xMag.drop(dfTrain.index)\n",
    "yMagtrain = yMag.drop(dfTest.index)\n",
    "yMagtest = yMag.drop(dfTrain.index)\n",
    "\n",
    "xOlitrain = xOli.drop(dfTest.index)\n",
    "xOlitest = xOli.drop(dfTrain.index)\n",
    "yOlitrain = yOli.drop(dfTest.index)\n",
    "yOlitest = yOli.drop(dfTrain.index)\n",
    "\n",
    "# standardize and normalize the data\n",
    "xMVtrain = scaler.fit_transform(xMVtrain)\n",
    "xMVtest = scaler.transform(xMVtest)\n",
    "xMVtrain = normalizer.fit_transform(xMVtrain)\n",
    "xMVtest = normalizer.transform(xMVtest)\n",
    "\n",
    "xMagtrain = scaler.fit_transform(xMagtrain)\n",
    "xMagtest = scaler.transform(xMagtest)\n",
    "xMagtrain = normalizer.fit_transform(xMagtrain)\n",
    "xMagtest = normalizer.transform(xMagtest)\n",
    "\n",
    "xOlitrain = scaler.fit_transform(xOlitrain)\n",
    "xOlitest = scaler.transform(xOlitest)\n",
    "xOlitrain = normalizer.fit_transform(xOlitrain)\n",
    "xOlitest = normalizer.transform(xOlitest)\n",
    "\n",
    "# create the SVR model for each feature set, train it, and test it, then print the results\n",
    "modelMV = SVR(kernel='linear', C=100)\n",
    "modelMV.fit(xMVtrain, yMVtrain)\n",
    "yMVpred = modelMV.predict(xMVtest)\n",
    "print(\"R2 score for mat2vec: \", r2_score(yMVtest, yMVpred))\n",
    "print(\"Mean absolute error for mat2vec: \", mean_absolute_error(yMVtest, yMVpred))\n",
    "print(\"Mean squared error for mat2vec: \", mean_squared_error(yMVtest, yMVpred))\n",
    "\n",
    "modelMag = SVR(kernel='linear', C=100)\n",
    "modelMag.fit(xMagtrain, yMagtrain)\n",
    "yMagpred = modelMag.predict(xMagtest)\n",
    "print(\"R2 score for magpie: \", r2_score(yMagtest, yMagpred))\n",
    "print(\"Mean absolute error for magpie: \", mean_absolute_error(yMagtest, yMagpred))\n",
    "print(\"Mean squared error for magpie: \", mean_squared_error(yMagtest, yMagpred))\n",
    "\n",
    "modelOli = SVR(kernel='linear', C=100)\n",
    "modelOli.fit(xOlitrain, yOlitrain)\n",
    "yOlipred = modelOli.predict(xOlitest)\n",
    "print(\"R2 score for oliynyk: \", r2_score(yOlitest, yOlipred))\n",
    "print(\"Mean absolute error for oliynyk: \", mean_absolute_error(yOlitest, yOlipred))\n",
    "print(\"Mean squared error for oliynyk: \", mean_squared_error(yOlitest, yOlipred))\n",
    "\n",
    "\n",
    "\n"
   ]
  }
 ],
 "metadata": {
  "kernelspec": {
   "display_name": "Python 3",
   "language": "python",
   "name": "python3"
  },
  "language_info": {
   "codemirror_mode": {
    "name": "ipython",
    "version": 3
   },
   "file_extension": ".py",
   "mimetype": "text/x-python",
   "name": "python",
   "nbconvert_exporter": "python",
   "pygments_lexer": "ipython3",
   "version": "3.12.1"
  }
 },
 "nbformat": 4,
 "nbformat_minor": 2
}
