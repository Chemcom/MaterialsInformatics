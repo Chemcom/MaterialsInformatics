{
 "cells": [
  {
   "cell_type": "markdown",
   "metadata": {},
   "source": [
    "# Naive Bayes\n",
    "\n",
    "Naive Bayes is a probabilistic machine learning algorithm based on Bayes’ Theorem. It is called “naive” because it assumes that the features in a dataset are mutually independent, which is rarely true in real-world data. Despite this naive assumption, Naive Bayes often performs well in practice, especially for classification tasks. In this notebook we will use it to classify an unknown material as an insulator or conductor.\n",
    "\n",
    "#### Video\n",
    "\n",
    "https://www.youtube.com/watch?v=26wC9WmEWlw&list=PLL0SWcFqypCl4lrzk1dMWwTUrzQZFt7y0&index=36 (Naive Bayes and Bayes' Theorem)\n",
    "\n",
    "https://www.youtube.com/watch?v=_mHmo6B6NSw&list=PLL0SWcFqypCl4lrzk1dMWwTUrzQZFt7y0&index=37 (Coding Naive Bayes classifier from scratch)\n",
    "\n",
    "## Setup"
   ]
  },
  {
   "cell_type": "markdown",
   "metadata": {},
   "source": [
    "Let's test out naive Bayes.\n",
    "This notebook uses the old MPRester API."
   ]
  },
  {
   "cell_type": "code",
   "execution_count": null,
   "metadata": {},
   "outputs": [],
   "source": [
    "#first some libraries\n",
    "import pandas as pd\n",
    "from pymatgen.ext.matproj import MPRester\n",
    "import os\n",
    "import matplotlib.pyplot as plt\n",
    "import numpy as np\n",
    "import scipy.stats\n",
    "import matplotlib.gridspec as gridspec"
   ]
  },
  {
   "cell_type": "code",
   "execution_count": null,
   "metadata": {},
   "outputs": [],
   "source": [
    "# Set up MPRester\n",
    "filename = r'G:\\My Drive\\teaching\\5540-6640 Materials Informatics\\old_apikey.txt'\n",
    "\n",
    "def get_file_contents(filename):\n",
    "    try:\n",
    "        with open(filename, 'r') as f:\n",
    "            # It's assumed our file contains a single line,\n",
    "            # with our API key\n",
    "            return f.read().strip()\n",
    "    except FileNotFoundError:\n",
    "        print(\"'%s' file not found\" % filename)\n",
    "\n",
    "\n",
    "Sparks_API = get_file_contents(filename)"
   ]
  },
  {
   "cell_type": "markdown",
   "metadata": {},
   "source": [
    "Now lets grab some data. We'll pick stable metals and stable insulators and collect their density, formation energy, volume, and formulae. We will also print the mean and standard deviation of their density. "
   ]
  },
  {
   "cell_type": "code",
   "execution_count": null,
   "metadata": {},
   "outputs": [],
   "source": [
    "mpr = MPRester(Sparks_API)\n",
    "\n",
    "# Criteria for stable insulators: e_above_hull <= 0.02, band_gap > 0\n",
    "criteria = {'e_above_hull': {'$lte': 0.02}, 'band_gap': {'$gt': 0}}\n",
    "props = ['pretty_formula', 'band_gap', \"density\", 'formation_energy_per_atom', 'volume']\n",
    "entries = mpr.query(criteria=criteria, properties=props)\n",
    "\n",
    "# Create a DataFrame for the found insulators\n",
    "df_insulators = pd.DataFrame(entries)\n",
    "print(f\"Average density of insulators: {df_insulators['density'].mean()}\")\n",
    "print(f\"Standard deviation of density for insulators: {df_insulators['density'].std()}\")\n",
    "\n",
    "# Criteria for stable metals: e_above_hull <= 0.02, band_gap = 0\n",
    "criteria = {'e_above_hull': {'$lte': 0.02}, 'band_gap': {'$eq': 0}}\n",
    "entries = mpr.query(criteria=criteria, properties=props)\n",
    "\n",
    "# Create a DataFrame for the found metals\n",
    "df_metals = pd.DataFrame(entries)\n",
    "print(f\"Average density of metals: {df_metals['density'].mean()}\")\n",
    "print(f\"Standard deviation of density for metals: {df_metals['density'].std()}\")"
   ]
  },
  {
   "cell_type": "markdown",
   "metadata": {},
   "source": [
    "Now let's plot our data as probability distribution functions"
   ]
  },
  {
   "cell_type": "code",
   "execution_count": null,
   "metadata": {},
   "outputs": [],
   "source": [
    "# Plot the Gaussian distributions for density, volume, and formation energy\n",
    "fig = plt.figure(1, figsize=(5,5))\n",
    "gs = gridspec.GridSpec(3,1)\n",
    "gs.update(wspace=0.2, hspace=0.25)\n",
    "\n",
    "# Density plot\n",
    "xtr_subsplot= fig.add_subplot(gs[0:1,0:1])\n",
    "x=np.arange(0,20,0.1)\n",
    "y_metals=scipy.stats.norm(df_metals['density'].mean(), df_metals['density'].std()).pdf(x) #probability distribution function\n",
    "y_ins=scipy.stats.norm(df_insulators['density'].mean(), df_insulators['density'].std()).pdf(x) #probability distribution function\n",
    "plt.plot(x,y_metals)\n",
    "plt.plot(x,y_ins)\n",
    "plt.ylabel(r'$\\rho\\,g/cc$')\n",
    "\n",
    "# Volume plot\n",
    "xtr_subsplot= fig.add_subplot(gs[1:2,0:1])\n",
    "x=np.arange(-1000,5000,0.1)\n",
    "y_metals=scipy.stats.norm(df_metals['volume'].mean(), df_metals['volume'].std()).pdf(x) #probability distribution function\n",
    "y_ins=scipy.stats.norm(df_insulators['volume'].mean(), df_insulators['volume'].std()).pdf(x) #probability distribution function\n",
    "plt.plot(x,y_metals)\n",
    "plt.plot(x,y_ins)\n",
    "plt.ylabel('$V$ Angstroms')\n",
    "\n",
    "# Formation energy plot\n",
    "xtr_subsplot= fig.add_subplot(gs[2:3,0:1])\n",
    "x=np.arange(-4,2,0.1)\n",
    "y_metals=scipy.stats.norm(df_metals['formation_energy_per_atom'].mean(), df_metals['formation_energy_per_atom'].std()).pdf(x) #probability distribution function\n",
    "y_ins=scipy.stats.norm(df_insulators['formation_energy_per_atom'].mean(), df_insulators['formation_energy_per_atom'].std()).pdf(x) #probability distribution function\n",
    "plt.plot(x,y_metals,label='metal')\n",
    "plt.plot(x,y_ins,label='insulator')\n",
    "plt.ylabel('$\\Delta H/atom$ eV')\n",
    "\n",
    "plt.legend()"
   ]
  },
  {
   "cell_type": "markdown",
   "metadata": {},
   "source": [
    "Let's classify a new mystery material based on its density, volume, and formation energy."
   ]
  },
  {
   "cell_type": "code",
   "execution_count": null,
   "metadata": {},
   "outputs": [],
   "source": [
    "# Define the properties of the mystery material\n",
    "density = 4\n",
    "volume = 800\n",
    "formation_energy = -2\n",
    "#is it a metal or insulator???"
   ]
  },
  {
   "cell_type": "markdown",
   "metadata": {},
   "source": [
    "We will classify the mystery material by calculating the probabilities for each property and summing them up."
   ]
  },
  {
   "cell_type": "code",
   "execution_count": null,
   "metadata": {},
   "outputs": [],
   "source": [
    "# Initial guess based on proportion of metals v insulators\n",
    "prior_metals = df_metals['density'].count()/(df_insulators['density'].count()+df_metals['density'].count())\n",
    "prior_insulators = 1-prior_metals\n",
    "print('The first guess based on metal vs insulator proportion.')\n",
    "print('Probability of being metal:',prior_metals)\n",
    "print('Probability of being insulator:',prior_insulators,'\\n')\n",
    "\n",
    "# Probability based on density\n",
    "density_metals = scipy.stats.norm(df_metals['density'].mean(), df_metals['density'].std()).pdf(density)\n",
    "density_insulators = scipy.stats.norm(df_insulators['density'].mean(), df_insulators['density'].std()).pdf(density)\n",
    "print('The second guess based on density.')\n",
    "print('Density likelihood for metal:',density_metals)\n",
    "print('Density likelihood for insulator:',density_insulators,'\\n')\n",
    "\n",
    "# Probability based on volume\n",
    "volume_metals = scipy.stats.norm(df_metals['volume'].mean(), df_metals['volume'].std()).pdf(volume)\n",
    "volume_insulators = scipy.stats.norm(df_insulators['volume'].mean(), df_insulators['volume'].std()).pdf(volume)\n",
    "print('The third guess based on volume.')\n",
    "print('Volume likelihood for metal:',volume_metals)\n",
    "print('Volume likelihood for insulator:',volume_insulators,'\\n')\n",
    "\n",
    "# Probability based on formation energy\n",
    "energy_metals = scipy.stats.norm(df_metals['formation_energy_per_atom'].mean(), df_metals['formation_energy_per_atom'].std()).pdf(formation_energy)\n",
    "energy_insulators = scipy.stats.norm(df_insulators['formation_energy_per_atom'].mean(), df_insulators['formation_energy_per_atom'].std()).pdf(formation_energy)\n",
    "print('The Fourth guess based on formation energy.')\n",
    "print('Energy likelihood for metal:',energy_metals)\n",
    "print('Energy likelihood for insulator:',energy_insulators,'\\n')\n",
    "\n",
    "# Now we add up the log of these probabilities and compare\n",
    "odds_of_metal = np.log(prior_metals)+np.log(density_metals)+np.log(volume_metals)+np.log(energy_metals)\n",
    "odds_of_insulator = np.log(prior_insulators)+np.log(density_insulators)+np.log(volume_insulators)+np.log(energy_insulators)\n",
    "print('Our final guess is based on all of these probabilities combined!')\n",
    "print('The odds of being a metal are:',odds_of_metal)\n",
    "print('The odds of being an insulator are:',odds_of_insulator,'\\n')\n",
    "\n",
    "# Classify the material using the found odds\n",
    "if odds_of_metal > odds_of_insulator:\n",
    "    print('new material is probably a metal!')\n",
    "else:\n",
    "    print('new material is an insulator!')"
   ]
  }
 ],
 "metadata": {
  "kernelspec": {
   "display_name": "Python3.10 (MaterialsInformatics)",
   "language": "python",
   "name": "materialsinformatics"
  },
  "language_info": {
   "codemirror_mode": {
    "name": "ipython",
    "version": 3
   },
   "file_extension": ".py",
   "mimetype": "text/x-python",
   "name": "python",
   "nbconvert_exporter": "python",
   "pygments_lexer": "ipython3",
   "version": "3.11.8"
  }
 },
 "nbformat": 4,
 "nbformat_minor": 2
}
