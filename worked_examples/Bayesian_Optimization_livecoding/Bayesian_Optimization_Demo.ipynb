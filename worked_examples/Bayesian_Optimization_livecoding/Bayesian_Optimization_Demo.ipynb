{
 "cells": [
  {
   "cell_type": "markdown",
   "id": "95152079",
   "metadata": {},
   "source": [
    "# Introduction to Bayesian Optimization\n",
    "\n",
    "In this notebook, we'll explore the basics of Bayesian Optimization, a powerful method for optimizing black-box functions. We'll implement a simple Bayesian Optimization algorithm from scratch using basic libraries like numpy and pandas.\n",
    "\n",
    "## Key Components\n",
    "- **Objective Function**: The function we want to optimize.\n",
    "- **Surrogate Model**: A model that approximates the objective function.\n",
    "- **Acquisition Function**: A function that guides the search for the optimum.\n",
    "\n",
    "![Bayesian Optimization Steps](BO_steps.jpg)"
   ]
  },
  {
   "cell_type": "markdown",
   "id": "0f9d49c1",
   "metadata": {},
   "source": [
    "# Setting Up the Environment\n",
    "\n",
    "Let's start by importing the necessary libraries and setting up some helper functions."
   ]
  },
  {
   "cell_type": "markdown",
   "id": "ecde7a84",
   "metadata": {},
   "source": [
    "# Define the Objective Function\n",
    "\n",
    "We'll define a simple objective function to optimize. For demonstration purposes, we'll use the function \\( f(x) = -x^2 + 4 \\)."
   ]
  },
  {
   "cell_type": "code",
   "execution_count": 9,
   "id": "192cd851",
   "metadata": {},
   "outputs": [
    {
     "name": "stderr",
     "output_type": "stream",
     "text": [
      "C:\\Users\\taylo\\AppData\\Local\\Temp\\ipykernel_18352\\850136223.py:2: DeprecationWarning: \n",
      "Pyarrow will become a required dependency of pandas in the next major release of pandas (pandas 3.0),\n",
      "(to allow more performant data types, such as the Arrow string type, and better interoperability with other libraries)\n",
      "but was not found to be installed on your system.\n",
      "If this would cause problems for you,\n",
      "please provide us feedback at https://github.com/pandas-dev/pandas/issues/54466\n",
      "        \n",
      "  import pandas as pd\n"
     ]
    },
    {
     "data": {
      "image/png": "[encoded data removed]",
      "text/plain": [
       "<Figure size 640x480 with 1 Axes>"
      ]
     },
     "metadata": {},
     "output_type": "display_data"
    }
   ],
   "source": [
    "\n",
    "import numpy as np\n",
    "import pandas as pd\n",
    "import matplotlib.pyplot as plt\n",
    "from scipy.stats import norm\n",
    "from sklearn.gaussian_process import GaussianProcessRegressor\n",
    "from sklearn.gaussian_process.kernels import RBF, ConstantKernel as C\n",
    "\n",
    "# Helper function to plot the objective function\n",
    "def plot_objective(x, y):\n",
    "    plt.plot(x, y, 'r:', label='Objective Function')\n",
    "    plt.xlabel('x')\n",
    "    plt.ylabel('f(x)')\n",
    "    plt.title('Objective Function')\n",
    "    plt.legend()\n",
    "    plt.show()\n",
    "\n",
    "\n",
    "\n",
    "# Define the objective function\n",
    "def objective_function(x):\n",
    "    return -x**2 + 4\n",
    "\n",
    "# Generate data points for visualization\n",
    "x = np.linspace(-3, 3, 100)\n",
    "y = objective_function(x)\n",
    "\n",
    "# Plot the objective function\n",
    "plot_objective(x, y)\n"
   ]
  },
  {
   "cell_type": "markdown",
   "id": "d6e8f647",
   "metadata": {},
   "source": [
    "# Surrogate Model with Gaussian Process\n",
    "\n",
    "We'll use a Gaussian Process (GP) as our surrogate model. The GP will help us model the objective function and make predictions about its behavior."
   ]
  },
  {
   "cell_type": "code",
   "execution_count": 5,
   "id": "d832ad4e",
   "metadata": {},
   "outputs": [
    {
     "name": "stdout",
     "output_type": "stream",
     "text": [
      "Gaussian Kernel between [1] and [2]: 0.6065306597126334\n"
     ]
    }
   ],
   "source": [
    "\n",
    "# Define the Gaussian Process with RBF kernel\n",
    "kernel = C(1.0, (1e-4, 1e1)) * RBF(1.0, (1e-4, 1e1))\n",
    "gp = GaussianProcessRegressor(kernel=kernel, n_restarts_optimizer=10, alpha=1e-2)\n",
    "\n",
    "# Fit to some initial samples (example points)\n",
    "#x_sample = put some initial samples here\n",
    "y_sample = objective_function(x_sample)\n",
    "\n",
    "gp.fit(x_sample, y_sample)\n",
    "\n",
    "# Plot the GP prediction with the objective function\n",
    "x = np.linspace(-3, 3, 100).reshape(-1, 1)\n",
    "mu, sigma = gp.predict(x, return_std=True)\n",
    "\n",
    "plt.plot(x, objective_function(x), 'r:', label='Objective Function')\n",
    "plt.plot(x, mu, 'b-', label='GP Mean')\n",
    "plt.fill_between(x.ravel(), mu - 1.96*sigma, mu + 1.96*sigma, alpha=0.2, color='k')\n",
    "plt.scatter(x_sample, y_sample, c='r', s=50, zorder=10, edgecolors=(0, 0, 0))\n",
    "plt.title('Gaussian Process Regression')\n",
    "plt.legend()\n",
    "plt.show()\n"
   ]
  },
  {
   "cell_type": "markdown",
   "id": "960f177c",
   "metadata": {},
   "source": [
    "# Acquisition Function\n",
    "\n",
    "The acquisition function helps us decide where to sample next. One popular choice is the Expected Improvement (EI) function."
   ]
  },
  {
   "cell_type": "code",
   "execution_count": 6,
   "id": "9a7a204b",
   "metadata": {},
   "outputs": [],
   "source": [
    "\n",
    "# Define the Expected Improvement acquisition function\n",
    "def expected_improvement(x, x_sample, y_sample, gp, xi=0.01):\n",
    "    mu, sigma = gp.predict(x, return_std=True)\n",
    "    mu_sample_opt = np.max(y_sample)\n",
    "\n",
    "    with np.errstate(divide='warn'):\n",
    "        imp = mu - mu_sample_opt - xi\n",
    "        Z = imp / sigma\n",
    "        ei = imp * norm.cdf(Z) + sigma * norm.pdf(Z)\n",
    "        ei[sigma == 0.0] = 0.0\n",
    "\n",
    "    return ei\n",
    "\n",
    "# Example usage of the EI acquisition function\n",
    "#try using the EI acquisition function with some example points!\n",
    "#ei = ...\n",
    "\n",
    "plt.plot(x, ei, label='Expected Improvement')\n",
    "plt.xlabel('x')\n",
    "plt.ylabel('Expected Improvement')\n",
    "plt.title('Acquisition Function')\n",
    "plt.legend()\n",
    "plt.show()\n"
   ]
  },
  {
   "cell_type": "markdown",
   "id": "dbac26c5",
   "metadata": {},
   "source": [
    "# Bayesian Optimization Loop\n",
    "\n",
    "In this section, we'll implement the main loop of Bayesian Optimization, which includes updating the surrogate model and optimizing the acquisition function."
   ]
  },
  {
   "cell_type": "code",
   "execution_count": 7,
   "id": "ada3e9c4",
   "metadata": {},
   "outputs": [],
   "source": [
    "from scipy.optimize import minimize\n",
    "\n",
    "\n",
    "# Function to propose the next sampling point\n",
    "def propose_location(acquisition, x_sample, y_sample, gp, bounds, n_restarts=25):\n",
    "    dim = x_sample.shape[1]\n",
    "    min_val = 1\n",
    "    min_x = None\n",
    "\n",
    "    def min_obj(X):\n",
    "        return -acquisition(X.reshape(-1, 1), x_sample, y_sample, gp)\n",
    "\n",
    "    for x0 in np.random.uniform(bounds[:, 0], bounds[:, 1], size=(n_restarts, dim)):\n",
    "        res = minimize(min_obj, x0=x0, bounds=bounds, method='L-BFGS-B')\n",
    "        if res.fun < min_val:\n",
    "            min_val = res.fun\n",
    "            min_x = res.x\n",
    "\n",
    "    return min_x.reshape(-1, 1)\n",
    "\n",
    "# Define bounds for the search\n",
    "bounds = np.array([[-3.0, 3.0]])\n",
    "\n",
    "# Run the Bayesian Optimization loop\n",
    "# put some initial data here....\n",
    "#x_sample = ...\n",
    "\n",
    "\n",
    "\n",
    "gp.fit(x_sample, y_sample)\n",
    "\n",
    "for i in range(5):\n",
    "    # Propose the next sampling point\n",
    "    x_next = propose_location(expected_improvement, x_sample, y_sample, gp, bounds)\n",
    "    \n",
    "    # Obtain the next sample from the objective function\n",
    "    y_next = objective_function(x_next)\n",
    "    \n",
    "    # Append the sample to previous samples\n",
    "    x_sample = np.vstack((x_sample, x_next))\n",
    "    y_sample = np.vstack((y_sample, y_next))\n",
    "    \n",
    "    # Update the Gaussian Process with new samples\n",
    "    gp.fit(x_sample, y_sample)\n",
    "\n",
    "# Plot the final GP and samples\n",
    "mu, sigma = gp.predict(x, return_std=True)\n",
    "plt.plot(x, objective_function(x), 'r:', label='Objective Function')\n",
    "plt.plot(x, mu, 'b-', label='GP Mean')\n",
    "plt.fill_between(x.ravel(), mu - 1.96*sigma, mu + 1.96*sigma, alpha=0.2, color='k')\n",
    "plt.scatter(x_sample, y_sample, c='r', s=50, zorder=10, edgecolors=(0, 0, 0))\n",
    "plt.title('Bayesian Optimization Final Result')\n",
    "plt.legend()\n",
    "plt.show()\n"
   ]
  },
  {
   "cell_type": "markdown",
   "id": "4394ce92",
   "metadata": {},
   "source": [
    "# Visualization and Analysis\n",
    "\n",
    "Let's visualize the results of our optimization process, including the objective function, surrogate model, and acquisition function."
   ]
  },
  {
   "cell_type": "code",
   "execution_count": 8,
   "id": "cde203eb",
   "metadata": {},
   "outputs": [],
   "source": [
    "\n",
    "# Visualize the final Gaussian Process and samples\n",
    "def plot_gp_final(gp, x, y, x_sample, y_sample):\n",
    "    mu, sigma = gp.predict(x, return_std=True)\n",
    "    plt.plot(x, y, 'r:', label='Objective Function')\n",
    "    plt.plot(x, mu, 'b-', label='GP Mean')\n",
    "    plt.fill_between(x.ravel(), mu - 1.96*sigma, mu + 1.96*sigma, alpha=0.2, color='k')\n",
    "    plt.scatter(x_sample, y_sample, c='r', s=50, zorder=10, edgecolors=(0, 0, 0))\n",
    "    plt.title('Final GP Model')\n",
    "    plt.legend()\n",
    "    plt.show()\n",
    "\n",
    "# Plot the final results\n",
    "#..."
   ]
  }
 ],
 "metadata": {
  "kernelspec": {
   "display_name": "Python 3",
   "language": "python",
   "name": "python3"
  },
  "language_info": {
   "codemirror_mode": {
    "name": "ipython",
    "version": 3
   },
   "file_extension": ".py",
   "mimetype": "text/x-python",
   "name": "python",
   "nbconvert_exporter": "python",
   "pygments_lexer": "ipython3",
   "version": "3.12.1"
  }
 },
 "nbformat": 4,
 "nbformat_minor": 5
}
