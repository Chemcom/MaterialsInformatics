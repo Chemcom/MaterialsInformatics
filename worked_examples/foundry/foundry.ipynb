{
 "cells": [
  {
   "cell_type": "markdown",
   "metadata": {},
   "source": [
    "# Foundry\n",
    "\n",
    "Foundry is an easy-to-use API that allows the use to access a bunch of material science datasets. The data can be loaded very efficiently and without much hassle. This notebook will be similar to deepchem_pubchempy and MP_API in that it will be focused on showing how to access and play around with the datasets."
   ]
  },
  {
   "cell_type": "markdown",
   "metadata": {},
   "source": [
    "## Setup\n",
    "\n",
    "### Imports"
   ]
  },
  {
   "cell_type": "code",
   "execution_count": 52,
   "metadata": {},
   "outputs": [],
   "source": [
    "from foundry import Foundry\n",
    "import pandas as pd"
   ]
  },
  {
   "cell_type": "markdown",
   "metadata": {},
   "source": [
    "## Data Loading \n",
    "\n",
    "First we need to create an instance of foundry to use with the API. use_globus=False just means that we won't be using the Globus integration that foundry offers. This is optional if you want to do this but for this notebook we will not be using it."
   ]
  },
  {
   "cell_type": "code",
   "execution_count": 53,
   "metadata": {},
   "outputs": [],
   "source": [
    "f = Foundry(use_globus=False)"
   ]
  },
  {
   "cell_type": "markdown",
   "metadata": {},
   "source": [
    "Next, we can load our dataset. This can be done in a few different ways. Firstly, you can use f.list() to print off all the avaiable datasets. The other option is to browse their website https://foundry-ml.org/#/datasets or https://www.materialsdatafacility.org/portal which has a very nice UI for finding them. \n",
    "\n",
    "After you have an idea of the dataset that you want you can either copy and paste in the doi from the website or search it within python.\n",
    "\n",
    "If you do not know the doi of the dataset it can be found by searching the name of the datasets as shown. For this notebook we will use the 'Predicting the thermodynamic stability of perovskite oxides using machine learning models' dataset."
   ]
  },
  {
   "cell_type": "code",
   "execution_count": 54,
   "metadata": {},
   "outputs": [
    {
     "data": {
      "text/html": [
       "<div>\n",
       "<style scoped>\n",
       "    .dataframe tbody tr th:only-of-type {\n",
       "        vertical-align: middle;\n",
       "    }\n",
       "\n",
       "    .dataframe tbody tr th {\n",
       "        vertical-align: top;\n",
       "    }\n",
       "\n",
       "    .dataframe thead th {\n",
       "        text-align: right;\n",
       "    }\n",
       "</style>\n",
       "<table border=\"1\" class=\"dataframe\">\n",
       "  <thead>\n",
       "    <tr style=\"text-align: right;\">\n",
       "      <th></th>\n",
       "      <th>dataset_name</th>\n",
       "      <th>title</th>\n",
       "      <th>year</th>\n",
       "      <th>DOI</th>\n",
       "    </tr>\n",
       "  </thead>\n",
       "  <tbody>\n",
       "    <tr>\n",
       "      <th>0</th>\n",
       "      <td>perovskite_stability_v1.1</td>\n",
       "      <td>Predicting the thermodynamic stability of pero...</td>\n",
       "      <td>root=2022</td>\n",
       "      <td>10.18126/qe5y-2dnz</td>\n",
       "    </tr>\n",
       "  </tbody>\n",
       "</table>\n",
       "</div>"
      ],
      "text/plain": [
       "                dataset_name  \\\n",
       "0  perovskite_stability_v1.1   \n",
       "\n",
       "                                               title       year  \\\n",
       "0  Predicting the thermodynamic stability of pero...  root=2022   \n",
       "\n",
       "                  DOI                                     FoundryDataset  \n",
       "0  10.18126/qe5y-2dnz  <foundry.foundry_dataset.FoundryDataset object...  "
      ]
     },
     "execution_count": 54,
     "metadata": {},
     "output_type": "execute_result"
    }
   ],
   "source": [
    "datasets = f.search('Predicting the')\n",
    "datasets"
   ]
  },
  {
   "cell_type": "markdown",
   "metadata": {},
   "source": [
    "This does not always find a specific dataset, it will return a table containing information about all of the datasets that match the query. Most importantly, this table contains both the source_id and the doi number for the dataset we want. We can use these two pieces of information to load the data. Alternatively you can index our the FoundryObject from the datasets variable."
   ]
  },
  {
   "cell_type": "code",
   "execution_count": 55,
   "metadata": {},
   "outputs": [],
   "source": [
    "# loading with the source_id\n",
    "data = f.get_dataset('perovskite_stability_v1.1')"
   ]
  },
  {
   "cell_type": "code",
   "execution_count": 56,
   "metadata": {},
   "outputs": [],
   "source": [
    "# loading with the doi number \n",
    "data = f.get_dataset('10.18126/qe5y-2dnz')"
   ]
  },
  {
   "cell_type": "code",
   "execution_count": 57,
   "metadata": {},
   "outputs": [],
   "source": [
    "# straight indexing\n",
    "data = datasets.iloc[0].FoundryDataset"
   ]
  },
  {
   "cell_type": "markdown",
   "metadata": {},
   "source": [
    "After loading it we have to assign it to variables which will download it. Just as a warning, some of these datasets can be quite large (300mb+) so it's worth checking out the dataset on the website before downloading it. This dataset is only 8.29 MB but it's something to be aware of. "
   ]
  },
  {
   "cell_type": "code",
   "execution_count": 58,
   "metadata": {},
   "outputs": [],
   "source": [
    "X_mp, y_mp = data.get_as_dict()['train']"
   ]
  },
  {
   "cell_type": "markdown",
   "metadata": {},
   "source": [
    "Now that we've loaded our data we can inspect it and see what the data contains. "
   ]
  },
  {
   "cell_type": "code",
   "execution_count": 59,
   "metadata": {},
   "outputs": [
    {
     "data": {
      "text/html": [
       "<div>\n",
       "<style scoped>\n",
       "    .dataframe tbody tr th:only-of-type {\n",
       "        vertical-align: middle;\n",
       "    }\n",
       "\n",
       "    .dataframe tbody tr th {\n",
       "        vertical-align: top;\n",
       "    }\n",
       "\n",
       "    .dataframe thead th {\n",
       "        text-align: right;\n",
       "    }\n",
       "</style>\n",
       "<table border=\"1\" class=\"dataframe\">\n",
       "  <thead>\n",
       "    <tr style=\"text-align: right;\">\n",
       "      <th></th>\n",
       "      <th>Material Composition</th>\n",
       "    </tr>\n",
       "  </thead>\n",
       "  <tbody>\n",
       "    <tr>\n",
       "      <th>count</th>\n",
       "      <td>1929</td>\n",
       "    </tr>\n",
       "    <tr>\n",
       "      <th>unique</th>\n",
       "      <td>1929</td>\n",
       "    </tr>\n",
       "    <tr>\n",
       "      <th>top</th>\n",
       "      <td>Ba1Sr7V8O24</td>\n",
       "    </tr>\n",
       "    <tr>\n",
       "      <th>freq</th>\n",
       "      <td>1</td>\n",
       "    </tr>\n",
       "  </tbody>\n",
       "</table>\n",
       "</div>"
      ],
      "text/plain": [
       "       Material Composition\n",
       "count                  1929\n",
       "unique                 1929\n",
       "top             Ba1Sr7V8O24\n",
       "freq                      1"
      ]
     },
     "execution_count": 59,
     "metadata": {},
     "output_type": "execute_result"
    }
   ],
   "source": [
    "X_mp.describe()"
   ]
  },
  {
   "cell_type": "markdown",
   "metadata": {},
   "source": [
    "This dataset only contains one input value (formula) but we can featurize it to get more inputs to train on. This is a very simple dataset (one input, one output) but the datasets available can get quite large. "
   ]
  },
  {
   "cell_type": "markdown",
   "metadata": {},
   "source": [
    "## Try It Yourself!\n",
    "\n",
    "- Use the foundry API to grab the 'Charting the complete elastic properties of inorganic crystalline compounds' dataset\n",
    "- Load the data and inspect it for what it contains\n",
    "- Featurize the formula column and create a dataframe with those features, nsites, space group, and volume\n",
    "- Assign the target variable to be the average bulk modulus \n",
    "- create train/test splits, standardize the data, and train a random forest model predicting average bulk modulus (K_Voigt)\n",
    "- score it using mean squared error, mean average error, and R2 "
   ]
  },
  {
   "cell_type": "code",
   "execution_count": null,
   "metadata": {},
   "outputs": [],
   "source": []
  }
 ],
 "metadata": {
  "kernelspec": {
   "display_name": "masterENV",
   "language": "python",
   "name": "python3"
  },
  "language_info": {
   "codemirror_mode": {
    "name": "ipython",
    "version": 3
   },
   "file_extension": ".py",
   "mimetype": "text/x-python",
   "name": "python",
   "nbconvert_exporter": "python",
   "pygments_lexer": "ipython3",
   "version": "3.11.8"
  }
 },
 "nbformat": 4,
 "nbformat_minor": 2
}
