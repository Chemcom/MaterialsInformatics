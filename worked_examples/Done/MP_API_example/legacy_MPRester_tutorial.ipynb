{
 "cells": [
  {
   "cell_type": "markdown",
   "id": "9009686e",
   "metadata": {},
   "source": [
    "# Legacy MPRester Tutorial\n",
    "\n",
    "In this notebook we will cover the basics of using the legacy MPRester API in order to load materials science data. MPRester has two APIs. One is the current modern version and the other is the legacy API. There are notebooks for both. Most of the notebooks in this course will be using the legacy API. \n",
    "\n",
    "#### Video\n",
    "\n",
    "https://www.youtube.com/watch?v=Vuu7bNzmL8g&list=PLL0SWcFqypCl4lrzk1dMWwTUrzQZFt7y0&index=8 (Materials Data Access (Materials Project API Example)\n",
    "\n",
    "\n",
    "Reminder, when running this example I need to open cmd line for miniconda since that's where I installed pymatgen module. From cmd line the following command \"conda activate my_pymatgen\" will open the environment followed by \"Jupyter Notebook\" to open the Jupyter platform."
   ]
  },
  {
   "cell_type": "code",
   "execution_count": null,
   "id": "2eebaf36",
   "metadata": {},
   "outputs": [],
   "source": [
    "#Sparks_API = 'XXXXX' #put your API here"
   ]
  },
  {
   "cell_type": "code",
   "execution_count": null,
   "id": "1d77b8fa",
   "metadata": {},
   "outputs": [],
   "source": [
    "import pandas as pd\n",
    "from pymatgen.ext.matproj import MPRester\n",
    "import os\n",
    "# Copy and paste the path to your old API key file here. If you do not have an API key file, you can create a text file and paste the key into it.\n",
    "filename = r'G:\\My Drive\\teaching\\5540-6640 Materials Informatics\\old_apikey.txt'\n",
    "\n",
    "def get_file_contents(filename):\n",
    "    try:\n",
    "        with open(filename, 'r') as f:\n",
    "            # It's assumed our file contains a single line,\n",
    "            # with our API key\n",
    "            return f.read().strip()\n",
    "    except FileNotFoundError:\n",
    "        print(\"'%s' file not found\" % filename)\n",
    "\n",
    "\n",
    "Sparks_API = get_file_contents(filename)"
   ]
  },
  {
   "cell_type": "code",
   "execution_count": null,
   "id": "196ccba8",
   "metadata": {
    "scrolled": true
   },
   "outputs": [],
   "source": [
    "import pymatgen.core as mg\n",
    "si = mg.Element(\"Si\")\n",
    "print('Silicon has atomic mass of:', si.atomic_mass)"
   ]
  },
  {
   "cell_type": "markdown",
   "id": "1814367f",
   "metadata": {},
   "source": [
    "The API for Materials Project recently (2022) was updated. You can read about the differences between new and old with API Key and install instructions for each.\n",
    "https://docs.materialsproject.org/downloading-data/differences-between-new-and-legacy-api\n",
    "\n",
    "For this class, let's use the new API which you can read about here https://api.materialsproject.org/docs\n",
    "\n",
    "To install, in miniconda in your My_Pymatgen environment run the command 'pip install mp-api'\n",
    "\n",
    "First, I had to update pydantic with the following code 'pip install pydantic==2.0'\n",
    "\n"
   ]
  },
  {
   "cell_type": "code",
   "execution_count": null,
   "id": "0a53e08d",
   "metadata": {
    "scrolled": true
   },
   "outputs": [],
   "source": [
    "#this works with the old legacy MPRester\n",
    "from pymatgen.ext.matproj import MPRester\n",
    "\n",
    "with MPRester(Sparks_API) as mpr:\n",
    "    list_ids = mpr.get_materials_ids(\"TaC\")\n",
    "    print('All compounds in the Ta-C system are: ', mpr.get_materials_ids('Ta-C'))"
   ]
  },
  {
   "cell_type": "markdown",
   "id": "9eda7269",
   "metadata": {},
   "source": [
    "Or we can pull data from a specific materials project id"
   ]
  },
  {
   "cell_type": "code",
   "execution_count": null,
   "id": "e18bf54d",
   "metadata": {},
   "outputs": [],
   "source": [
    "for i_d in list_ids:\n",
    "    with MPRester(Sparks_API) as mpr:\n",
    "        structure = mpr.get_structure_by_material_id(i_d)\n",
    "        print(structure)\n",
    "\n",
    "\n",
    "with MPRester(Sparks_API) as mpr:\n",
    "    structure = mpr.get_structure_by_material_id('mp-1086')\n",
    "    print(structure)\n",
    "    cohesive_energy = mpr.get_cohesive_energy('mp-1086')\n",
    "    print(cohesive_energy)\n"
   ]
  },
  {
   "cell_type": "markdown",
   "id": "dd8281c3",
   "metadata": {},
   "source": [
    "We can search for a materials project entry using a cif card"
   ]
  },
  {
   "cell_type": "code",
   "execution_count": null,
   "id": "94a62b76",
   "metadata": {},
   "outputs": [],
   "source": [
    "import os\n",
    "mpr = MPRester(Sparks_API)\n",
    "ciffile = os.path.join('9008565.cif')\n",
    "data1 = mpr.find_structure(ciffile)\n",
    "print(data1)"
   ]
  },
  {
   "cell_type": "markdown",
   "id": "0960cfb1",
   "metadata": {},
   "source": [
    "How do we do queries though? What if we want to find all carbides having either Ta, Nb, or W?\n",
    "We need to use the MPRester.query method!\n",
    "This uses MongoDB's query syntax  --> mpr.query(criteria, properties)"
   ]
  },
  {
   "cell_type": "code",
   "execution_count": null,
   "id": "0b791e6b",
   "metadata": {},
   "outputs": [],
   "source": [
    "mpr = MPRester(Sparks_API)\n",
    "#mpr.query('SiO2',['material_id','density'])\n",
    "#mpr.query('**O3',['pretty_formula','material_id'])\n",
    "mpr.query({'chemsys':'O-Si'},['material_id'])"
   ]
  },
  {
   "cell_type": "code",
   "execution_count": null,
   "id": "d0b4973b",
   "metadata": {},
   "outputs": [],
   "source": [
    "#example from John Dagdelen 2019 MP Workshop https://youtu.be/dsDOa_fgE7A\n",
    "import matplotlib.pyplot as plt\n",
    "%matplotlib inline\n",
    "with MPRester(Sparks_API) as mpr:\n",
    "    entries = mpr.query('Ta-C',['material_id','spacegroup.crystal_system'])\n",
    "    systems = [entry['spacegroup.crystal_system'] for entry in entries]\n",
    "    counts = {}\n",
    "    \n",
    "    for system in systems:\n",
    "        if system in counts:\n",
    "            counts[system] += 1\n",
    "        else:\n",
    "            counts[system] = 1    \n",
    "    plt.bar(range(len(counts)), counts.values())\n",
    "    plt.xticks(range(len(counts)), [key[0:7] for key in counts.keys()])\n",
    "    "
   ]
  },
  {
   "cell_type": "code",
   "execution_count": null,
   "id": "d90805c8",
   "metadata": {
    "scrolled": false
   },
   "outputs": [],
   "source": [
    "#example from Wenhao Sun https://wenhaosun.github.io/docs/MSE593/\n",
    "#from pymatgen.analysis.phase_diagram import PhaseDiagram, PDPlotter\n",
    "#import math\n",
    "#This initializes the REST adaptor. Put your own API key in.\n",
    "#mpr = MPRester(Sparks_API)\n",
    " \n",
    "#Entries are the basic unit for thermodynamic and other analyses in pymatgen.\n",
    "#This gets all entries belonging to the Ca-O system.\n",
    "#entries = mpr.get_entries_in_chemsys(['Ca', 'La', 'S'])\n",
    "\n",
    "#With entries, you can do many sophisticated analyses, \n",
    "#like creating phase diagrams.\n",
    "#pd = PhaseDiagram(entries)\n",
    "#plotter = PDPlotter(pd)\n",
    "#plotter.show()"
   ]
  },
  {
   "cell_type": "code",
   "execution_count": null,
   "id": "052e087e",
   "metadata": {},
   "outputs": [],
   "source": [
    "#entries = mpr.get_entries_in_chemsys(['Mo', 'B', 'C'])\n",
    "\n",
    "#With entries, you can do many sophisticated analyses, \n",
    "#like creating phase diagrams.\n",
    "#pd = PhaseDiagram(entries)\n",
    "#plotter = PDPlotter(pd)\n",
    "#plotter.show()"
   ]
  },
  {
   "cell_type": "code",
   "execution_count": null,
   "id": "fb924e42",
   "metadata": {},
   "outputs": [],
   "source": [
    "#example from Wenhao Sun https://wenhaosun.github.io/docs/MSE593/\n",
    "from pymatgen.ext.matproj import MPRester\n",
    "\n",
    "mpr = MPRester(Sparks_API)\n",
    "\n",
    "criteria = {'elements':{\"$in\":[\"Li\", \"Na\", \"K\"], \"$all\": [\"O\"]}, #All compounds contain O, and must have Li or Na or K\n",
    "\t\t\t'nelements':3,\n",
    "            'icsd_ids': {'$gte': 0},\n",
    "            'e_above_hull': {'$lte': 0.01},\n",
    "            'anonymous_formula': {\"A\": 1, \"B\": 1, \"C\": 3},\n",
    "            \"band_gap\": {\"$gt\": 1}\n",
    "            }\n",
    "\n",
    "        # The properties and the criteria use MaterialsProject features \n",
    "        # You can see what is queryable from the MP API documentation: \n",
    "        # https://github.com/materialsproject/mapidoc/tree/master/materials\n",
    "        \n",
    "        # The criteria uses mongodb query language. See here \n",
    "        # for more details: https://docs.mongodb.com/manual/reference/operator/query/\n",
    "\n",
    "props = ['structure', \"material_id\",'pretty_formula','e_above_hull',\"band_gap\",\"band_structure\"]\n",
    "entries = mpr.query(criteria=criteria, properties=props)\n",
    "\n",
    "print(len(entries))\n",
    "\n",
    "for e in entries:\n",
    "    print(e['pretty_formula'])\n",
    "    print(e['band_gap'])\n",
    "    print(e)\n",
    "    break"
   ]
  },
  {
   "cell_type": "markdown",
   "id": "f38f7d4d",
   "metadata": {},
   "source": [
    "# Now you try it!"
   ]
  },
  {
   "cell_type": "markdown",
   "id": "801e7177",
   "metadata": {},
   "source": [
    "Let's find your favorite structure in the Crystallographic Open Database, and then use MPRester API to find all entries in the Materials Project that have the same structure type\n"
   ]
  },
  {
   "cell_type": "code",
   "execution_count": null,
   "id": "51cf055f",
   "metadata": {},
   "outputs": [],
   "source": [
    "#hint! the .get_structure_by_material_id() method is useful here\n",
    "#hint! the .get_space_group_info() method is useful here\n",
    "#hint! the .get_entry_by_material_id() method is useful here\n",
    "#hint! consider using a search criteria that enforces the same space group and the same anonymous formula\n",
    "\n"
   ]
  }
 ],
 "metadata": {
  "kernelspec": {
   "display_name": "Python 3 (ipykernel)",
   "language": "python",
   "name": "python3"
  },
  "language_info": {
   "codemirror_mode": {
    "name": "ipython",
    "version": 3
   },
   "file_extension": ".py",
   "mimetype": "text/x-python",
   "name": "python",
   "nbconvert_exporter": "python",
   "pygments_lexer": "ipython3",
   "version": "3.11.8"
  }
 },
 "nbformat": 4,
 "nbformat_minor": 5
}
