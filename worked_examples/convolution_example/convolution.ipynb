{
 "cells": [
  {
   "cell_type": "markdown",
   "metadata": {},
   "source": [
    "# Convolutions\n",
    "\n",
    "Convolutions are a way to apply a filter to a matrix or image using a defined kernel. This filter can highlight certain attributes or features of the matrix or image. Convolutions are often used in Convolutional Neural Networks (CNN).\n",
    "\n",
    "In this notebook we will go over how dilated convolutions work and different kernels that can be applied."
   ]
  },
  {
   "cell_type": "code",
   "execution_count": null,
   "metadata": {},
   "outputs": [],
   "source": [
    "#example taken from https://www.geeksforgeeks.org/dilated-convolution/\n",
    "import numpy as np\n",
    "import tensorflow as tf\n",
    "import sys\n",
    "from  scipy.signal import convolve2d\n",
    " \n",
    "np.random.seed(678)\n",
    "tf.random.set_seed(6789)\n",
    "sess = tf.compat.v1.Session()"
   ]
  },
  {
   "cell_type": "markdown",
   "metadata": {},
   "source": [
    "### Set up our matrix and add 1's in the middle to create a difference in pixel value"
   ]
  },
  {
   "cell_type": "code",
   "execution_count": null,
   "metadata": {},
   "outputs": [],
   "source": [
    "# Initializing a 9x9 matrix of zeros.\n",
    "mat_size = 9\n",
    "matrix = np.zeros((mat_size,mat_size)).astype(np.float32)\n",
    " \n",
    "# Assigning 1's in the middle of matrix\n",
    "# to create a random input matrix\n",
    "for x in range(4,7):\n",
    "    for y in range(3,6):\n",
    "        matrix[y,x] = 1\n",
    " "
   ]
  },
  {
   "cell_type": "markdown",
   "metadata": {},
   "source": [
    "### Experimental Kernel"
   ]
  },
  {
   "cell_type": "code",
   "execution_count": null,
   "metadata": {},
   "outputs": [],
   "source": [
    "# Creating an experimental kernel for test\n",
    "kernel = np.array([\n",
    "    [1,2,3],\n",
    "    [4,5,6],\n",
    "    [7,8,9]\n",
    "]).astype(np.float32)"
   ]
  },
  {
   "cell_type": "markdown",
   "metadata": {},
   "source": [
    "### Edge Detection Kernel\n",
    "\n",
    "Edge detection kernels are used for cases when you want to detect edges in images/matrices. Edge kernels accomplish this by highlighting regions where there is a change in intensity and contrast. It makes the edges stand out while setting uniform areas to near-zero values."
   ]
  },
  {
   "cell_type": "code",
   "execution_count": null,
   "metadata": {},
   "outputs": [],
   "source": [
    "kernel = np.array([\n",
    "        [-1, -1, -1],\n",
    "        [-1,  8, -1],\n",
    "        [-1, -1, -1]\n",
    "    ]).astype(np.float32)"
   ]
  },
  {
   "cell_type": "markdown",
   "metadata": {},
   "source": [
    "### Blurring Kernel \n",
    "\n",
    "Smooths out an image/matrix by averageing pixel values. This reduces noise and detail. By averaging the values it creates a 'blurred' effect.\n"
   ]
  },
  {
   "cell_type": "code",
   "execution_count": null,
   "metadata": {},
   "outputs": [],
   "source": [
    "kernel = np.array([\n",
    "    [1/9, 1/9, 1/9],\n",
    "    [1/9, 1/9, 1/9],\n",
    "    [1/9, 1/9, 1/9]\n",
    "]).astype(np.float32)"
   ]
  },
  {
   "cell_type": "markdown",
   "metadata": {},
   "source": [
    "### Sharpening Kernel \n",
    "\n",
    "Sharpens edges and details in the image/matrix. Increases contrast and intensity changes at edges and transitions between groups. Amplifies the difference between neighboring pixel values. "
   ]
  },
  {
   "cell_type": "code",
   "execution_count": null,
   "metadata": {},
   "outputs": [],
   "source": [
    "kernel = np.array([\n",
    "    [0, -1, 0],\n",
    "    [-1, 5, -1],\n",
    "    [0, -1, 0]\n",
    "]).astype(np.float32)"
   ]
  },
  {
   "cell_type": "code",
   "execution_count": null,
   "metadata": {},
   "outputs": [],
   "source": [
    "# self-initializing a dilated kernel.\n",
    "# ======[dilation factor = 3]======\n",
    "dilated_kernel = np.array([\n",
    "    [1,0,0,2,0,0,3],\n",
    "    [0,0,0,0,0,0,0],\n",
    "    [0,0,0,0,0,0,0],\n",
    "    [4,0,0,5,0,0,6],\n",
    "    [0,0,0,0,0,0,0],\n",
    "    [0,0,0,0,0,0,0],\n",
    "    [7,0,0,8,0,0,9]\n",
    "])\n",
    " \n",
    "print('\\n')\n",
    "print(\"Dilated kernel Shape : \",dilated_kernel.shape)\n",
    "print(dilated_kernel)\n",
    " \n",
    "print('\\n')\n",
    "print(\"DILATED CONVOLUTION RESULTS [Dilation Factor = 3]\")\n",
    "output = convolve2d(matrix,dilated_kernel,mode='valid')\n",
    "print(\"Numpy Results Shape: \",output.shape)\n",
    "print(output)"
   ]
  },
  {
   "cell_type": "markdown",
   "metadata": {},
   "source": [
    "# Try it yourself!\n",
    "\n",
    "- Use each of the different kernels to see how the resulting image varies. Plot the resulting matrix to help visualize what each kernel is doing. \n",
    "- What scenarios might each kernel be useful?"
   ]
  },
  {
   "cell_type": "code",
   "execution_count": null,
   "metadata": {},
   "outputs": [],
   "source": [
    "# Hint: Use matplotlib to visualize the results. Use cmap to make the image grayscale\n",
    "# Initializing a 9x9 matrix of zeros.\n",
    "mat_size = 9\n",
    "matrix = np.zeros((mat_size,mat_size)).astype(np.float32)\n",
    " \n",
    "# Assigning 1's in the middle of matrix\n",
    "# to create a random input matrix\n",
    "for x in range(4,7):\n",
    "    for y in range(3,6):\n",
    "        matrix[y,x] = 1\n",
    " \n",
    " "
   ]
  },
  {
   "cell_type": "code",
   "execution_count": null,
   "metadata": {},
   "outputs": [],
   "source": [
    "# Example of how to use matplotlib to visualize the original matrix\n",
    "import matplotlib.pyplot as plt\n",
    "plt.imshow(matrix, cmap='gray')\n",
    "plt.colorbar()\n",
    "plt.show()\n"
   ]
  }
 ],
 "metadata": {
  "kernelspec": {
   "display_name": "nanohub",
   "language": "python",
   "name": "python3"
  },
  "language_info": {
   "codemirror_mode": {
    "name": "ipython",
    "version": 3
   },
   "file_extension": ".py",
   "mimetype": "text/x-python",
   "name": "python",
   "nbconvert_exporter": "python",
   "pygments_lexer": "ipython3",
   "version": "3.12.2"
  }
 },
 "nbformat": 4,
 "nbformat_minor": 2
}
