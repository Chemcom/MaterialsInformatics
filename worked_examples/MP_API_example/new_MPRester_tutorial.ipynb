{
 "cells": [
  {
   "cell_type": "markdown",
   "id": "9009686e",
   "metadata": {},
   "source": [
    "The python environment I used for this was called My_New_Pymatgen in miniconda. The only package required was `pip install mp-api`\n",
    "\n",
    "Note: The old vs new Materials Project API's have two different API Keys. Use the correct one. https://next-gen.materialsproject.org/api"
   ]
  },
  {
   "cell_type": "code",
   "execution_count": 1,
   "id": "1d77b8fa",
   "metadata": {},
   "outputs": [],
   "source": [
    "import pandas as pd\n",
    "import os\n",
    "\n",
    "filename = r'/Users/stanleywessman/Downloads/apikey.txt'\n",
    "\n",
    "def get_file_contents(filename):\n",
    "    try:\n",
    "        with open(filename, 'r') as f:\n",
    "            # It's assumed our file contains a single line,\n",
    "            # with our API key\n",
    "            return f.read().strip()\n",
    "    except FileNotFoundError:\n",
    "        print(\"'%s' file not found\" % filename)\n",
    "\n",
    "\n",
    "Sparks_API = get_file_contents(filename)"
   ]
  },
  {
   "cell_type": "code",
   "execution_count": 2,
   "id": "196ccba8",
   "metadata": {
    "scrolled": true
   },
   "outputs": [
    {
     "name": "stdout",
     "output_type": "stream",
     "text": [
      "Silicon has atomic mass of: 28.0855 amu\n"
     ]
    }
   ],
   "source": [
    "import pymatgen.core as mg\n",
    "si = mg.Element(\"Si\")\n",
    "print('Silicon has atomic mass of:', si.atomic_mass)"
   ]
  },
  {
   "cell_type": "markdown",
   "id": "1814367f",
   "metadata": {},
   "source": [
    "The API for Materials Project recently (2022) was updated. You can read about the differences between new and old with API Key and install instructions for each.\n",
    "https://docs.materialsproject.org/downloading-data/differences-between-new-and-legacy-api\n",
    "\n",
    "For this class, let's use the new API which you can read about here https://api.materialsproject.org/docs\n",
    "\n",
    "To install, in miniconda in your My_Pymatgen environment run the command 'pip install mp-api'\n",
    "\n",
    "First, I had to update pydantic with the following code 'pip install pydantic==2.0'\n",
    "\n"
   ]
  },
  {
   "cell_type": "code",
   "execution_count": 3,
   "id": "0a53e08d",
   "metadata": {
    "scrolled": true
   },
   "outputs": [
    {
     "name": "stderr",
     "output_type": "stream",
     "text": [
      "/Users/stanleywessman/miniconda3/envs/newMP/lib/python3.12/site-packages/tqdm/auto.py:21: TqdmWarning: IProgress not found. Please update jupyter and ipywidgets. See https://ipywidgets.readthedocs.io/en/stable/user_install.html\n",
      "  from .autonotebook import tqdm as notebook_tqdm\n",
      "Retrieving MaterialsDoc documents: 100%|██████████| 4/4 [00:00<00:00, 25305.00it/s]\n",
      "Retrieving MaterialsDoc documents: 100%|██████████| 10/10 [00:00<00:00, 226719.14it/s]"
     ]
    },
    {
     "name": "stdout",
     "output_type": "stream",
     "text": [
      "All compounds in the Ta-C system are:  [MPID(mp-1086), MPID(mp-7088), MPID(mp-1009817), MPID(mp-1009832), MPID(mp-1009835), MPID(mp-1025192), MPID(mp-1187218), MPID(mp-1217774), MPID(mp-1218000), MPID(mp-1218120)]\n"
     ]
    },
    {
     "name": "stderr",
     "output_type": "stream",
     "text": [
      "\n"
     ]
    }
   ],
   "source": [
    "#this works with the old legacy MPRester\n",
    "from mp_api.client import MPRester\n",
    "\n",
    "with MPRester(Sparks_API) as mpr:\n",
    "    list_ids = mpr.get_materials_ids(\"TaC\")\n",
    "    print('All compounds in the Ta-C system are: ', mpr.get_materials_ids('Ta-C'))"
   ]
  },
  {
   "cell_type": "markdown",
   "id": "9eda7269",
   "metadata": {},
   "source": [
    "Or we can pull data from a specific materials project id"
   ]
  },
  {
   "cell_type": "code",
   "execution_count": 4,
   "id": "e18bf54d",
   "metadata": {},
   "outputs": [
    {
     "name": "stderr",
     "output_type": "stream",
     "text": [
      "Retrieving MaterialsDoc documents: 100%|██████████| 1/1 [00:00<00:00, 28532.68it/s]\n"
     ]
    },
    {
     "name": "stdout",
     "output_type": "stream",
     "text": [
      "Full Formula (Ta1 C1)\n",
      "Reduced Formula: TaC\n",
      "abc   :   3.159209   3.159208   3.159208\n",
      "angles:  60.000001  60.000008  59.999999\n",
      "pbc   :       True       True       True\n",
      "Sites (2)\n",
      "  #  SP       a    b    c    magmom\n",
      "---  ----  ----  ---  ---  --------\n",
      "  0  Ta    -0    0    0          -0\n",
      "  1  C      0.5  0.5  0.5         0\n"
     ]
    },
    {
     "name": "stderr",
     "output_type": "stream",
     "text": [
      "Retrieving MaterialsDoc documents: 100%|██████████| 1/1 [00:00<00:00, 20360.70it/s]\n"
     ]
    },
    {
     "name": "stdout",
     "output_type": "stream",
     "text": [
      "Full Formula (Ta1 C1)\n",
      "Reduced Formula: TaC\n",
      "abc   :   3.057398   3.057398   2.880879\n",
      "angles:  90.000000  90.000000 119.999994\n",
      "pbc   :       True       True       True\n",
      "Sites (2)\n",
      "  #  SP           a         b    c    magmom\n",
      "---  ----  --------  --------  ---  --------\n",
      "  0  Ta    0.666667  0.333333  0       0.011\n",
      "  1  C     0         0         0.5    -0\n"
     ]
    },
    {
     "name": "stderr",
     "output_type": "stream",
     "text": [
      "Retrieving MaterialsDoc documents: 100%|██████████| 1/1 [00:00<00:00, 20460.02it/s]\n"
     ]
    },
    {
     "name": "stdout",
     "output_type": "stream",
     "text": [
      "Full Formula (Ta1 C1)\n",
      "Reduced Formula: TaC\n",
      "abc   :   3.421388   3.421388   3.421388\n",
      "angles:  60.000000  60.000000  60.000000\n",
      "pbc   :       True       True       True\n",
      "Sites (2)\n",
      "  #  SP       a     b     c    magmom\n",
      "---  ----  ----  ----  ----  --------\n",
      "  0  Ta    0     0     0            0\n",
      "  1  C     0.25  0.25  0.25        -0\n"
     ]
    },
    {
     "name": "stderr",
     "output_type": "stream",
     "text": [
      "Retrieving MaterialsDoc documents: 100%|██████████| 1/1 [00:00<00:00, 21399.51it/s]\n"
     ]
    },
    {
     "name": "stdout",
     "output_type": "stream",
     "text": [
      "Full Formula (Ta1 C1)\n",
      "Reduced Formula: TaC\n",
      "abc   :   2.797247   2.797247   2.797247\n",
      "angles:  90.000000  90.000000  90.000000\n",
      "pbc   :       True       True       True\n",
      "Sites (2)\n",
      "  #  SP      a    b    c    magmom\n",
      "---  ----  ---  ---  ---  --------\n",
      "  0  Ta    0    0    0           0\n",
      "  1  C     0.5  0.5  0.5        -0\n"
     ]
    },
    {
     "name": "stderr",
     "output_type": "stream",
     "text": [
      "Retrieving MaterialsDoc documents: 100%|██████████| 1/1 [00:00<00:00, 21290.88it/s]"
     ]
    },
    {
     "name": "stdout",
     "output_type": "stream",
     "text": [
      "Full Formula (Ta1 C1)\n",
      "Reduced Formula: TaC\n",
      "abc   :   3.159209   3.159208   3.159208\n",
      "angles:  60.000001  60.000008  59.999999\n",
      "pbc   :       True       True       True\n",
      "Sites (2)\n",
      "  #  SP       a    b    c    magmom\n",
      "---  ----  ----  ---  ---  --------\n",
      "  0  Ta    -0    0    0          -0\n",
      "  1  C      0.5  0.5  0.5         0\n"
     ]
    },
    {
     "name": "stderr",
     "output_type": "stream",
     "text": [
      "\n"
     ]
    }
   ],
   "source": [
    "for i_d in list_ids:\n",
    "    with MPRester(Sparks_API) as mpr:\n",
    "        structure = mpr.get_structure_by_material_id(i_d)\n",
    "        print(structure)\n",
    "\n",
    "\n",
    "with MPRester(Sparks_API) as mpr:\n",
    "    structure = mpr.get_structure_by_material_id('mp-1086')\n",
    "    print(structure)\n",
    "    \n"
   ]
  },
  {
   "cell_type": "markdown",
   "id": "0960cfb1",
   "metadata": {},
   "source": [
    "How do we do queries though? What if we want to find all carbides having either Ta, Nb, or W?\n",
    "We need to use the MPRester.summary.search method!\n",
    "https://docs.materialsproject.org/downloading-data/using-the-api/querying-data\n",
    "\n",
    "By default it grabs ALL the property data available, but you can also tell it to only grab a few specific fields. Some students report errors if you leave the fields blank and found that it worked if you provided fields. \n"
   ]
  },
  {
   "cell_type": "code",
   "execution_count": 5,
   "id": "0b791e6b",
   "metadata": {},
   "outputs": [
    {
     "name": "stderr",
     "output_type": "stream",
     "text": [
      "/var/folders/9c/cqj0b8vx1l92m5mq0cczrw480000gn/T/ipykernel_22578/2188705723.py:3: DeprecationWarning: Accessing summary data through MPRester.summary is deprecated. Please use MPRester.materials.summary instead.\n",
      "  docs = mpr.summary.search(elements=['Si','O'],band_gap=(0.85,1))\n",
      "Retrieving SummaryDoc documents: 100%|██████████| 122/122 [00:00<00:00, 3818694.69it/s]\n",
      "/var/folders/9c/cqj0b8vx1l92m5mq0cczrw480000gn/T/ipykernel_22578/2188705723.py:6: DeprecationWarning: Accessing summary data through MPRester.summary is deprecated. Please use MPRester.materials.summary instead.\n",
      "  docs = mpr.summary.search(elements=['Si','O'],band_gap=(0.85,1),fields=[\"material_id\",\"density\",\"symmetry\"])\n"
     ]
    },
    {
     "name": "stdout",
     "output_type": "stream",
     "text": [
      "\u001b[4m\u001b[1mMPDataDoc<SummaryDoc>\u001b[0;0m\u001b[0;0m\n",
      "\u001b[1mbuilder_meta\u001b[0;0m=EmmetMeta(emmet_version='0.72.20', pymatgen_version='2023.11.12', pull_request=990, database_version='2023.11.1', build_date=datetime.datetime(2023, 11, 22, 19, 38, 22, 478000), license='BY-C'),\n",
      "\u001b[1mnsites\u001b[0;0m=102,\n",
      "\u001b[1melements\u001b[0;0m=[Element Ca, Element Nb, Element O, Element S, Element Si],\n",
      "\u001b[1mnelements\u001b[0;0m=5,\n",
      "\u001b[1mcomposition\u001b[0;0m=Composition('Ca6 Nb6 Si3 S15 O72'),\n",
      "\u001b[1mcomposition_reduced\u001b[0;0m=Composition('Ca2 Nb2 Si1 S5 O24'),\n",
      "\u001b[1mformula_pretty\u001b[0;0m='Ca2Nb2SiS5O24',\n",
      "\u001b[1mformula_anonymous\u001b[0;0m='AB2C2D5E24',\n",
      "\u001b[1mchemsys\u001b[0;0m='Ca-Nb-O-S-Si',\n",
      "\u001b[1mvolume\u001b[0;0m=1675.7584779384497,\n",
      "\u001b[1mdensity\u001b[0;0m=2.4922522316114564,\n",
      "\u001b[1mdensity_atomic\u001b[0;0m=16.429004685671075,\n",
      "\u001b[1msymmetry\u001b[0;0m=SymmetryData(crystal_system=<CrystalSystem.tri: 'Triclinic'>, symbol='P1', number=1, point_group='1', symprec=0.1, version='2.0.2'),\n",
      "\u001b[1mproperty_name\u001b[0;0m='summary',\n",
      "\u001b[1mmaterial_id\u001b[0;0m=MPID(mp-2713035),\n",
      "\u001b[1mdeprecated\u001b[0;0m=False,\n",
      "\u001b[1mdeprecation_reasons\u001b[0;0m=None,\n",
      "\u001b[1mlast_updated\u001b[0;0m=datetime.datetime(2023, 11, 22, 19, 38, 22, 479000),\n",
      "\u001b[1morigins\u001b[0;0m=[PropertyOrigin(name='structure', task_id=MPID(mp-2713035), last_updated=datetime.datetime(2022, 6, 30, 6, 43, 40, 361000)), PropertyOrigin(name='energy', task_id=MPID(mp-2713035), last_updated=datetime.datetime(2023, 8, 3, 21, 27, 14, 734000)), PropertyOrigin(name='electronic_structure', task_id=MPID(mp-2713035), last_updated=datetime.datetime(2022, 6, 30, 6, 43, 40, 361000)), PropertyOrigin(name='magnetism', task_id=MPID(mp-2713035), last_updated=datetime.datetime(2022, 6, 30, 6, 43, 40, 361000))],\n",
      "\u001b[1mwarnings\u001b[0;0m=[],\n",
      "\u001b[1mstructure\u001b[0;0m=Structure Summary\n",
      "Lattice\n",
      "    abc : 9.13153421616752 9.136127032898383 23.211872844389497\n",
      " angles : 89.91187243049413 90.24917170226824 120.07553063506694\n",
      " volume : 1675.7584779384497\n",
      "      A : 9.13150976 -0.00734806 -0.0198154\n",
      "      B : -4.57212178 7.90977053 0.00705357\n",
      "      C : -0.05058259 -0.00869974 23.2118161\n",
      "    pbc : True True True\n",
      "PeriodicSite: Ca (9.099, -0.003701, 8.453) [0.9989, 0.0008616, 0.365]\n",
      "PeriodicSite: Ca (-0.04809, 0.02034, 19.89) [0.001239, 0.003515, 0.8567]\n",
      "PeriodicSite: Ca (9.037, 0.03108, 14.88) [0.996, 0.00556, 0.6417]\n",
      "PeriodicSite: Ca (4.617, 2.643, 15.93) [0.6774, 0.3355, 0.6869]\n",
      "PeriodicSite: Ca (4.539, 2.633, 4.509) [0.6653, 0.3337, 0.1947]\n",
      "PeriodicSite: Ca (-0.01655, 5.258, 0.6271) [0.3313, 0.6651, 0.0271]\n",
      "PeriodicSite: Nb (-0.001792, 0.04563, 3.312) [0.003563, 0.005929, 0.1427]\n",
      "PeriodicSite: Nb (4.418, 2.613, 22.73) [0.6555, 0.332, 0.9796]\n",
      "PeriodicSite: Nb (4.644, 2.558, 11.07) [0.6737, 0.3245, 0.4772]\n",
      "PeriodicSite: Nb (0.01616, 5.298, 12.15) [0.3405, 0.6707, 0.5236]\n",
      "PeriodicSite: Nb (0.01275, 5.348, 7.213) [0.342, 0.6768, 0.3108]\n",
      "PeriodicSite: Nb (-0.07074, 5.217, 18.87) [0.3276, 0.6608, 0.813]\n",
      "PeriodicSite: Si (7.232, 2.655, 13.52) [0.964, 0.3372, 0.583]\n",
      "PeriodicSite: Si (1.944, 2.575, 1.992) [0.3765, 0.326, 0.08606]\n",
      "PeriodicSite: Si (1.169, 7.557, 9.681) [0.6092, 0.9564, 0.4173]\n",
      "PeriodicSite: S (-2.008, 7.729, 5.823) [0.271, 0.9777, 0.2508]\n",
      "PeriodicSite: S (3.139, 5.716, 5.832) [0.7075, 0.7236, 0.2516]\n",
      "PeriodicSite: S (-1.154, 2.299, 5.814) [0.02071, 0.2909, 0.2504]\n",
      "PeriodicSite: S (1.29, 2.374, 17.47) [0.2963, 0.3012, 0.7529]\n",
      "PeriodicSite: S (-3.206, 5.596, 17.5) [0.007753, 0.7084, 0.7536]\n",
      "PeriodicSite: S (1.78, 7.803, 17.49) [0.6938, 0.988, 0.7537]\n",
      "PeriodicSite: S (3.255, 0.3294, 13.42) [0.381, 0.04264, 0.5784]\n",
      "PeriodicSite: S (3.2, 4.839, 13.41) [0.6606, 0.613, 0.578]\n",
      "PeriodicSite: S (5.716, 4.964, 1.939) [0.9411, 0.6285, 0.08414]\n",
      "PeriodicSite: S (5.99, 0.4725, 1.92) [0.6867, 0.06047, 0.08328]\n",
      "PeriodicSite: S (2.582, 5.149, 21.3) [0.6146, 0.6526, 0.918]\n",
      "PeriodicSite: S (-1.504, 3.067, 21.31) [0.03506, 0.3887, 0.918]\n",
      "PeriodicSite: S (-1.249, 7.617, 21.31) [0.3512, 0.9644, 0.9181]\n",
      "PeriodicSite: S (1.363, 3.171, 9.672) [0.3527, 0.4017, 0.4169]\n",
      "PeriodicSite: S (-2.551, 5.132, 9.67) [0.04808, 0.6493, 0.4165]\n",
      "PeriodicSite: O (1.781, 0.04195, 7.005) [0.1996, 0.005821, 0.302]\n",
      "PeriodicSite: O (3.681, 6.326, 7.024) [0.8058, 0.8008, 0.303]\n",
      "PeriodicSite: O (8.196, 1.47, 6.958) [0.9929, 0.1871, 0.3005]\n",
      "PeriodicSite: O (1.045, 1.575, 18.66) [0.2191, 0.2002, 0.804]\n",
      "PeriodicSite: O (5.402, 6.252, 18.66) [0.9927, 0.7922, 0.8044]\n",
      "PeriodicSite: O (7.188, 0.1093, 18.65) [0.7994, 0.01545, 0.8042]\n",
      "PeriodicSite: O (2.525, 7.444, 16.29) [0.7523, 0.9426, 0.702]\n",
      "PeriodicSite: O (0.6152, 1.895, 16.27) [0.1917, 0.2405, 0.7012]\n",
      "PeriodicSite: O (-3.291, 6.388, 16.28) [0.04822, 0.8084, 0.7011]\n",
      "PeriodicSite: O (3.323, 6.572, 4.621) [0.7814, 0.8318, 0.1995]\n",
      "PeriodicSite: O (-0.5255, 1.577, 4.583) [0.0435, 0.1996, 0.1974]\n",
      "PeriodicSite: O (-2.901, 7.497, 4.62) [0.1582, 0.9482, 0.1989]\n",
      "PeriodicSite: O (6.318, 3.077, 14.72) [0.891, 0.3905, 0.6348]\n",
      "PeriodicSite: O (3.881, 0.8423, 14.61) [0.4824, 0.1076, 0.63]\n",
      "PeriodicSite: O (3.262, 4.042, 14.62) [0.6172, 0.5122, 0.63]\n",
      "PeriodicSite: O (5.601, 4.136, 3.11) [0.8765, 0.5238, 0.1346]\n",
      "PeriodicSite: O (5.434, 1.032, 3.119) [0.6615, 0.1313, 0.1349]\n",
      "PeriodicSite: O (2.864, 2.679, 3.241) [0.4843, 0.3393, 0.1399]\n",
      "PeriodicSite: O (3.027, 2.31, 0.6268) [0.4782, 0.2926, 0.02732]\n",
      "PeriodicSite: O (5.069, 4.304, 0.7271) [0.8282, 0.5449, 0.03187]\n",
      "PeriodicSite: O (5.779, 1.383, 0.7174) [0.7209, 0.1756, 0.03147]\n",
      "PeriodicSite: O (3.586, 1.207, 12.22) [0.4725, 0.1536, 0.5267]\n",
      "PeriodicSite: O (3.711, 4.089, 12.21) [0.6688, 0.5181, 0.5265]\n",
      "PeriodicSite: O (6.095, 2.524, 12.14) [0.8308, 0.3204, 0.5238]\n",
      "PeriodicSite: O (1.813, 5.376, 22.5) [0.545, 0.6812, 0.9696]\n",
      "PeriodicSite: O (-0.8912, 3.642, 22.48) [0.1389, 0.4616, 0.9686]\n",
      "PeriodicSite: O (-1.073, 6.856, 22.52) [0.3225, 0.8682, 0.9703]\n",
      "PeriodicSite: O (0.7041, 6.577, 10.89) [0.4965, 0.8324, 0.4692]\n",
      "PeriodicSite: O (0.7424, 3.81, 10.86) [0.3255, 0.4825, 0.4679]\n",
      "PeriodicSite: O (-1.691, 5.26, 10.86) [0.1507, 0.6656, 0.4678]\n",
      "PeriodicSite: O (-1.695, 4.874, 8.45) [0.1252, 0.6167, 0.364]\n",
      "PeriodicSite: O (0.4349, 6.778, 8.32) [0.4791, 0.8578, 0.3586]\n",
      "PeriodicSite: O (1.044, 4.032, 8.448) [0.372, 0.5106, 0.3641]\n",
      "PeriodicSite: O (-1.203, 3.984, 20.11) [0.1258, 0.5047, 0.8663]\n",
      "PeriodicSite: O (-0.5977, 6.943, 20.14) [0.3795, 0.879, 0.8677]\n",
      "PeriodicSite: O (1.684, 4.876, 20.13) [0.4986, 0.6179, 0.8673]\n",
      "PeriodicSite: O (-3.346, 6.327, 9.518) [0.03656, 0.8004, 0.4098]\n",
      "PeriodicSite: O (2.705, 7.712, 9.525) [0.7873, 0.9762, 0.4107]\n",
      "PeriodicSite: O (0.793, 1.856, 9.498) [0.2069, 0.2352, 0.4093]\n",
      "PeriodicSite: O (-1.024, 1.732, 21.01) [0.00302, 0.22, 0.9053]\n",
      "PeriodicSite: O (1.944, 0.0514, 21.03) [0.2217, 0.007701, 0.9061]\n",
      "PeriodicSite: O (3.536, 6.201, 21.02) [0.7857, 0.7857, 0.906]\n",
      "PeriodicSite: O (8.111, 1.354, 13.48) [0.978, 0.1727, 0.5813]\n",
      "PeriodicSite: O (1.82, 0.1608, 13.47) [0.2131, 0.02116, 0.5804]\n",
      "PeriodicSite: O (3.811, 6.146, 13.48) [0.8102, 0.7783, 0.5811]\n",
      "PeriodicSite: O (4.925, 6.273, 2.2) [0.9375, 0.7941, 0.09535]\n",
      "PeriodicSite: O (7.528, 0.3874, 2.125) [0.8499, 0.04987, 0.09227]\n",
      "PeriodicSite: O (1.064, 1.078, 2.264) [0.1854, 0.1366, 0.09766]\n",
      "PeriodicSite: O (5.358, 0.9327, 17.3) [0.6507, 0.1193, 0.7459]\n",
      "PeriodicSite: O (2.686, 2.719, 17.3) [0.471, 0.345, 0.7454]\n",
      "PeriodicSite: O (5.472, 4.219, 17.37) [0.8713, 0.535, 0.749]\n",
      "PeriodicSite: O (3.599, 4.363, 5.645) [0.6721, 0.5525, 0.2436]\n",
      "PeriodicSite: O (6.581, 2.536, 5.512) [0.883, 0.3217, 0.2381]\n",
      "PeriodicSite: O (3.561, 0.837, 5.577) [0.4446, 0.1065, 0.2406]\n",
      "PeriodicSite: O (3.427, 3.852, 21.51) [0.625, 0.4885, 0.9269]\n",
      "PeriodicSite: O (6.125, 3.024, 21.47) [0.8682, 0.3841, 0.9256]\n",
      "PeriodicSite: O (4.092, 1.064, 21.5) [0.5214, 0.1361, 0.9268]\n",
      "PeriodicSite: O (4.963, 1.111, 9.893) [0.6168, 0.1416, 0.4267]\n",
      "PeriodicSite: O (2.831, 3.123, 9.813) [0.5105, 0.3958, 0.4231]\n",
      "PeriodicSite: O (5.678, 3.93, 9.81) [0.8736, 0.4982, 0.4232]\n",
      "PeriodicSite: O (0.8509, 3.62, 1.628) [0.3229, 0.458, 0.07028]\n",
      "PeriodicSite: O (-2.055, 5.358, 1.651) [0.1146, 0.6776, 0.071]\n",
      "PeriodicSite: O (0.961, 7.043, 1.639) [0.5518, 0.8911, 0.07083]\n",
      "PeriodicSite: O (-0.698, 6.862, 13.17) [0.3616, 0.8685, 0.5674]\n",
      "PeriodicSite: O (1.686, 5.052, 13.14) [0.5081, 0.6397, 0.5665]\n",
      "PeriodicSite: O (-0.9761, 3.991, 13.05) [0.1492, 0.5053, 0.5622]\n",
      "PeriodicSite: O (-1.225, 6.387, 6.012) [0.2719, 0.808, 0.259]\n",
      "PeriodicSite: O (1.575, 5.607, 6.037) [0.5292, 0.7097, 0.2603]\n",
      "PeriodicSite: O (-0.4392, 3.62, 5.973) [0.1827, 0.4581, 0.2574]\n",
      "PeriodicSite: O (0.5676, 3.77, 17.81) [0.3056, 0.4778, 0.7673]\n",
      "PeriodicSite: O (-1.631, 5.481, 17.8) [0.1731, 0.694, 0.767]\n",
      "PeriodicSite: O (0.933, 6.504, 17.85) [0.5188, 0.8236, 0.7694],\n",
      "\u001b[1mtask_ids\u001b[0;0m=[MPID(mp-2713035)],\n",
      "\u001b[1muncorrected_energy_per_atom\u001b[0;0m=-6.903896687254902,\n",
      "\u001b[1menergy_per_atom\u001b[0;0m=-7.388837863725492,\n",
      "\u001b[1mformation_energy_per_atom\u001b[0;0m=-2.4128009505637267,\n",
      "\u001b[1menergy_above_hull\u001b[0;0m=0.05326190718138335,\n",
      "\u001b[1mis_stable\u001b[0;0m=False,\n",
      "\u001b[1mequilibrium_reaction_energy_per_atom\u001b[0;0m=None,\n",
      "\u001b[1mdecomposes_to\u001b[0;0m=[DecompositionProduct(material_id=MPID(mp-2715784), formula='Nb12 Si12 S6 O72', amount=0.25), DecompositionProduct(material_id=MPID(mp-2713764), formula='Ca8 Nb4 S18 O72', amount=0.7500000000000018)],\n",
      "\u001b[1mxas\u001b[0;0m=None,\n",
      "\u001b[1mgrain_boundaries\u001b[0;0m=None,\n",
      "\u001b[1mband_gap\u001b[0;0m=0.9383,\n",
      "\u001b[1mcbm\u001b[0;0m=1.2379,\n",
      "\u001b[1mvbm\u001b[0;0m=0.2996,\n",
      "\u001b[1mefermi\u001b[0;0m=0.5834486,\n",
      "\u001b[1mis_gap_direct\u001b[0;0m=True,\n",
      "\u001b[1mis_metal\u001b[0;0m=False,\n",
      "\u001b[1mes_source_calc_id\u001b[0;0m=None,\n",
      "\u001b[1mbandstructure\u001b[0;0m=None,\n",
      "\u001b[1mdos\u001b[0;0m=None,\n",
      "\u001b[1mdos_energy_up\u001b[0;0m=None,\n",
      "\u001b[1mdos_energy_down\u001b[0;0m=None,\n",
      "\u001b[1mis_magnetic\u001b[0;0m=False,\n",
      "\u001b[1mordering\u001b[0;0m='NM',\n",
      "\u001b[1mtotal_magnetization\u001b[0;0m=0.0,\n",
      "\u001b[1mtotal_magnetization_normalized_vol\u001b[0;0m=0.0,\n",
      "\u001b[1mtotal_magnetization_normalized_formula_units\u001b[0;0m=0.0,\n",
      "\u001b[1mnum_magnetic_sites\u001b[0;0m=0,\n",
      "\u001b[1mnum_unique_magnetic_sites\u001b[0;0m=0,\n",
      "\u001b[1mtypes_of_magnetic_species\u001b[0;0m=[],\n",
      "\u001b[1mbulk_modulus\u001b[0;0m=None,\n",
      "\u001b[1mshear_modulus\u001b[0;0m=None,\n",
      "\u001b[1muniversal_anisotropy\u001b[0;0m=None,\n",
      "\u001b[1mhomogeneous_poisson\u001b[0;0m=None,\n",
      "\u001b[1me_total\u001b[0;0m=None,\n",
      "\u001b[1me_ionic\u001b[0;0m=None,\n",
      "\u001b[1me_electronic\u001b[0;0m=None,\n",
      "\u001b[1mn\u001b[0;0m=None,\n",
      "\u001b[1me_ij_max\u001b[0;0m=None,\n",
      "\u001b[1mweighted_surface_energy_EV_PER_ANG2\u001b[0;0m=None,\n",
      "\u001b[1mweighted_surface_energy\u001b[0;0m=None,\n",
      "\u001b[1mweighted_work_function\u001b[0;0m=None,\n",
      "\u001b[1msurface_anisotropy\u001b[0;0m=None,\n",
      "\u001b[1mshape_factor\u001b[0;0m=None,\n",
      "\u001b[1mhas_reconstructed\u001b[0;0m=None,\n",
      "\u001b[1mpossible_species\u001b[0;0m=['S6+', 'Si4+', 'O2-', 'Ca2+', 'Nb5+'],\n",
      "\u001b[1mhas_props\u001b[0;0m={'materials': True, 'thermo': True, 'xas': False, 'grain_boundaries': False, 'chemenv': True, 'electronic_structure': True, 'absorption': False, 'bandstructure': False, 'dos': False, 'magnetism': True, 'elasticity': False, 'dielectric': False, 'piezoelectric': False, 'surface_properties': False, 'oxi_states': True, 'provenance': True, 'charge_density': False, 'eos': False, 'phonon': False, 'insertion_electrodes': False, 'substrates': False},\n",
      "\u001b[1mtheoretical\u001b[0;0m=True,\n",
      "\u001b[1mdatabase_IDs\u001b[0;0m={}\n",
      "\n",
      "\u001b[1mFields not requested:\u001b[0;0m\n",
      "[]\n"
     ]
    },
    {
     "name": "stderr",
     "output_type": "stream",
     "text": [
      "Retrieving SummaryDoc documents: 100%|██████████| 122/122 [00:00<00:00, 4061151.49it/s]"
     ]
    },
    {
     "name": "stdout",
     "output_type": "stream",
     "text": [
      "\u001b[4m\u001b[1mMPDataDoc<SummaryDoc>\u001b[0;0m\u001b[0;0m\n",
      "\u001b[1mdensity\u001b[0;0m=2.4922522316114564,\n",
      "\u001b[1msymmetry\u001b[0;0m=SymmetryData(crystal_system=<CrystalSystem.tri: 'Triclinic'>, symbol='P1', number=1, point_group='1', symprec=0.1, version='2.0.2'),\n",
      "\u001b[1mmaterial_id\u001b[0;0m=MPID(mp-2713035)\n",
      "\n",
      "\u001b[1mFields not requested:\u001b[0;0m\n",
      "['builder_meta', 'nsites', 'elements', 'nelements', 'composition', 'composition_reduced', 'formula_pretty', 'formula_anonymous', 'chemsys', 'volume', 'density_atomic', 'property_name', 'deprecated', 'deprecation_reasons', 'last_updated', 'origins', 'warnings', 'structure', 'task_ids', 'uncorrected_energy_per_atom', 'energy_per_atom', 'formation_energy_per_atom', 'energy_above_hull', 'is_stable', 'equilibrium_reaction_energy_per_atom', 'decomposes_to', 'xas', 'grain_boundaries', 'band_gap', 'cbm', 'vbm', 'efermi', 'is_gap_direct', 'is_metal', 'es_source_calc_id', 'bandstructure', 'dos', 'dos_energy_up', 'dos_energy_down', 'is_magnetic', 'ordering', 'total_magnetization', 'total_magnetization_normalized_vol', 'total_magnetization_normalized_formula_units', 'num_magnetic_sites', 'num_unique_magnetic_sites', 'types_of_magnetic_species', 'bulk_modulus', 'shear_modulus', 'universal_anisotropy', 'homogeneous_poisson', 'e_total', 'e_ionic', 'e_electronic', 'n', 'e_ij_max', 'weighted_surface_energy_EV_PER_ANG2', 'weighted_surface_energy', 'weighted_work_function', 'surface_anisotropy', 'shape_factor', 'has_reconstructed', 'possible_species', 'has_props', 'theoretical', 'database_IDs']\n",
      "The chemical system is 2.4922522316114564\n"
     ]
    },
    {
     "name": "stderr",
     "output_type": "stream",
     "text": [
      "\n"
     ]
    }
   ],
   "source": [
    "mpr = MPRester(Sparks_API)\n",
    "#grab all the data\n",
    "docs = mpr.summary.search(elements=['Si','O'],band_gap=(0.85,1))\n",
    "print(docs[0])\n",
    "#just grab a few specific fields\n",
    "docs = mpr.summary.search(elements=['Si','O'],band_gap=(0.85,1),fields=[\"material_id\",\"density\",\"symmetry\"])\n",
    "print(docs[0])\n",
    "#call up a specific field for a entry as follows\n",
    "print('The chemical system is',docs[0].density)\n"
   ]
  },
  {
   "cell_type": "code",
   "execution_count": 6,
   "id": "1e481352",
   "metadata": {},
   "outputs": [
    {
     "name": "stderr",
     "output_type": "stream",
     "text": [
      "/var/folders/9c/cqj0b8vx1l92m5mq0cczrw480000gn/T/ipykernel_22578/2789331082.py:2: DeprecationWarning: Accessing summary data through MPRester.summary is deprecated. Please use MPRester.materials.summary instead.\n",
      "  docs = mpr.summary.search(material_ids=[\"mp-149\"], fields=[\"symmetry\"])\n",
      "Retrieving SummaryDoc documents: 100%|██████████| 1/1 [00:00<00:00, 30174.85it/s]\n",
      "Retrieving MaterialsDoc documents: 100%|██████████| 1/1 [00:00<00:00, 19239.93it/s]"
     ]
    },
    {
     "name": "stdout",
     "output_type": "stream",
     "text": [
      "Full Formula (Si2)\n",
      "Reduced Formula: Si\n",
      "abc   :   3.849278   3.849279   3.849278\n",
      "angles:  60.000012  60.000003  60.000011\n",
      "pbc   :       True       True       True\n",
      "Sites (2)\n",
      "  #  SP        a      b      c    magmom\n",
      "---  ----  -----  -----  -----  --------\n",
      "  0  Si    0.875  0.875  0.875        -0\n",
      "  1  Si    0.125  0.125  0.125        -0\n"
     ]
    },
    {
     "name": "stderr",
     "output_type": "stream",
     "text": [
      "\n"
     ]
    }
   ],
   "source": [
    "with MPRester(Sparks_API) as mpr:\n",
    "    docs = mpr.summary.search(material_ids=[\"mp-149\"], fields=[\"symmetry\"])\n",
    "    structure = docs[0].symmetry\n",
    "    # -- Shortcut for a single Materials Project ID:\n",
    "    structure = mpr.get_structure_by_material_id(\"mp-149\")\n",
    "    print(structure)"
   ]
  },
  {
   "cell_type": "markdown",
   "id": "f7c8a9df",
   "metadata": {},
   "source": [
    "There are lots of examples that you can peruse here\n",
    "https://docs.materialsproject.org/downloading-data/using-the-api/examples"
   ]
  },
  {
   "cell_type": "code",
   "execution_count": 7,
   "id": "2377d5fa",
   "metadata": {},
   "outputs": [
    {
     "name": "stderr",
     "output_type": "stream",
     "text": [
      "/var/folders/9c/cqj0b8vx1l92m5mq0cczrw480000gn/T/ipykernel_22578/4084861618.py:6: DeprecationWarning: Accessing summary data through MPRester.summary is deprecated. Please use MPRester.materials.summary instead.\n",
      "  docs = mpr.summary.search(\n",
      "Retrieving SummaryDoc documents: 100%|██████████| 7277/7277 [00:00<00:00, 7510.07it/s] \n"
     ]
    }
   ],
   "source": [
    "#Find all Materials Project IDs for entries with dielectric data\n",
    "from mp_api.client import MPRester\n",
    "from emmet.core.summary import HasProps\n",
    "\n",
    "with MPRester(Sparks_API) as mpr:\n",
    "    docs = mpr.summary.search(\n",
    "        has_props = [HasProps.dielectric], fields=[\"material_id\"]\n",
    "    )\n",
    "    mpids = [doc.material_id for doc in docs]"
   ]
  },
  {
   "cell_type": "code",
   "execution_count": 8,
   "id": "2997f053",
   "metadata": {},
   "outputs": [
    {
     "name": "stderr",
     "output_type": "stream",
     "text": [
      "Retrieving MaterialsDoc documents: 100%|██████████| 1/1 [00:00<00:00, 21845.33it/s]\n",
      "Retrieving MaterialsDoc documents: 100%|██████████| 1/1 [00:00<00:00, 21732.15it/s]"
     ]
    },
    {
     "name": "stdout",
     "output_type": "stream",
     "text": [
      "['mp-655585', 'mp-656511', 'mp-655936', 'mp-11721', 'mp-149', 'mp-1057373', 'mp-1057366', 'mp-1057380', 'mp-1059585', 'mp-1059589', 'mp-1059603', 'mp-1120258', 'mp-1120259', 'mp-1141021', 'mp-1248038', 'mp-1249516', 'mp-1267607', 'mp-1440634', 'mp-1686587', 'mp-1791788', 'mp-1594776', 'mp-1592727', 'mp-1947498', 'mp-1950734', 'mp-1059604', 'mp-1057384', 'mp-1536661', 'mp-2064724', 'mp-2064214', 'mp-2250750', 'mp-2299819', 'mp-2291052', 'mp-2693536', 'mp-2693792', 'mp-2768327', 'mp-2683378', 'mp-2629357', 'mp-2683297', 'mp-2629333', 'mp-2375783', 'mp-2375705', 'mp-2375896']\n"
     ]
    },
    {
     "name": "stderr",
     "output_type": "stream",
     "text": [
      "\n"
     ]
    }
   ],
   "source": [
    "#Calculation (task) IDs and types for silicon (mp-149)\n",
    "from mp_api.client import MPRester\n",
    "\n",
    "with MPRester(Sparks_API) as mpr: \n",
    "    docs = mpr.materials.search(material_ids=[\"mp-149\"], fields=[\"calc_types\"])\n",
    "    task_ids = docs[0].calc_types.keys()\n",
    "    task_types = docs[0].calc_types.values() \n",
    "    # -- Shortcut for a single Materials Project ID:\n",
    "    task_ids = mpr.get_task_ids_associated_with_material_id(\"mp-149\")\n",
    "    print(task_ids)"
   ]
  },
  {
   "cell_type": "code",
   "execution_count": 9,
   "id": "42962128",
   "metadata": {},
   "outputs": [
    {
     "name": "stderr",
     "output_type": "stream",
     "text": [
      "/var/folders/9c/cqj0b8vx1l92m5mq0cczrw480000gn/T/ipykernel_22578/4180252821.py:5: DeprecationWarning: Accessing summary data through MPRester.summary is deprecated. Please use MPRester.materials.summary instead.\n",
      "  docs = mpr.summary.search(\n",
      "Retrieving SummaryDoc documents: 100%|██████████| 343/343 [00:00<00:00, 9590975.15it/s]"
     ]
    },
    {
     "name": "stdout",
     "output_type": "stream",
     "text": [
      "{MPID(mp-1194828): 0.09050000000000002, MPID(mp-1199711): 0.09720000000000018, MPID(mp-1063118): 0.0, MPID(mp-1208867): 0.0, MPID(mp-1179195): 0.9888999999999999, MPID(mp-862998): 2.6763, MPID(mp-32566): 0.09609999999999985, MPID(mp-32881): 0.18850000000000033, MPID(mp-1250755): 0.20499999999999996, MPID(mp-638900): 0.10310000000000041, MPID(mp-1219421): 0.0706, MPID(mp-1221354): 0.030199999999999783, MPID(mp-1179275): 0.0, MPID(mp-1179651): 3.4528, MPID(mp-1173536): 0.08350000000000002, MPID(mp-530027): 2.1050999999999997, MPID(mp-673849): 0.04090000000000005, MPID(mp-731864): 0.008799999999999919, MPID(mp-32761): 0.0, MPID(mp-10064): 1.7395999999999994, MPID(mp-1021503): 4.528499999999999, MPID(mp-1071820): 4.716, MPID(mp-10851): 5.5428, MPID(mp-10948): 5.2394, MPID(mp-11684): 5.5458, MPID(mp-1179447): 5.6304, MPID(mp-1179454): 5.5301, MPID(mp-1179488): 0.14189999999999992, MPID(mp-1179529): 5.455299999999999, MPID(mp-1188220): 5.4517999999999995, MPID(mp-1195265): 5.7794, MPID(mp-1199998): 5.5867, MPID(mp-1200292): 5.7088, MPID(mp-1200685): 5.6843, MPID(mp-1201738): 5.5295000000000005, MPID(mp-1201887): 5.5322, MPID(mp-1203655): 5.4771, MPID(mp-1204026): 4.1957, MPID(mp-1204057): 5.5443999999999996, MPID(mp-1204070): 4.4735, MPID(mp-1205213): 5.3649, MPID(mp-12350): 6.1956, MPID(mp-1244945): 5.0143, MPID(mp-1244965): 1.6018, MPID(mp-1244968): 2.9048, MPID(mp-1245026): 1.9047, MPID(mp-1248957): 5.7415, MPID(mp-1249090): 5.7956, MPID(mp-1249332): 5.689, MPID(mp-1249637): 5.6978, MPID(mp-1249969): 5.6645, MPID(mp-1250261): 5.7371, MPID(mp-1250551): 5.6892, MPID(mp-1250639): 5.6677, MPID(mp-1256499): 5.931, MPID(mp-1256614): 5.7551, MPID(mp-1257168): 5.5917, MPID(mp-1258196): 5.6745, MPID(mp-1265115): 5.506200000000001, MPID(mp-1268079): 5.6869, MPID(mp-12787): 5.6273, MPID(mp-1353259): 5.5609, MPID(mp-1365799): 5.793, MPID(mp-1398433): 0.0, MPID(mp-15078): 5.6044, MPID(mp-16964): 5.6779, MPID(mp-17279): 5.7151, MPID(mp-17909): 5.7313, MPID(mp-18280): 5.6998999999999995, MPID(mp-2374583): 5.0, MPID(mp-32667): 5.3845, MPID(mp-32895): 5.7862, MPID(mp-34150): 0.9218999999999999, MPID(mp-530546): 5.5611999999999995, MPID(mp-532105): 5.559, MPID(mp-542814): 5.5103, MPID(mp-545488): 0.3344999999999998, MPID(mp-545719): 4.8294, MPID(mp-546546): 5.5604000000000005, MPID(mp-546794): 5.6895999999999995, MPID(mp-553881): 3.602, MPID(mp-553945): 5.6059, MPID(mp-553993): 5.6413, MPID(mp-554089): 5.660399999999999, MPID(mp-554151): 5.725199999999999, MPID(mp-554175): 5.7494, MPID(mp-554243): 5.627, MPID(mp-554258): 5.4489, MPID(mp-554267): 5.6122000000000005, MPID(mp-554397): 0.8752, MPID(mp-554498): 0.5029000000000001, MPID(mp-554543): 5.4402, MPID(mp-554573): 5.7899, MPID(mp-554665): 4.8029, MPID(mp-554682): 5.7065, MPID(mp-554755): 5.6152, MPID(mp-554946): 5.8629999999999995, MPID(mp-555147): 5.3545, MPID(mp-555165): 5.531499999999999, MPID(mp-555211): 5.6207, MPID(mp-555235): 5.6842999999999995, MPID(mp-555251): 5.6355, MPID(mp-555355): 1.2528, MPID(mp-555394): 4.0687, MPID(mp-555411): 1.6065, MPID(mp-555483): 4.721699999999999, MPID(mp-555497): 4.3073999999999995, MPID(mp-555521): 5.5805, MPID(mp-555544): 4.3252999999999995, MPID(mp-555556): 5.598999999999999, MPID(mp-555676): 4.5916, MPID(mp-555700): 5.484, MPID(mp-555740): 5.5865, MPID(mp-555791): 5.7383999999999995, MPID(mp-555823): 1.2338, MPID(mp-555891): 5.4968, MPID(mp-555960): 5.3346, MPID(mp-556027): 2.4692, MPID(mp-556044): 0.0, MPID(mp-556068): 6.180999999999999, MPID(mp-556088): 5.8696, MPID(mp-556132): 4.3926, MPID(mp-556218): 5.6156999999999995, MPID(mp-556257): 3.6123, MPID(mp-556262): 5.72, MPID(mp-556319): 5.2035, MPID(mp-556376): 2.7482, MPID(mp-556454): 5.5651, MPID(mp-556464): 4.035, MPID(mp-556469): 5.696199999999999, MPID(mp-556537): 4.5413, MPID(mp-556553): 4.9023, MPID(mp-556564): 0.30200000000000005, MPID(mp-556588): 4.0078000000000005, MPID(mp-556591): 5.873200000000001, MPID(mp-556654): 5.6055, MPID(mp-556662): 5.565300000000001, MPID(mp-556788): 4.7965, MPID(mp-556812): 4.5562000000000005, MPID(mp-556880): 5.0612, MPID(mp-556882): 5.4389, MPID(mp-556961): 5.736, MPID(mp-556963): 5.3934, MPID(mp-556985): 5.6098, MPID(mp-556994): 5.3836, MPID(mp-557004): 5.5806000000000004, MPID(mp-557017): 2.5295, MPID(mp-557024): 5.6788, MPID(mp-557076): 4.0358, MPID(mp-557118): 5.4995, MPID(mp-557134): 5.4646, MPID(mp-557194): 0.0, MPID(mp-557211): 5.5604, MPID(mp-557244): 5.1733, MPID(mp-557264): 5.4421, MPID(mp-557465): 5.522, MPID(mp-557591): 5.6246, MPID(mp-557653): 4.1137999999999995, MPID(mp-557723): 3.5612999999999997, MPID(mp-557771): 2.3054, MPID(mp-557814): 1.0636, MPID(mp-557837): 5.6449, MPID(mp-557873): 5.6607, MPID(mp-557881): 5.6379, MPID(mp-557894): 5.718299999999999, MPID(mp-557930): 5.6398, MPID(mp-557933): 5.5245, MPID(mp-558025): 5.671, MPID(mp-558115): 5.6222, MPID(mp-558200): 5.317699999999999, MPID(mp-558203): 5.8698, MPID(mp-558301): 5.3527000000000005, MPID(mp-558326): 5.587, MPID(mp-558351): 5.626799999999999, MPID(mp-558366): 1.179, MPID(mp-558374): 5.5665000000000004, MPID(mp-558564): 5.6030999999999995, MPID(mp-558569): 5.6415999999999995, MPID(mp-558598): 0.0, MPID(mp-558733): 5.2427, MPID(mp-558891): 5.6471, MPID(mp-558931): 4.5368, MPID(mp-558947): 5.6495, MPID(mp-559091): 5.4496, MPID(mp-559273): 5.6598, MPID(mp-559313): 5.5709, MPID(mp-559347): 5.6325, MPID(mp-559360): 5.6782, MPID(mp-559389): 4.1899, MPID(mp-559550): 5.6097, MPID(mp-559605): 3.6950000000000003, MPID(mp-559740): 5.7101, MPID(mp-559829): 6.106, MPID(mp-559860): 4.5099, MPID(mp-559872): 5.610600000000001, MPID(mp-559928): 5.4895, MPID(mp-559962): 5.6777, MPID(mp-560064): 5.7691, MPID(mp-560131): 5.685499999999999, MPID(mp-560152): 5.5347, MPID(mp-560155): 5.7966, MPID(mp-560203): 5.4814, MPID(mp-560336): 5.5874, MPID(mp-560527): 5.3907, MPID(mp-560708): 5.6266, MPID(mp-560754): 1.36, MPID(mp-560809): 5.4481, MPID(mp-560826): 5.4292, MPID(mp-560836): 4.9689, MPID(mp-560920): 5.613300000000001, MPID(mp-560941): 5.7844999999999995, MPID(mp-560954): 4.478800000000001, MPID(mp-560973): 5.4387, MPID(mp-560998): 5.5774, MPID(mp-561090): 5.5448, MPID(mp-561181): 5.6107, MPID(mp-561291): 5.241, MPID(mp-561301): 1.9962, MPID(mp-561351): 5.5568, MPID(mp-561488): 2.7733, MPID(mp-562490): 5.774, MPID(mp-572283): 4.9688, MPID(mp-600000): 5.4115, MPID(mp-600001): 5.491, MPID(mp-600002): 5.4577, MPID(mp-600003): 5.4596, MPID(mp-600004): 5.4296, MPID(mp-600005): 5.4398, MPID(mp-600006): 5.4101, MPID(mp-600007): 5.6068999999999996, MPID(mp-600014): 5.7274, MPID(mp-600015): 5.6292, MPID(mp-600016): 5.6503, MPID(mp-600018): 5.4453, MPID(mp-600022): 5.5985, MPID(mp-600023): 5.488, MPID(mp-600024): 5.75, MPID(mp-600026): 5.1530000000000005, MPID(mp-600027): 5.522600000000001, MPID(mp-600028): 5.5863, MPID(mp-600029): 5.4247000000000005, MPID(mp-600031): 5.8332999999999995, MPID(mp-600032): 5.7155000000000005, MPID(mp-600033): 5.6213, MPID(mp-600037): 5.4426, MPID(mp-600038): 5.4989, MPID(mp-600039): 5.5869, MPID(mp-600041): 5.465199999999999, MPID(mp-600045): 5.4237, MPID(mp-600049): 5.646800000000001, MPID(mp-600050): 5.8144, MPID(mp-600051): 5.5706, MPID(mp-600052): 5.4991, MPID(mp-600053): 5.522, MPID(mp-600054): 5.6447, MPID(mp-600055): 5.726100000000001, MPID(mp-600057): 5.7215, MPID(mp-600059): 5.7102, MPID(mp-600060): 5.683199999999999, MPID(mp-600061): 5.6122, MPID(mp-600063): 5.6966, MPID(mp-600065): 5.3276, MPID(mp-600067): 5.74, MPID(mp-600068): 5.6335, MPID(mp-600070): 5.8420000000000005, MPID(mp-600071): 5.4719, MPID(mp-600072): 5.6478, MPID(mp-600076): 5.957999999999999, MPID(mp-600078): 5.6143, MPID(mp-600080): 5.4798, MPID(mp-600083): 5.5983, MPID(mp-600084): 5.549, MPID(mp-600085): 5.7642, MPID(mp-600091): 5.685499999999999, MPID(mp-600096): 6.0892, MPID(mp-600098): 5.565899999999999, MPID(mp-600109): 5.5931999999999995, MPID(mp-600111): 5.5173000000000005, MPID(mp-604717): 5.1678, MPID(mp-615993): 5.4699, MPID(mp-638033): 0.21039999999999992, MPID(mp-638035): 0.0, MPID(mp-638038): 0.0, MPID(mp-638049): 0.0, MPID(mp-639463): 5.3927000000000005, MPID(mp-639478): 5.5631, MPID(mp-639480): 5.6231, MPID(mp-639506): 5.6572, MPID(mp-639511): 5.6703, MPID(mp-639512): 5.6163, MPID(mp-639558): 5.645099999999999, MPID(mp-639682): 5.6453, MPID(mp-639695): 5.7854, MPID(mp-639705): 5.4988, MPID(mp-639724): 5.6202000000000005, MPID(mp-639733): 5.6305, MPID(mp-639734): 5.5098, MPID(mp-639741): 5.6594999999999995, MPID(mp-639748): 6.1775, MPID(mp-640556): 5.4721, MPID(mp-640917): 0.6553999999999998, MPID(mp-644923): 5.72, MPID(mp-646895): 5.6942, MPID(mp-651707): 5.7241, MPID(mp-653763): 5.3421, MPID(mp-662706): 5.5366, MPID(mp-663422): 4.3608, MPID(mp-667368): 5.5885, MPID(mp-667371): 5.6417, MPID(mp-667373): 5.5745, MPID(mp-667376): 5.3896999999999995, MPID(mp-667377): 5.3943, MPID(mp-667383): 5.5162, MPID(mp-667448): 5.482200000000001, MPID(mp-669426): 5.537999999999999, MPID(mp-673168): 3.3979, MPID(mp-680204): 5.5710999999999995, MPID(mp-680222): 5.5951, MPID(mp-683947): 5.2101999999999995, MPID(mp-683952): 1.3132000000000001, MPID(mp-683953): 1.4904000000000002, MPID(mp-683970): 5.4379, MPID(mp-685184): 0.0, MPID(mp-6922): 5.5311, MPID(mp-6930): 5.6695, MPID(mp-6945): 5.503699999999999, MPID(mp-6947): 5.0337, MPID(mp-7000): 5.719, MPID(mp-7029): 5.7943999999999996, MPID(mp-7087): 5.3645000000000005, MPID(mp-733790): 5.593, MPID(mp-7648): 5.7192, MPID(mp-7905): 4.7646999999999995, MPID(mp-8059): 5.5887, MPID(mp-8352): 5.3649000000000004, MPID(mp-8602): 5.5296, MPID(mp-9258): 4.0091, MPID(mp-972808): 5.5882, MPID(mp-985570): 5.599, MPID(mp-985590): 5.515899999999999, MPID(mp-1391176): 0.1484, MPID(mp-685105): 0.3892, MPID(mp-936187): 0.0}\n"
     ]
    },
    {
     "name": "stderr",
     "output_type": "stream",
     "text": [
      "\n"
     ]
    }
   ],
   "source": [
    "#find Band gaps for all materials containing only Si and O\n",
    "from mp_api.client import MPRester\n",
    "\n",
    "with MPRester(Sparks_API) as mpr:\n",
    "    docs = mpr.summary.search(\n",
    "        chemsys=\"Si-O\", fields=[\"material_id\", \"band_gap\"]\n",
    "    )\n",
    "    mpid_bgap_dict = {doc.material_id: doc.band_gap for doc in docs}\n",
    "    print(mpid_bgap_dict)"
   ]
  },
  {
   "cell_type": "code",
   "execution_count": 20,
   "id": "6eac191a",
   "metadata": {},
   "outputs": [
    {
     "name": "stderr",
     "output_type": "stream",
     "text": [
      "/var/folders/9c/cqj0b8vx1l92m5mq0cczrw480000gn/T/ipykernel_22578/397801788.py:5: DeprecationWarning:\n",
      "\n",
      "Accessing summary data through MPRester.summary is deprecated. Please use MPRester.materials.summary instead.\n",
      "\n",
      "Retrieving SummaryDoc documents: 100%|██████████| 7637/7637 [00:02<00:00, 3361.71it/s]\n"
     ]
    },
    {
     "ename": "AttributeError",
     "evalue": "'PhaseDiagram' object has no attribute 'DataFrame'",
     "output_type": "error",
     "traceback": [
      "\u001b[0;31m---------------------------------------------------------------------------\u001b[0m",
      "\u001b[0;31mAttributeError\u001b[0m                            Traceback (most recent call last)",
      "Cell \u001b[0;32mIn[20], line 11\u001b[0m\n\u001b[1;32m      5\u001b[0m docs \u001b[38;5;241m=\u001b[39m mpr\u001b[38;5;241m.\u001b[39msummary\u001b[38;5;241m.\u001b[39msearch(\n\u001b[1;32m      6\u001b[0m     elements\u001b[38;5;241m=\u001b[39m[\u001b[38;5;124m\"\u001b[39m\u001b[38;5;124mSi\u001b[39m\u001b[38;5;124m\"\u001b[39m, \u001b[38;5;124m\"\u001b[39m\u001b[38;5;124mO\u001b[39m\u001b[38;5;124m\"\u001b[39m], fields\u001b[38;5;241m=\u001b[39m[\u001b[38;5;124m\"\u001b[39m\u001b[38;5;124mmaterial_id\u001b[39m\u001b[38;5;124m\"\u001b[39m, \u001b[38;5;124m\"\u001b[39m\u001b[38;5;124mband_gap\u001b[39m\u001b[38;5;124m\"\u001b[39m, \u001b[38;5;124m\"\u001b[39m\u001b[38;5;124mformula_pretty\u001b[39m\u001b[38;5;124m\"\u001b[39m]\n\u001b[1;32m      7\u001b[0m )\n\u001b[1;32m      8\u001b[0m mpid_formula_dict \u001b[38;5;241m=\u001b[39m {\n\u001b[1;32m      9\u001b[0m     doc\u001b[38;5;241m.\u001b[39mmaterial_id: doc\u001b[38;5;241m.\u001b[39mformula_pretty \u001b[38;5;28;01mfor\u001b[39;00m doc \u001b[38;5;129;01min\u001b[39;00m docs\n\u001b[1;32m     10\u001b[0m }\n\u001b[0;32m---> 11\u001b[0m df \u001b[38;5;241m=\u001b[39m \u001b[43mpd\u001b[49m\u001b[38;5;241;43m.\u001b[39;49m\u001b[43mDataFrame\u001b[49m(mpid_formula_dict)\n\u001b[1;32m     12\u001b[0m \u001b[38;5;28mprint\u001b[39m(df)\n",
      "\u001b[0;31mAttributeError\u001b[0m: 'PhaseDiagram' object has no attribute 'DataFrame'"
     ]
    }
   ],
   "source": [
    "#Chemical formulas for all materials containing at least Si and O\n",
    "from mp_api.client import MPRester\n",
    "\n",
    "with MPRester(Sparks_API) as mpr:\n",
    "    docs = mpr.summary.search(\n",
    "        elements=[\"Si\", \"O\"], fields=[\"material_id\", \"band_gap\", \"formula_pretty\"]\n",
    "    )\n",
    "    mpid_formula_dict = {\n",
    "        doc.material_id: doc.formula_pretty for doc in docs\n",
    "    }"
   ]
  },
  {
   "cell_type": "code",
   "execution_count": 11,
   "id": "43f2c199",
   "metadata": {},
   "outputs": [
    {
     "name": "stderr",
     "output_type": "stream",
     "text": [
      "/var/folders/9c/cqj0b8vx1l92m5mq0cczrw480000gn/T/ipykernel_22578/1484026115.py:5: DeprecationWarning: Accessing summary data through MPRester.summary is deprecated. Please use MPRester.materials.summary instead.\n",
      "  docs = mpr.summary.search(\n",
      "Retrieving SummaryDoc documents: 100%|██████████| 6092/6092 [00:04<00:00, 1298.29it/s]\n",
      "/var/folders/9c/cqj0b8vx1l92m5mq0cczrw480000gn/T/ipykernel_22578/1484026115.py:11: DeprecationWarning: Accessing summary data through MPRester.summary is deprecated. Please use MPRester.materials.summary instead.\n",
      "  docs = mpr.summary.search(\n",
      "Retrieving SummaryDoc documents: 100%|██████████| 6092/6092 [00:04<00:00, 1467.64it/s]\n"
     ]
    }
   ],
   "source": [
    "#Stable materials (on the GGA/GGA+U hull) with large band gaps (>3eV)\n",
    "from mp_api.client import MPRester\n",
    "\n",
    "with MPRester(Sparks_API) as mpr:\n",
    "    docs = mpr.summary.search(\n",
    "        band_gap=(3, None), is_stable=True, fields=[\"material_id\"]\n",
    "    )\n",
    "    stable_mpids = [doc.material_id for doc in docs]\n",
    "    \n",
    "    ## -- Alternative directly using energy above hull:\n",
    "    docs = mpr.summary.search(\n",
    "        band_gap=(3, None), energy_above_hull=(0, 0), fields=[\"material_id\"]\n",
    "    )\n",
    "    stable_mpids = [doc.material_id for doc in docs]"
   ]
  },
  {
   "cell_type": "code",
   "execution_count": 12,
   "id": "91eb94e0",
   "metadata": {},
   "outputs": [
    {
     "name": "stderr",
     "output_type": "stream",
     "text": [
      "Retrieving ElectronicStructureDoc documents: 100%|██████████| 1/1 [00:00<00:00, 33288.13it/s]\n",
      "Retrieving ElectronicStructureDoc documents: 100%|██████████| 1/1 [00:00<00:00, 27776.85it/s]\n",
      "Retrieving ElectronicStructureDoc documents: 100%|██████████| 1/1 [00:00<00:00, 20460.02it/s]\n",
      "Retrieving ElectronicStructureDoc documents: 100%|██████████| 1/1 [00:00<00:00, 28532.68it/s]\n"
     ]
    }
   ],
   "source": [
    "#Band structures for silicon (mp-149)\n",
    "from mp_api.client import MPRester\n",
    "from emmet.core.electronic_structure import BSPathType\n",
    "\n",
    "with MPRester(Sparks_API) as mpr:\n",
    "    # -- line-mode, Setyawan-Curtarolo (default):\n",
    "    bs_sc = mpr.get_bandstructure_by_material_id(\"mp-149\")\n",
    "    \n",
    "    # -- line-mode, Hinuma et al.:\n",
    "    bs_hin = mpr.get_bandstructure_by_material_id(\"mp-149\", path_type=BSPathType.hinuma)\n",
    "\n",
    "    # -- line-mode, Latimer-Munro:\n",
    "    bs_hin = mpr.get_bandstructure_by_material_id(\"mp-149\", path_type=BSPathType.latimer_munro)\n",
    "    \n",
    "    # -- uniform:\n",
    "    bs_uniform = mpr.get_bandstructure_by_material_id(\"mp-149\", line_mode=False)                            "
   ]
  },
  {
   "cell_type": "code",
   "execution_count": 13,
   "id": "b3ebbd05",
   "metadata": {},
   "outputs": [
    {
     "name": "stderr",
     "output_type": "stream",
     "text": [
      "Retrieving ElectronicStructureDoc documents: 100%|██████████| 1/1 [00:00<00:00, 20867.18it/s]\n"
     ]
    }
   ],
   "source": [
    "#Density of states for silicon (mp-149)\n",
    "from mp_api.client import MPRester\n",
    "\n",
    "with MPRester(Sparks_API) as mpr:\n",
    "    dos = mpr.get_dos_by_material_id(\"mp-149\")"
   ]
  },
  {
   "cell_type": "code",
   "execution_count": 14,
   "id": "d0b4973b",
   "metadata": {},
   "outputs": [
    {
     "name": "stderr",
     "output_type": "stream",
     "text": [
      "/var/folders/9c/cqj0b8vx1l92m5mq0cczrw480000gn/T/ipykernel_22578/3788667349.py:7: DeprecationWarning: Accessing thermo data through MPRester.thermo is deprecated. Please use MPRester.materials.thermo instead.\n",
      "  pd = mpr.thermo.get_phase_diagram_from_chemsys(chemsys=\"Li-Fe-O\",\n",
      "Retrieving ThermoDoc documents: 100%|██████████| 1/1 [00:00<00:00, 33288.13it/s]\n",
      "/var/folders/9c/cqj0b8vx1l92m5mq0cczrw480000gn/T/ipykernel_22578/3788667349.py:11: DeprecationWarning: Accessing thermo data through MPRester.thermo is deprecated. Please use MPRester.materials.thermo instead.\n",
      "  pd = mpr.thermo.get_phase_diagram_from_chemsys(chemsys=\"Li-Fe-O\",\n",
      "Retrieving ThermoDoc documents: 100%|██████████| 1/1 [00:00<00:00, 34379.54it/s]\n",
      "/var/folders/9c/cqj0b8vx1l92m5mq0cczrw480000gn/T/ipykernel_22578/3788667349.py:15: DeprecationWarning: Accessing thermo data through MPRester.thermo is deprecated. Please use MPRester.materials.thermo instead.\n",
      "  pd = mpr.thermo.get_phase_diagram_from_chemsys(chemsys=\"Li-Fe-O\",\n",
      "Retrieving ThermoDoc documents: 100%|██████████| 1/1 [00:00<00:00, 32263.88it/s]\n"
     ]
    }
   ],
   "source": [
    "from mp_api.client import MPRester\n",
    "from emmet.core.thermo import ThermoType\n",
    "\n",
    "with MPRester(Sparks_API) as mpr:\n",
    "    \n",
    "    # -- GGA/GGA+U/R2SCAN mixed phase diagram\n",
    "    pd = mpr.thermo.get_phase_diagram_from_chemsys(chemsys=\"Li-Fe-O\", \n",
    "                                                   thermo_type=ThermoType.GGA_GGA_U_R2SCAN)\n",
    "    \n",
    "    # -- GGA/GGA+U mixed phase diagram\n",
    "    pd = mpr.thermo.get_phase_diagram_from_chemsys(chemsys=\"Li-Fe-O\", \n",
    "                                                   thermo_type=ThermoType.GGA_GGA_U)\n",
    "                                                   \n",
    "    # -- R2SCAN only phase diagram\n",
    "    pd = mpr.thermo.get_phase_diagram_from_chemsys(chemsys=\"Li-Fe-O\", \n",
    "                                                   thermo_type=ThermoType.R2SCAN)\n"
   ]
  },
  {
   "cell_type": "code",
   "execution_count": 15,
   "id": "29812cd3",
   "metadata": {},
   "outputs": [
    {
     "name": "stderr",
     "output_type": "stream",
     "text": [
      "Retrieving ThermoDoc documents: 100%|██████████| 378/378 [00:00<00:00, 10785353.14it/s]\n"
     ]
    }
   ],
   "source": [
    "from mp_api.client import MPRester\n",
    "from pymatgen.analysis.phase_diagram import PhaseDiagram, PDPlotter\n",
    "\n",
    "with MPRester(Sparks_API) as mpr:\n",
    "\n",
    "    # Obtain only corrected GGA and GGA+U ComputedStructureEntry objects\n",
    "    entries = mpr.get_entries_in_chemsys(elements=[\"Li\", \"Fe\", \"O\"], \n",
    "                                         additional_criteria={\"thermo_types\": [\"GGA_GGA+U\"]}) \n",
    "    # Construct phase diagram\n",
    "    pd = PhaseDiagram(entries)\n",
    "    \n",
    "    # Plot phase diagram\n",
    "    PDPlotter(pd).get_plot()\n",
    "    "
   ]
  },
  {
   "cell_type": "markdown",
   "id": "b13e718f",
   "metadata": {},
   "source": []
  },
  {
   "cell_type": "code",
   "execution_count": 16,
   "id": "baaea2f1",
   "metadata": {},
   "outputs": [
    {
     "data": {
      "application/vnd.plotly.v1+json": {
       "config": {
        "plotlyServerURL": "https://plot.ly"
       },
       "data": [
        {
         "a": [
          40,
          0,
          null,
          0,
          0,
          null,
          2,
          0,
          null,
          4,
          40,
          null,
          0,
          0,
          null,
          0,
          1,
          null,
          0,
          3,
          null,
          2,
          40,
          null,
          1,
          8,
          null,
          0,
          4,
          null,
          1,
          4,
          null,
          0,
          4,
          null,
          1,
          0,
          null,
          4,
          40,
          null,
          0,
          0,
          null,
          2,
          3,
          null,
          2,
          4,
          null,
          4,
          0,
          null,
          8,
          40,
          null,
          4,
          8,
          null,
          4,
          8,
          null,
          0,
          4,
          null,
          0,
          0,
          null,
          1,
          4,
          null
         ],
         "b": [
          8,
          1,
          null,
          4,
          1,
          null,
          0,
          1,
          null,
          0,
          8,
          null,
          4,
          6,
          null,
          4,
          0,
          null,
          1,
          0,
          null,
          0,
          8,
          null,
          0,
          4,
          null,
          4,
          4,
          null,
          0,
          4,
          null,
          6,
          4,
          null,
          0,
          0,
          null,
          4,
          8,
          null,
          4,
          6,
          null,
          0,
          0,
          null,
          0,
          0,
          null,
          4,
          1,
          null,
          4,
          8,
          null,
          0,
          4,
          null,
          4,
          4,
          null,
          4,
          4,
          null,
          4,
          0,
          null,
          0,
          0,
          null
         ],
         "c": [
          32,
          0,
          null,
          4,
          0,
          null,
          1,
          0,
          null,
          4,
          32,
          null,
          4,
          8,
          null,
          6,
          8,
          null,
          0,
          0,
          null,
          1,
          32,
          null,
          8,
          12,
          null,
          4,
          8,
          null,
          8,
          8,
          null,
          8,
          8,
          null,
          8,
          8,
          null,
          8,
          32,
          null,
          6,
          8,
          null,
          1,
          0,
          null,
          1,
          4,
          null,
          8,
          0,
          null,
          12,
          32,
          null,
          4,
          12,
          null,
          8,
          12,
          null,
          6,
          8,
          null,
          6,
          8,
          null,
          8,
          4,
          null
         ],
         "hoverinfo": "none",
         "line": {
          "color": "black",
          "width": 1.5
         },
         "mode": "lines",
         "showlegend": false,
         "type": "scatterternary"
        },
        {
         "a": [
          0,
          1,
          0
         ],
         "b": [
          4,
          0,
          0
         ],
         "c": [
          6,
          8,
          8
         ],
         "fill": "toself",
         "fillcolor": "#2E91E5",
         "hovertemplate": "<extra></extra>",
         "line": {
          "width": 0
         },
         "mode": "lines",
         "name": "Fe<sub>2</sub>O<sub>3</sub>—LiO<sub>8</sub>—O<sub>2</sub>",
         "opacity": 0.15,
         "showlegend": false,
         "type": "scatterternary"
        },
        {
         "a": [
          2,
          4,
          40
         ],
         "b": [
          0,
          0,
          8
         ],
         "c": [
          1,
          4,
          32
         ],
         "fill": "toself",
         "fillcolor": "#E15F99",
         "hovertemplate": "<extra></extra>",
         "line": {
          "width": 0
         },
         "mode": "lines",
         "name": "Li<sub>2</sub>O—Li<sub>2</sub>O<sub>2</sub>—Li<sub>5</sub>FeO<sub>4</sub>",
         "opacity": 0.15,
         "showlegend": false,
         "type": "scatterternary"
        },
        {
         "a": [
          0,
          3,
          2
         ],
         "b": [
          1,
          0,
          0
         ],
         "c": [
          0,
          0,
          1
         ],
         "fill": "toself",
         "fillcolor": "#1CA71C",
         "hovertemplate": "<extra></extra>",
         "line": {
          "width": 0
         },
         "mode": "lines",
         "name": "Fe—Li—Li<sub>2</sub>O",
         "opacity": 0.15,
         "showlegend": false,
         "type": "scatterternary"
        },
        {
         "a": [
          0,
          2,
          40
         ],
         "b": [
          1,
          0,
          8
         ],
         "c": [
          0,
          1,
          32
         ],
         "fill": "toself",
         "fillcolor": "#FB0D0D",
         "hovertemplate": "<extra></extra>",
         "line": {
          "width": 0
         },
         "mode": "lines",
         "name": "Fe—Li<sub>2</sub>O—Li<sub>5</sub>FeO<sub>4</sub>",
         "opacity": 0.15,
         "showlegend": false,
         "type": "scatterternary"
        },
        {
         "a": [
          8,
          4,
          1
         ],
         "b": [
          4,
          0,
          0
         ],
         "c": [
          12,
          4,
          8
         ],
         "fill": "toself",
         "fillcolor": "#DA16FF",
         "hovertemplate": "<extra></extra>",
         "line": {
          "width": 0
         },
         "mode": "lines",
         "name": "Li<sub>2</sub>FeO<sub>3</sub>—Li<sub>2</sub>O<sub>2</sub>—LiO<sub>8</sub>",
         "opacity": 0.15,
         "showlegend": false,
         "type": "scatterternary"
        },
        {
         "a": [
          8,
          4,
          40
         ],
         "b": [
          4,
          0,
          8
         ],
         "c": [
          12,
          4,
          32
         ],
         "fill": "toself",
         "fillcolor": "#222A2A",
         "hovertemplate": "<extra></extra>",
         "line": {
          "width": 0
         },
         "mode": "lines",
         "name": "Li<sub>2</sub>FeO<sub>3</sub>—Li<sub>2</sub>O<sub>2</sub>—Li<sub>5</sub>FeO<sub>4</sub>",
         "opacity": 0.15,
         "showlegend": false,
         "type": "scatterternary"
        },
        {
         "a": [
          0,
          4,
          1
         ],
         "b": [
          4,
          4,
          0
         ],
         "c": [
          6,
          8,
          8
         ],
         "fill": "toself",
         "fillcolor": "#B68100",
         "hovertemplate": "<extra></extra>",
         "line": {
          "width": 0
         },
         "mode": "lines",
         "name": "Fe<sub>2</sub>O<sub>3</sub>—LiFeO<sub>2</sub>—LiO<sub>8</sub>",
         "opacity": 0.15,
         "showlegend": false,
         "type": "scatterternary"
        },
        {
         "a": [
          8,
          4,
          1
         ],
         "b": [
          4,
          4,
          0
         ],
         "c": [
          12,
          8,
          8
         ],
         "fill": "toself",
         "fillcolor": "#750D86",
         "hovertemplate": "<extra></extra>",
         "line": {
          "width": 0
         },
         "mode": "lines",
         "name": "Li<sub>2</sub>FeO<sub>3</sub>—LiFeO<sub>2</sub>—LiO<sub>8</sub>",
         "opacity": 0.15,
         "showlegend": false,
         "type": "scatterternary"
        },
        {
         "a": [
          8,
          40,
          4
         ],
         "b": [
          4,
          8,
          4
         ],
         "c": [
          12,
          32,
          8
         ],
         "fill": "toself",
         "fillcolor": "#EB663B",
         "hovertemplate": "<extra></extra>",
         "line": {
          "width": 0
         },
         "mode": "lines",
         "name": "Li<sub>2</sub>FeO<sub>3</sub>—Li<sub>5</sub>FeO<sub>4</sub>—LiFeO<sub>2</sub>",
         "opacity": 0.15,
         "showlegend": false,
         "type": "scatterternary"
        },
        {
         "a": [
          0,
          0,
          4
         ],
         "b": [
          1,
          4,
          4
         ],
         "c": [
          0,
          4,
          8
         ],
         "fill": "toself",
         "fillcolor": "#511CFB",
         "hovertemplate": "<extra></extra>",
         "line": {
          "width": 0
         },
         "mode": "lines",
         "name": "Fe—FeO—LiFeO<sub>2</sub>",
         "opacity": 0.15,
         "showlegend": false,
         "type": "scatterternary"
        },
        {
         "a": [
          0,
          40,
          4
         ],
         "b": [
          1,
          8,
          4
         ],
         "c": [
          0,
          32,
          8
         ],
         "fill": "toself",
         "fillcolor": "#00A08B",
         "hovertemplate": "<extra></extra>",
         "line": {
          "width": 0
         },
         "mode": "lines",
         "name": "Fe—Li<sub>5</sub>FeO<sub>4</sub>—LiFeO<sub>2</sub>",
         "opacity": 0.15,
         "showlegend": false,
         "type": "scatterternary"
        },
        {
         "a": [
          0,
          0,
          4
         ],
         "b": [
          4,
          6,
          4
         ],
         "c": [
          6,
          8,
          8
         ],
         "fill": "toself",
         "fillcolor": "#FB00D1",
         "hovertemplate": "<extra></extra>",
         "line": {
          "width": 0
         },
         "mode": "lines",
         "name": "Fe<sub>2</sub>O<sub>3</sub>—Fe<sub>3</sub>O<sub>4</sub>—LiFeO<sub>2</sub>",
         "opacity": 0.15,
         "showlegend": false,
         "type": "scatterternary"
        },
        {
         "a": [
          0,
          0,
          4
         ],
         "b": [
          6,
          4,
          4
         ],
         "c": [
          8,
          4,
          8
         ],
         "fill": "toself",
         "fillcolor": "#FC0080",
         "hovertemplate": "<extra></extra>",
         "line": {
          "width": 0
         },
         "mode": "lines",
         "name": "Fe<sub>3</sub>O<sub>4</sub>—FeO—LiFeO<sub>2</sub>",
         "opacity": 0.15,
         "showlegend": false,
         "type": "scatterternary"
        },
        {
         "a": [
          40,
          0,
          0,
          2,
          4,
          0,
          0,
          1,
          3,
          8,
          4,
          0
         ],
         "b": [
          8,
          1,
          4,
          0,
          0,
          6,
          4,
          0,
          0,
          4,
          4,
          0
         ],
         "c": [
          32,
          0,
          4,
          1,
          4,
          8,
          6,
          8,
          0,
          12,
          8,
          8
         ],
         "cliponaxis": false,
         "hoverinfo": "text",
         "hoverlabel": {
          "font": {
           "size": 14
          }
         },
         "hovertext": [
          "Li<sub>5</sub>FeO<sub>4</sub> (mp-19511-GGA+U) <br> -2.042 eV/atom (Stable)",
          "Fe (mp-13-GGA) <br> 0.0 eV/atom (Stable)",
          "FeO (mp-1274279-GGA+U) <br> -1.482 eV/atom (Stable)",
          "Li<sub>2</sub>O (mp-1960-GGA) <br> -2.062 eV/atom (Stable)",
          "Li<sub>2</sub>O<sub>2</sub> (mp-841-GGA) <br> -1.65 eV/atom (Stable)",
          "Fe<sub>3</sub>O<sub>4</sub> (mp-19306-GGA+U) <br> -1.645 eV/atom (Stable)",
          "Fe<sub>2</sub>O<sub>3</sub> (mp-19770-GGA+U) <br> -1.707 eV/atom (Stable)",
          "LiO<sub>8</sub> (mp-1235059-GGA) <br> -0.427 eV/atom (Stable)",
          "Li (mp-1018134-GGA) <br> 0.0 eV/atom (Stable)",
          "Li<sub>2</sub>FeO<sub>3</sub> (mp-774155-GGA+U) <br> -1.878 eV/atom (Stable)",
          "LiFeO<sub>2</sub> (mp-757614-GGA+U) <br> -1.945 eV/atom (Stable)",
          "O<sub>2</sub> (mp-12957-GGA) <br> 0.0 eV/atom (Stable)"
         ],
         "marker": {
          "color": "green",
          "line": {
           "color": "black",
           "width": 2
          },
          "size": 15,
          "symbol": "circle"
         },
         "mode": "markers",
         "name": "Stable",
         "showlegend": true,
         "type": "scatterternary"
        },
        {
         "a": [
          0,
          0,
          0,
          0,
          0,
          0,
          0,
          0,
          0,
          0,
          0,
          0,
          0,
          0,
          0,
          0,
          0,
          0,
          0,
          0,
          0,
          0,
          0,
          0,
          0,
          0,
          0,
          0,
          0,
          0,
          0,
          0,
          0,
          0,
          0,
          0,
          0,
          0,
          0,
          0,
          0,
          0,
          0,
          0,
          0,
          0,
          0,
          0,
          0,
          0,
          0,
          0,
          0,
          0,
          0,
          0,
          0,
          0,
          0,
          0,
          0,
          0,
          0,
          0,
          0,
          0,
          0,
          0,
          0,
          0,
          0,
          0,
          0,
          0,
          0,
          0,
          0,
          0,
          0,
          0,
          0,
          0,
          0,
          0,
          0,
          0,
          0,
          0,
          0,
          0,
          0,
          0,
          0,
          3,
          1,
          2,
          4,
          1,
          12,
          8,
          2,
          1,
          1,
          1,
          1,
          1,
          1,
          4,
          2,
          1,
          2,
          5,
          4,
          1,
          16,
          12,
          4,
          4,
          2,
          2,
          1,
          1,
          2,
          2,
          8,
          4,
          2,
          4,
          4,
          2,
          2,
          8,
          2,
          4,
          1,
          2,
          1,
          1,
          1,
          1,
          2,
          1,
          4,
          8,
          1,
          2,
          1,
          2,
          1,
          2,
          1,
          1,
          68,
          68,
          8,
          68,
          68,
          4,
          8,
          8,
          8,
          8,
          8,
          8,
          4,
          8,
          4,
          4,
          2,
          4,
          2,
          12,
          12,
          12,
          12,
          12,
          3,
          6,
          3,
          12,
          3,
          12,
          12,
          3,
          6,
          3,
          18,
          6,
          6,
          6,
          6,
          6,
          3,
          6,
          3,
          6,
          6,
          6,
          3,
          3,
          3,
          3,
          12,
          6,
          3,
          3,
          6,
          6,
          3,
          16,
          16,
          16,
          16,
          4,
          4,
          4,
          4,
          8,
          8,
          20,
          20,
          20,
          20,
          40,
          20,
          10,
          10,
          10,
          5,
          10,
          10,
          5,
          5,
          5,
          10,
          5,
          24,
          6,
          12,
          12,
          6,
          6,
          7,
          14,
          7,
          7,
          7,
          7,
          16,
          16,
          32,
          32,
          16,
          16,
          8,
          16,
          8,
          8,
          18,
          9,
          18,
          9,
          9,
          10,
          11,
          12,
          13,
          28,
          15,
          30,
          21,
          35
         ],
         "b": [
          0,
          0,
          0,
          0,
          0,
          0,
          0,
          0,
          28,
          4,
          2,
          2,
          1,
          4,
          12,
          4,
          2,
          2,
          2,
          4,
          12,
          4,
          8,
          4,
          2,
          2,
          8,
          16,
          16,
          4,
          64,
          8,
          16,
          16,
          16,
          8,
          16,
          16,
          8,
          24,
          12,
          12,
          24,
          24,
          12,
          6,
          12,
          12,
          24,
          12,
          6,
          24,
          3,
          12,
          12,
          12,
          6,
          12,
          12,
          12,
          12,
          24,
          6,
          8,
          5,
          5,
          20,
          5,
          7,
          14,
          16,
          8,
          9,
          10,
          20,
          11,
          12,
          13,
          13,
          14,
          15,
          15,
          17,
          21,
          21,
          23,
          23,
          23,
          25,
          32,
          38,
          41,
          43,
          0,
          0,
          0,
          0,
          0,
          0,
          0,
          0,
          0,
          0,
          0,
          0,
          0,
          0,
          4,
          2,
          1,
          2,
          5,
          4,
          1,
          16,
          12,
          4,
          4,
          2,
          4,
          2,
          2,
          4,
          4,
          16,
          8,
          4,
          8,
          8,
          4,
          4,
          16,
          4,
          8,
          2,
          6,
          3,
          3,
          3,
          3,
          6,
          5,
          20,
          40,
          5,
          16,
          8,
          16,
          8,
          16,
          8,
          23,
          0,
          0,
          0,
          0,
          0,
          0,
          4,
          4,
          4,
          4,
          4,
          4,
          2,
          4,
          6,
          6,
          3,
          6,
          5,
          4,
          4,
          4,
          4,
          4,
          1,
          2,
          1,
          4,
          1,
          4,
          4,
          2,
          4,
          2,
          12,
          4,
          4,
          4,
          4,
          4,
          3,
          6,
          3,
          6,
          6,
          6,
          3,
          4,
          4,
          4,
          20,
          10,
          5,
          5,
          10,
          10,
          7,
          4,
          4,
          8,
          8,
          3,
          3,
          3,
          5,
          14,
          18,
          4,
          4,
          4,
          4,
          8,
          4,
          6,
          6,
          8,
          4,
          10,
          10,
          5,
          7,
          11,
          22,
          11,
          4,
          1,
          6,
          10,
          5,
          7,
          1,
          6,
          3,
          5,
          5,
          5,
          2,
          2,
          8,
          8,
          10,
          10,
          5,
          10,
          5,
          7,
          4,
          2,
          4,
          5,
          23,
          21,
          4,
          5,
          2,
          8,
          2,
          8,
          4,
          8
         ],
         "c": [
          8,
          8,
          4,
          2,
          4,
          2,
          2,
          2,
          0,
          0,
          0,
          0,
          0,
          0,
          12,
          4,
          2,
          2,
          2,
          4,
          12,
          4,
          16,
          8,
          4,
          4,
          16,
          24,
          24,
          6,
          96,
          12,
          24,
          24,
          24,
          12,
          24,
          24,
          12,
          32,
          16,
          16,
          32,
          32,
          16,
          8,
          16,
          16,
          32,
          16,
          8,
          32,
          4,
          16,
          16,
          16,
          8,
          16,
          16,
          16,
          16,
          32,
          8,
          10,
          7,
          8,
          32,
          8,
          8,
          16,
          18,
          9,
          10,
          11,
          22,
          12,
          13,
          14,
          15,
          15,
          16,
          16,
          18,
          23,
          32,
          25,
          32,
          32,
          32,
          35,
          39,
          56,
          64,
          0,
          0,
          0,
          0,
          0,
          0,
          0,
          4,
          8,
          8,
          8,
          8,
          8,
          8,
          8,
          4,
          2,
          4,
          10,
          8,
          2,
          32,
          36,
          12,
          12,
          6,
          6,
          3,
          3,
          6,
          6,
          32,
          16,
          8,
          16,
          16,
          8,
          8,
          32,
          8,
          16,
          4,
          8,
          4,
          4,
          4,
          6,
          12,
          8,
          32,
          64,
          8,
          24,
          12,
          24,
          12,
          24,
          16,
          32,
          34,
          34,
          4,
          34,
          34,
          4,
          8,
          8,
          8,
          8,
          12,
          12,
          6,
          12,
          12,
          12,
          6,
          12,
          10,
          12,
          12,
          12,
          12,
          12,
          4,
          8,
          4,
          16,
          4,
          16,
          16,
          6,
          12,
          6,
          36,
          12,
          12,
          12,
          12,
          12,
          8,
          16,
          8,
          16,
          16,
          16,
          8,
          8,
          8,
          8,
          32,
          18,
          10,
          12,
          24,
          24,
          12,
          12,
          16,
          20,
          20,
          8,
          8,
          8,
          10,
          24,
          36,
          16,
          16,
          16,
          16,
          32,
          16,
          16,
          16,
          16,
          8,
          24,
          24,
          12,
          12,
          16,
          32,
          16,
          16,
          6,
          16,
          24,
          12,
          15,
          6,
          16,
          10,
          12,
          12,
          16,
          12,
          12,
          28,
          36,
          20,
          20,
          10,
          20,
          10,
          15,
          16,
          8,
          16,
          12,
          32,
          32,
          12,
          16,
          12,
          26,
          12,
          32,
          16,
          32
         ],
         "cliponaxis": false,
         "hoverinfo": "text",
         "hoverlabel": {
          "font": {
           "size": 14
          }
         },
         "hovertext": [
          "O<sub>2</sub> (mp-723285-GGA) <br> 0.001 eV/atom (+0.001 eV/atom)",
          "O<sub>2</sub> (mp-1087546-GGA) <br> 0.018 eV/atom (+0.018 eV/atom)",
          "O<sub>2</sub> (mp-1066100-GGA) <br> 0.126 eV/atom (+0.126 eV/atom)",
          "O<sub>2</sub> (mp-1009490-GGA) <br> 0.002 eV/atom (+0.002 eV/atom)",
          "O<sub>2</sub> (mp-1180036-GGA) <br> 0.03 eV/atom (+0.03 eV/atom)",
          "O<sub>2</sub> (mp-607540-GGA) <br> 0.121 eV/atom (+0.121 eV/atom)",
          "O<sub>2</sub> (mp-610917-GGA) <br> 0.012 eV/atom (+0.012 eV/atom)",
          "O<sub>2</sub> (mp-611836-GGA) <br> 0.01 eV/atom (+0.01 eV/atom)",
          "Fe (mp-1194030-GGA) <br> 0.175 eV/atom (+0.175 eV/atom)",
          "Fe (mp-1271068-GGA) <br> 0.017 eV/atom (+0.017 eV/atom)",
          "Fe (mp-1271128-GGA) <br> 0.099 eV/atom (+0.099 eV/atom)",
          "Fe (mp-136-GGA) <br> 0.098 eV/atom (+0.098 eV/atom)",
          "Fe (mp-150-GGA) <br> 0.148 eV/atom (+0.148 eV/atom)",
          "Fe (mp-1271198-GGA) <br> 0.055 eV/atom (+0.055 eV/atom)",
          "FeO (mp-849689-GGA+U) <br> -1.378 eV/atom (+0.104 eV/atom)",
          "FeO (mp-753682-GGA+U) <br> -1.394 eV/atom (+0.087 eV/atom)",
          "FeO (mp-715262-GGA+U) <br> -1.472 eV/atom (+0.009 eV/atom)",
          "FeO (mp-755189-GGA+U) <br> -1.368 eV/atom (+0.113 eV/atom)",
          "FeO (mp-756436-GGA+U) <br> -1.366 eV/atom (+0.116 eV/atom)",
          "FeO (mp-1178232-GGA+U) <br> -1.469 eV/atom (+0.012 eV/atom)",
          "FeO (mp-1178247-GGA+U) <br> -1.37 eV/atom (+0.111 eV/atom)",
          "FeO (mp-1283030-GGA+U) <br> -1.467 eV/atom (+0.014 eV/atom)",
          "FeO<sub>2</sub> (mp-1205429-GGA+U) <br> -1.236 eV/atom (+0.186 eV/atom)",
          "FeO<sub>2</sub> (mp-796324-GGA+U) <br> -1.243 eV/atom (+0.18 eV/atom)",
          "FeO<sub>2</sub> (mp-850222-GGA+U) <br> -1.277 eV/atom (+0.145 eV/atom)",
          "FeO<sub>2</sub> (mp-25332-GGA+U) <br> -1.255 eV/atom (+0.167 eV/atom)",
          "FeO<sub>2</sub> (mp-1181766-GGA+U) <br> -1.242 eV/atom (+0.18 eV/atom)",
          "Fe<sub>2</sub>O<sub>3</sub> (mp-776606-GGA+U) <br> -1.584 eV/atom (+0.123 eV/atom)",
          "Fe<sub>2</sub>O<sub>3</sub> (mp-1178392-GGA+U) <br> -1.594 eV/atom (+0.113 eV/atom)",
          "Fe<sub>2</sub>O<sub>3</sub> (mp-1181824-GGA+U) <br> -1.539 eV/atom (+0.168 eV/atom)",
          "Fe<sub>2</sub>O<sub>3</sub> (mp-1456-GGA+U) <br> -1.588 eV/atom (+0.119 eV/atom)",
          "Fe<sub>2</sub>O<sub>3</sub> (mp-715276-GGA+U) <br> -1.621 eV/atom (+0.086 eV/atom)",
          "Fe<sub>2</sub>O<sub>3</sub> (mp-1356129-GGA+U) <br> -1.622 eV/atom (+0.085 eV/atom)",
          "Fe<sub>2</sub>O<sub>3</sub> (mp-542896-GGA+U) <br> -1.591 eV/atom (+0.116 eV/atom)",
          "Fe<sub>2</sub>O<sub>3</sub> (mp-705547-GGA+U) <br> -1.547 eV/atom (+0.16 eV/atom)",
          "Fe<sub>2</sub>O<sub>3</sub> (mp-1205415-GGA+U) <br> -1.53 eV/atom (+0.177 eV/atom)",
          "Fe<sub>2</sub>O<sub>3</sub> (mp-565814-GGA+U) <br> -1.636 eV/atom (+0.071 eV/atom)",
          "Fe<sub>2</sub>O<sub>3</sub> (mp-715572-GGA+U) <br> -1.63 eV/atom (+0.077 eV/atom)",
          "Fe<sub>2</sub>O<sub>3</sub> (mp-510080-GGA+U) <br> -1.576 eV/atom (+0.131 eV/atom)",
          "Fe<sub>3</sub>O<sub>4</sub> (mp-1182249-GGA+U) <br> -1.593 eV/atom (+0.052 eV/atom)",
          "Fe<sub>3</sub>O<sub>4</sub> (mp-715558-GGA+U) <br> -1.567 eV/atom (+0.079 eV/atom)",
          "Fe<sub>3</sub>O<sub>4</sub> (mp-715275-GGA+U) <br> -1.531 eV/atom (+0.114 eV/atom)",
          "Fe<sub>3</sub>O<sub>4</sub> (mp-650112-GGA+U) <br> -1.586 eV/atom (+0.059 eV/atom)",
          "Fe<sub>3</sub>O<sub>4</sub> (mp-1185276-GGA+U) <br> -1.586 eV/atom (+0.059 eV/atom)",
          "Fe<sub>3</sub>O<sub>4</sub> (mp-1271978-GGA+U) <br> -1.616 eV/atom (+0.029 eV/atom)",
          "Fe<sub>3</sub>O<sub>4</sub> (mp-612405-GGA+U) <br> -1.468 eV/atom (+0.177 eV/atom)",
          "Fe<sub>3</sub>O<sub>4</sub> (mp-716052-GGA+U) <br> -1.57 eV/atom (+0.075 eV/atom)",
          "Fe<sub>3</sub>O<sub>4</sub> (mp-1271729-GGA+U) <br> -1.583 eV/atom (+0.062 eV/atom)",
          "Fe<sub>3</sub>O<sub>4</sub> (mp-1182229-GGA+U) <br> -1.514 eV/atom (+0.131 eV/atom)",
          "Fe<sub>3</sub>O<sub>4</sub> (mp-1181570-GGA+U) <br> -1.513 eV/atom (+0.133 eV/atom)",
          "Fe<sub>3</sub>O<sub>4</sub> (mp-715438-GGA+U) <br> -1.567 eV/atom (+0.078 eV/atom)",
          "Fe<sub>3</sub>O<sub>4</sub> (mp-705416-GGA+U) <br> -1.499 eV/atom (+0.146 eV/atom)",
          "Fe<sub>3</sub>O<sub>4</sub> (mp-1181340-GGA+U) <br> -1.521 eV/atom (+0.124 eV/atom)",
          "Fe<sub>3</sub>O<sub>4</sub> (mp-505595-GGA+U) <br> -1.531 eV/atom (+0.114 eV/atom)",
          "Fe<sub>3</sub>O<sub>4</sub> (mp-1181546-GGA+U) <br> -1.569 eV/atom (+0.076 eV/atom)",
          "Fe<sub>3</sub>O<sub>4</sub> (mp-1192788-GGA+U) <br> -1.536 eV/atom (+0.109 eV/atom)",
          "Fe<sub>3</sub>O<sub>4</sub> (mp-31770-GGA+U) <br> -1.628 eV/atom (+0.017 eV/atom)",
          "Fe<sub>3</sub>O<sub>4</sub> (mp-510252-GGA+U) <br> -1.57 eV/atom (+0.075 eV/atom)",
          "Fe<sub>3</sub>O<sub>4</sub> (mp-1271821-GGA+U) <br> -1.621 eV/atom (+0.024 eV/atom)",
          "Fe<sub>3</sub>O<sub>4</sub> (mp-1181657-GGA+U) <br> -1.605 eV/atom (+0.04 eV/atom)",
          "Fe<sub>3</sub>O<sub>4</sub> (mp-715811-GGA+U) <br> -1.608 eV/atom (+0.037 eV/atom)",
          "Fe<sub>3</sub>O<sub>4</sub> (mp-1181813-GGA+U) <br> -1.597 eV/atom (+0.048 eV/atom)",
          "Fe<sub>3</sub>O<sub>4</sub> (mp-18731-GGA+U) <br> -1.537 eV/atom (+0.108 eV/atom)",
          "Fe<sub>4</sub>O<sub>5</sub> (mp-1188678-GGA+U) <br> -1.519 eV/atom (+0.09 eV/atom)",
          "Fe<sub>5</sub>O<sub>7</sub> (mp-1095382-GGA+U) <br> -1.5 eV/atom (+0.171 eV/atom)",
          "Fe<sub>5</sub>O<sub>8</sub> (mp-1225007-GGA+U) <br> -1.46 eV/atom (+0.182 eV/atom)",
          "Fe<sub>5</sub>O<sub>8</sub> (mp-510746-GGA+U) <br> -1.478 eV/atom (+0.163 eV/atom)",
          "Fe<sub>5</sub>O<sub>8</sub> (mp-1225001-GGA+U) <br> -1.456 eV/atom (+0.185 eV/atom)",
          "Fe<sub>7</sub>O<sub>8</sub> (mp-32939-GGA+U) <br> -1.459 eV/atom (+0.099 eV/atom)",
          "Fe<sub>7</sub>O<sub>8</sub> (mp-715333-GGA+U) <br> -1.494 eV/atom (+0.064 eV/atom)",
          "Fe<sub>8</sub>O<sub>9</sub> (mp-705588-GGA+U) <br> -1.499 eV/atom (+0.05 eV/atom)",
          "Fe<sub>8</sub>O<sub>9</sub> (mp-763787-GGA+U) <br> -1.487 eV/atom (+0.062 eV/atom)",
          "Fe<sub>9</sub>O<sub>10</sub> (mp-759037-GGA+U) <br> -1.502 eV/atom (+0.04 eV/atom)",
          "Fe<sub>10</sub>O<sub>11</sub> (mp-759504-GGA+U) <br> -1.479 eV/atom (+0.057 eV/atom)",
          "Fe<sub>10</sub>O<sub>11</sub> (mp-705555-GGA+U) <br> -1.491 eV/atom (+0.045 eV/atom)",
          "Fe<sub>11</sub>O<sub>12</sub> (mp-705417-GGA+U) <br> -1.482 eV/atom (+0.05 eV/atom)",
          "Fe<sub>12</sub>O<sub>13</sub> (mp-764326-GGA+U) <br> -1.444 eV/atom (+0.083 eV/atom)",
          "Fe<sub>13</sub>O<sub>14</sub> (mp-705414-GGA+U) <br> -1.452 eV/atom (+0.072 eV/atom)",
          "Fe<sub>13</sub>O<sub>15</sub> (mp-756693-GGA+U) <br> -1.486 eV/atom (+0.078 eV/atom)",
          "Fe<sub>14</sub>O<sub>15</sub> (mp-764417-GGA+U) <br> -1.462 eV/atom (+0.059 eV/atom)",
          "Fe<sub>15</sub>O<sub>16</sub> (mp-1224936-GGA+U) <br> -1.434 eV/atom (+0.084 eV/atom)",
          "Fe<sub>15</sub>O<sub>16</sub> (mp-705551-GGA+U) <br> -1.442 eV/atom (+0.077 eV/atom)",
          "Fe<sub>17</sub>O<sub>18</sub> (mp-705424-GGA+U) <br> -1.474 eV/atom (+0.04 eV/atom)",
          "Fe<sub>21</sub>O<sub>23</sub> (mp-706875-GGA+U) <br> -1.48 eV/atom (+0.053 eV/atom)",
          "Fe<sub>21</sub>O<sub>32</sub> (mp-530048-GGA+U) <br> -1.496 eV/atom (+0.195 eV/atom)",
          "Fe<sub>23</sub>O<sub>25</sub> (mp-705553-GGA+U) <br> -1.479 eV/atom (+0.05 eV/atom)",
          "Fe<sub>23</sub>O<sub>32</sub> (mp-776135-GGA+U) <br> -1.559 eV/atom (+0.109 eV/atom)",
          "Fe<sub>23</sub>O<sub>32</sub> (mp-774295-GGA+U) <br> -1.479 eV/atom (+0.188 eV/atom)",
          "Fe<sub>25</sub>O<sub>32</sub> (mp-1194978-GGA+U) <br> -1.437 eV/atom (+0.185 eV/atom)",
          "Fe<sub>32</sub>O<sub>35</sub> (mp-863766-GGA+U) <br> -1.475 eV/atom (+0.058 eV/atom)",
          "Fe<sub>38</sub>O<sub>39</sub> (mp-705753-GGA+U) <br> -1.425 eV/atom (+0.071 eV/atom)",
          "Fe<sub>41</sub>O<sub>56</sub> (mp-757565-GGA+U) <br> -1.571 eV/atom (+0.087 eV/atom)",
          "Fe<sub>43</sub>O<sub>64</sub> (mp-530050-GGA+U) <br> -1.587 eV/atom (+0.116 eV/atom)",
          "Li (mp-1063005-GGA) <br> 0.019 eV/atom (+0.019 eV/atom)",
          "Li (mp-51-GGA) <br> 0.003 eV/atom (+0.003 eV/atom)",
          "Li (mp-10173-GGA) <br> 0.003 eV/atom (+0.003 eV/atom)",
          "Li (mp-976411-GGA) <br> 0.003 eV/atom (+0.003 eV/atom)",
          "Li (mp-135-GGA) <br> 0.005 eV/atom (+0.005 eV/atom)",
          "Li (mp-1103107-GGA) <br> 0.055 eV/atom (+0.055 eV/atom)",
          "Li (mp-567337-GGA) <br> 0.011 eV/atom (+0.011 eV/atom)",
          "LiO<sub>2</sub> (mp-1018789-GGA) <br> -1.043 eV/atom (+0.083 eV/atom)",
          "LiO<sub>8</sub> (mp-1236127-GGA) <br> -0.411 eV/atom (+0.016 eV/atom)",
          "LiO<sub>8</sub> (mp-1236522-GGA) <br> -0.357 eV/atom (+0.07 eV/atom)",
          "LiO<sub>8</sub> (mp-1235185-GGA) <br> -0.422 eV/atom (+0.005 eV/atom)",
          "LiO<sub>8</sub> (mp-1235698-GGA) <br> -0.359 eV/atom (+0.068 eV/atom)",
          "LiO<sub>8</sub> (mp-1235252-GGA) <br> -0.418 eV/atom (+0.009 eV/atom)",
          "LiO<sub>8</sub> (mp-1232999-GGA) <br> -0.41 eV/atom (+0.017 eV/atom)",
          "LiFeO<sub>2</sub> (mp-756527-GGA+U) <br> -1.867 eV/atom (+0.078 eV/atom)",
          "LiFeO<sub>2</sub> (mp-754977-GGA+U) <br> -1.906 eV/atom (+0.039 eV/atom)",
          "LiFeO<sub>2</sub> (mp-19419-GGA+U) <br> -1.87 eV/atom (+0.075 eV/atom)",
          "LiFeO<sub>2</sub> (mp-18782-GGA+U) <br> -1.925 eV/atom (+0.02 eV/atom)",
          "LiFeO<sub>2</sub> (mp-756497-GGA+U) <br> -1.918 eV/atom (+0.027 eV/atom)",
          "LiFeO<sub>2</sub> (mp-755709-GGA+U) <br> -1.944 eV/atom (+0.001 eV/atom)",
          "LiFeO<sub>2</sub> (mp-1222302-GGA+U) <br> -1.825 eV/atom (+0.12 eV/atom)",
          "LiFeO<sub>2</sub> (mp-850511-GGA+U) <br> -1.865 eV/atom (+0.08 eV/atom)",
          "LiFeO<sub>3</sub> (mp-760833-GGA+U) <br> -1.434 eV/atom (+0.131 eV/atom)",
          "LiFeO<sub>3</sub> (mp-752521-GGA+U) <br> -1.417 eV/atom (+0.147 eV/atom)",
          "LiFeO<sub>3</sub> (mp-756941-GGA+U) <br> -1.416 eV/atom (+0.148 eV/atom)",
          "LiFeO<sub>3</sub> (mp-752790-GGA+U) <br> -1.392 eV/atom (+0.172 eV/atom)",
          "LiFe<sub>2</sub>O<sub>3</sub> (mp-1282759-GGA+U) <br> -1.724 eV/atom (+0.067 eV/atom)",
          "LiFe<sub>2</sub>O<sub>3</sub> (mp-2411688-GGA+U) <br> -1.73 eV/atom (+0.06 eV/atom)",
          "LiFe<sub>2</sub>O<sub>3</sub> (mp-756381-GGA+U) <br> -1.696 eV/atom (+0.094 eV/atom)",
          "LiFe<sub>2</sub>O<sub>3</sub> (mp-1309364-GGA+U) <br> -1.748 eV/atom (+0.043 eV/atom)",
          "LiFe<sub>2</sub>O<sub>3</sub> (mp-1298536-GGA+U) <br> -1.763 eV/atom (+0.027 eV/atom)",
          "Li(FeO<sub>2</sub>)<sub>2</sub> (mp-1178122-GGA+U) <br> -1.623 eV/atom (+0.101 eV/atom)",
          "Li(FeO<sub>2</sub>)<sub>2</sub> (mp-771057-GGA+U) <br> -1.585 eV/atom (+0.139 eV/atom)",
          "Li(FeO<sub>2</sub>)<sub>2</sub> (mp-25386-GGA+U) <br> -1.692 eV/atom (+0.032 eV/atom)",
          "Li(FeO<sub>2</sub>)<sub>2</sub> (mp-1178106-GGA+U) <br> -1.651 eV/atom (+0.073 eV/atom)",
          "Li(FeO<sub>2</sub>)<sub>2</sub> (mp-771571-GGA+U) <br> -1.648 eV/atom (+0.076 eV/atom)",
          "Li(FeO<sub>2</sub>)<sub>2</sub> (mp-754803-GGA+U) <br> -1.641 eV/atom (+0.083 eV/atom)",
          "Li(FeO<sub>2</sub>)<sub>2</sub> (mp-752935-GGA+U) <br> -1.614 eV/atom (+0.11 eV/atom)",
          "Li(FeO<sub>2</sub>)<sub>2</sub> (mp-773043-GGA+U) <br> -1.642 eV/atom (+0.082 eV/atom)",
          "Li(FeO<sub>2</sub>)<sub>2</sub> (mp-1178108-GGA+U) <br> -1.583 eV/atom (+0.141 eV/atom)",
          "Li(FeO<sub>2</sub>)<sub>2</sub> (mp-771135-GGA+U) <br> -1.665 eV/atom (+0.06 eV/atom)",
          "Li(FeO<sub>2</sub>)<sub>2</sub> (mp-1178103-GGA+U) <br> -1.641 eV/atom (+0.083 eV/atom)",
          "LiFe<sub>3</sub>O<sub>4</sub> (mp-1176726-GGA+U) <br> -1.674 eV/atom (+0.039 eV/atom)",
          "LiFe<sub>3</sub>O<sub>4</sub> (mp-773525-GGA+U) <br> -1.672 eV/atom (+0.041 eV/atom)",
          "LiFe<sub>3</sub>O<sub>4</sub> (mp-772508-GGA+U) <br> -1.627 eV/atom (+0.086 eV/atom)",
          "LiFe<sub>3</sub>O<sub>4</sub> (mp-1101736-GGA+U) <br> -1.674 eV/atom (+0.039 eV/atom)",
          "Li(FeO<sub>2</sub>)<sub>3</sub> (mp-758249-GGA+U) <br> -1.496 eV/atom (+0.14 eV/atom)",
          "Li(FeO<sub>2</sub>)<sub>3</sub> (mp-753154-GGA+U) <br> -1.515 eV/atom (+0.121 eV/atom)",
          "LiFe<sub>5</sub>O<sub>8</sub> (mp-33551-GGA+U) <br> -1.639 eV/atom (+0.137 eV/atom)",
          "LiFe<sub>5</sub>O<sub>8</sub> (mp-21735-GGA+U) <br> -1.712 eV/atom (+0.063 eV/atom)",
          "LiFe<sub>5</sub>O<sub>8</sub> (mp-706252-GGA+U) <br> -1.676 eV/atom (+0.099 eV/atom)",
          "LiFe<sub>5</sub>O<sub>8</sub> (mp-757153-GGA+U) <br> -1.628 eV/atom (+0.147 eV/atom)",
          "Li(Fe<sub>2</sub>O<sub>3</sub>)<sub>4</sub> (mp-758077-GGA+U) <br> -1.665 eV/atom (+0.067 eV/atom)",
          "Li(Fe<sub>2</sub>O<sub>3</sub>)<sub>4</sub> (mp-1235693-GGA+U) <br> -1.588 eV/atom (+0.144 eV/atom)",
          "Li(Fe<sub>2</sub>O<sub>3</sub>)<sub>4</sub> (mp-1178121-GGA+U) <br> -1.663 eV/atom (+0.069 eV/atom)",
          "Li(Fe<sub>2</sub>O<sub>3</sub>)<sub>4</sub> (mp-1235675-GGA+U) <br> -1.556 eV/atom (+0.175 eV/atom)",
          "Li(Fe<sub>2</sub>O<sub>3</sub>)<sub>4</sub> (mp-997515-GGA+U) <br> -1.68 eV/atom (+0.052 eV/atom)",
          "Li(FeO<sub>2</sub>)<sub>8</sub> (mp-1236025-GGA+U) <br> -1.346 eV/atom (+0.167 eV/atom)",
          "LiFe<sub>23</sub>O<sub>32</sub> (mp-773010-GGA+U) <br> -1.619 eV/atom (+0.059 eV/atom)",
          "Li<sub>2</sub>O (mp-1245092-GGA) <br> -1.888 eV/atom (+0.173 eV/atom)",
          "Li<sub>2</sub>O (mp-1245303-GGA) <br> -1.903 eV/atom (+0.159 eV/atom)",
          "Li<sub>2</sub>O (mp-755894-GGA) <br> -1.977 eV/atom (+0.085 eV/atom)",
          "Li<sub>2</sub>O (mp-1245224-GGA) <br> -1.912 eV/atom (+0.15 eV/atom)",
          "Li<sub>2</sub>O (mp-1245009-GGA) <br> -1.9 eV/atom (+0.162 eV/atom)",
          "Li<sub>2</sub>O<sub>2</sub> (mp-558312-GGA) <br> -1.507 eV/atom (+0.143 eV/atom)",
          "Li<sub>2</sub>FeO<sub>2</sub> (mp-755094-GGA+U) <br> -1.878 eV/atom (+0.002 eV/atom)",
          "Li<sub>2</sub>FeO<sub>2</sub> (mp-1272755-GGA+U) <br> -1.836 eV/atom (+0.044 eV/atom)",
          "Li<sub>2</sub>FeO<sub>2</sub> (mp-754868-GGA+U) <br> -1.825 eV/atom (+0.055 eV/atom)",
          "Li<sub>2</sub>FeO<sub>2</sub> (mp-1177943-GGA+U) <br> -1.836 eV/atom (+0.044 eV/atom)",
          "Li<sub>2</sub>FeO<sub>3</sub> (mp-759394-GGA+U) <br> -1.811 eV/atom (+0.067 eV/atom)",
          "Li<sub>2</sub>FeO<sub>3</sub> (mp-887724-GGA+U) <br> -1.874 eV/atom (+0.004 eV/atom)",
          "Li<sub>2</sub>FeO<sub>3</sub> (mp-849695-GGA+U) <br> -1.82 eV/atom (+0.058 eV/atom)",
          "Li<sub>2</sub>FeO<sub>3</sub> (mp-1303136-GGA+U) <br> -1.877 eV/atom (+0.001 eV/atom)",
          "Li<sub>2</sub>(FeO<sub>2</sub>)<sub>3</sub> (mp-1178060-GGA+U) <br> -1.711 eV/atom (+0.094 eV/atom)",
          "Li<sub>2</sub>(FeO<sub>2</sub>)<sub>3</sub> (mp-762575-GGA+U) <br> -1.73 eV/atom (+0.074 eV/atom)",
          "Li<sub>2</sub>(FeO<sub>2</sub>)<sub>3</sub> (mp-758515-GGA+U) <br> -1.678 eV/atom (+0.127 eV/atom)",
          "Li<sub>2</sub>(FeO<sub>2</sub>)<sub>3</sub> (mp-752883-GGA+U) <br> -1.742 eV/atom (+0.063 eV/atom)",
          "Li<sub>2</sub>(FeO<sub>2</sub>)<sub>5</sub> (mp-762529-GGA+U) <br> -1.538 eV/atom (+0.135 eV/atom)",
          "Li<sub>3</sub>FeO<sub>3</sub> (mp-770886-GGA+U) <br> -1.969 eV/atom (+0.046 eV/atom)",
          "Li<sub>3</sub>FeO<sub>3</sub> (mp-771894-GGA+U) <br> -1.941 eV/atom (+0.074 eV/atom)",
          "Li<sub>3</sub>FeO<sub>3</sub> (mp-770885-GGA+U) <br> -1.946 eV/atom (+0.069 eV/atom)",
          "Li<sub>3</sub>FeO<sub>3</sub> (mp-1665973-GGA+U) <br> -1.894 eV/atom (+0.12 eV/atom)",
          "Li<sub>3</sub>FeO<sub>3</sub> (mp-1663732-GGA+U) <br> -1.936 eV/atom (+0.078 eV/atom)",
          "Li<sub>3</sub>FeO<sub>4</sub> (mp-760335-GGA+U) <br> -1.764 eV/atom (+0.057 eV/atom)",
          "Li<sub>3</sub>FeO<sub>4</sub> (mp-1279318-GGA+U) <br> -1.753 eV/atom (+0.068 eV/atom)",
          "Li<sub>3</sub>FeO<sub>4</sub> (mp-754360-GGA+U) <br> -1.76 eV/atom (+0.061 eV/atom)",
          "Li<sub>3</sub>FeO<sub>4</sub> (mp-1282942-GGA+U) <br> -1.762 eV/atom (+0.059 eV/atom)",
          "Li<sub>3</sub>FeO<sub>4</sub> (mp-764163-GGA+U) <br> -1.763 eV/atom (+0.058 eV/atom)",
          "Li<sub>3</sub>FeO<sub>4</sub> (mp-1276702-GGA+U) <br> -1.76 eV/atom (+0.061 eV/atom)",
          "Li<sub>3</sub>FeO<sub>4</sub> (mp-849528-GGA+U) <br> -1.805 eV/atom (+0.016 eV/atom)",
          "Li<sub>3</sub>(FeO<sub>3</sub>)<sub>2</sub> (mp-1272244-GGA+U) <br> -1.665 eV/atom (+0.071 eV/atom)",
          "Li<sub>3</sub>(FeO<sub>3</sub>)<sub>2</sub> (mp-755242-GGA+U) <br> -1.641 eV/atom (+0.095 eV/atom)",
          "Li<sub>3</sub>(FeO<sub>3</sub>)<sub>2</sub> (mp-752654-GGA+U) <br> -1.667 eV/atom (+0.07 eV/atom)",
          "Li<sub>3</sub>(FeO<sub>3</sub>)<sub>2</sub> (mp-760809-GGA+U) <br> -1.667 eV/atom (+0.07 eV/atom)",
          "Li<sub>3</sub>(FeO<sub>3</sub>)<sub>2</sub> (mp-753133-GGA+U) <br> -1.658 eV/atom (+0.078 eV/atom)",
          "Li<sub>3</sub>(FeO<sub>3</sub>)<sub>2</sub> (mp-1276910-GGA+U) <br> -1.663 eV/atom (+0.073 eV/atom)",
          "Li<sub>3</sub>(FeO<sub>3</sub>)<sub>2</sub> (mp-1286090-GGA+U) <br> -1.662 eV/atom (+0.074 eV/atom)",
          "Li<sub>3</sub>(FeO<sub>3</sub>)<sub>2</sub> (mp-1177753-GGA+U) <br> -1.667 eV/atom (+0.069 eV/atom)",
          "Li<sub>3</sub>(FeO<sub>3</sub>)<sub>2</sub> (mp-1305099-GGA+U) <br> -1.666 eV/atom (+0.07 eV/atom)",
          "Li<sub>3</sub>Fe<sub>3</sub>O<sub>8</sub> (mp-756816-GGA+U) <br> -1.523 eV/atom (+0.15 eV/atom)",
          "Li<sub>3</sub>Fe<sub>3</sub>O<sub>8</sub> (mp-1177704-GGA+U) <br> -1.566 eV/atom (+0.107 eV/atom)",
          "Li<sub>3</sub>Fe<sub>3</sub>O<sub>8</sub> (mp-1273581-GGA+U) <br> -1.604 eV/atom (+0.069 eV/atom)",
          "Li<sub>3</sub>Fe<sub>3</sub>O<sub>8</sub> (mp-1308681-GGA+U) <br> -1.603 eV/atom (+0.07 eV/atom)",
          "Li<sub>3</sub>Fe<sub>3</sub>O<sub>8</sub> (mp-756955-GGA+U) <br> -1.564 eV/atom (+0.109 eV/atom)",
          "Li<sub>3</sub>Fe<sub>3</sub>O<sub>8</sub> (mp-1299455-GGA+U) <br> -1.605 eV/atom (+0.069 eV/atom)",
          "Li<sub>3</sub>Fe<sub>3</sub>O<sub>8</sub> (mp-758388-GGA+U) <br> -1.6 eV/atom (+0.074 eV/atom)",
          "Li<sub>3</sub>(FeO<sub>2</sub>)<sub>4</sub> (mp-753083-GGA+U) <br> -1.719 eV/atom (+0.123 eV/atom)",
          "Li<sub>3</sub>(FeO<sub>2</sub>)<sub>4</sub> (mp-758469-GGA+U) <br> -1.744 eV/atom (+0.098 eV/atom)",
          "Li<sub>3</sub>(FeO<sub>2</sub>)<sub>4</sub> (mp-756480-GGA+U) <br> -1.807 eV/atom (+0.035 eV/atom)",
          "Li<sub>3</sub>Fe<sub>5</sub>O<sub>8</sub> (mp-586092-GGA+U) <br> -1.778 eV/atom (+0.051 eV/atom)",
          "Li<sub>3</sub>Fe<sub>5</sub>O<sub>9</sub> (mp-770655-GGA+U) <br> -1.799 eV/atom (+0.076 eV/atom)",
          "Li<sub>3</sub>(FeO<sub>2</sub>)<sub>5</sub> (mp-752476-GGA+U) <br> -1.692 eV/atom (+0.081 eV/atom)",
          "Li<sub>3</sub>Fe<sub>5</sub>O<sub>12</sub> (mp-755806-GGA+U) <br> -1.455 eV/atom (+0.146 eV/atom)",
          "Li<sub>3</sub>Fe<sub>5</sub>O<sub>12</sub> (mp-758559-GGA+U) <br> -1.447 eV/atom (+0.154 eV/atom)",
          "Li<sub>3</sub>Fe<sub>5</sub>O<sub>12</sub> (mp-759319-GGA+U) <br> -1.455 eV/atom (+0.145 eV/atom)",
          "Li<sub>3</sub>Fe<sub>7</sub>O<sub>12</sub> (mp-752897-GGA+U) <br> -1.729 eV/atom (+0.107 eV/atom)",
          "Li<sub>4</sub>FeO<sub>3</sub> (mp-752680-GGA+U) <br> -1.907 eV/atom (+0.052 eV/atom)",
          "Li<sub>4</sub>FeO<sub>4</sub> (mp-755232-GGA+U) <br> -1.875 eV/atom (+0.069 eV/atom)",
          "Li<sub>4</sub>Fe<sub>2</sub>O<sub>5</sub> (mp-770893-GGA+U) <br> -1.915 eV/atom (+0.074 eV/atom)",
          "Li<sub>4</sub>Fe<sub>2</sub>O<sub>5</sub> (mp-760830-GGA+U) <br> -1.941 eV/atom (+0.048 eV/atom)",
          "Li<sub>4</sub>Fe<sub>3</sub>O<sub>8</sub> (mp-775127-GGA+U) <br> -1.725 eV/atom (+0.067 eV/atom)",
          "Li<sub>4</sub>Fe<sub>3</sub>O<sub>8</sub> (mp-771986-GGA+U) <br> -1.7 eV/atom (+0.092 eV/atom)",
          "Li<sub>4</sub>Fe<sub>3</sub>O<sub>8</sub> (mp-757201-GGA+U) <br> -1.618 eV/atom (+0.174 eV/atom)",
          "Li<sub>4</sub>(FeO<sub>2</sub>)<sub>5</sub> (mp-752950-GGA+U) <br> -1.81 eV/atom (+0.053 eV/atom)",
          "Li<sub>4</sub>Fe<sub>7</sub>O<sub>12</sub> (mp-759241-GGA+U) <br> -1.798 eV/atom (+0.055 eV/atom)",
          "Li<sub>4</sub>(FeO<sub>2</sub>)<sub>9</sub> (mp-771396-GGA+U) <br> -1.58 eV/atom (+0.116 eV/atom)",
          "Li<sub>5</sub>FeO<sub>4</sub> (mp-779333-GGA+U) <br> -1.973 eV/atom (+0.069 eV/atom)",
          "Li<sub>5</sub>FeO<sub>4</sub> (mp-780207-GGA+U) <br> -1.985 eV/atom (+0.057 eV/atom)",
          "Li<sub>5</sub>FeO<sub>4</sub> (mp-780192-GGA+U) <br> -1.995 eV/atom (+0.047 eV/atom)",
          "Li<sub>5</sub>FeO<sub>4</sub> (mp-770923-GGA+U) <br> -1.971 eV/atom (+0.071 eV/atom)",
          "Li<sub>5</sub>FeO<sub>4</sub> (mp-779889-GGA+U) <br> -1.954 eV/atom (+0.088 eV/atom)",
          "Li<sub>5</sub>FeO<sub>4</sub> (mp-770834-GGA+U) <br> -1.996 eV/atom (+0.046 eV/atom)",
          "Li<sub>5</sub>Fe<sub>3</sub>O<sub>8</sub> (mp-780216-GGA+U) <br> -1.844 eV/atom (+0.05 eV/atom)",
          "Li<sub>5</sub>Fe<sub>3</sub>O<sub>8</sub> (mp-1177185-GGA+U) <br> -1.845 eV/atom (+0.05 eV/atom)",
          "Li<sub>5</sub>(FeO<sub>2</sub>)<sub>4</sub> (mp-780312-GGA+U) <br> -1.849 eV/atom (+0.077 eV/atom)",
          "Li<sub>5</sub>(FeO<sub>2</sub>)<sub>4</sub> (mp-754802-GGA+U) <br> -1.848 eV/atom (+0.078 eV/atom)",
          "Li<sub>5</sub>Fe<sub>5</sub>O<sub>12</sub> (mp-758794-GGA+U) <br> -1.705 eV/atom (+0.067 eV/atom)",
          "Li<sub>5</sub>Fe<sub>5</sub>O<sub>12</sub> (mp-759022-GGA+U) <br> -1.711 eV/atom (+0.061 eV/atom)",
          "Li<sub>5</sub>Fe<sub>5</sub>O<sub>12</sub> (mp-771687-GGA+U) <br> -1.677 eV/atom (+0.095 eV/atom)",
          "Li<sub>5</sub>Fe<sub>7</sub>O<sub>12</sub> (mp-756856-GGA+U) <br> -1.843 eV/atom (+0.025 eV/atom)",
          "Li<sub>5</sub>Fe<sub>11</sub>O<sub>16</sub> (mp-758105-GGA+U) <br> -1.721 eV/atom (+0.05 eV/atom)",
          "Li<sub>5</sub>Fe<sub>11</sub>O<sub>16</sub> (mp-766727-GGA+U) <br> -1.749 eV/atom (+0.023 eV/atom)",
          "Li<sub>5</sub>Fe<sub>11</sub>O<sub>16</sub> (mp-762692-GGA+U) <br> -1.729 eV/atom (+0.042 eV/atom)",
          "Li<sub>6</sub>FeO<sub>4</sub> (mp-756155-GGA+U) <br> -1.962 eV/atom (+0.026 eV/atom)",
          "Li<sub>6</sub>FeO<sub>6</sub> (mp-771897-GGA+U) <br> -1.779 eV/atom (+0.075 eV/atom)",
          "Li<sub>6</sub>Fe<sub>3</sub>O<sub>8</sub> (mp-1177119-GGA+U) <br> -1.838 eV/atom (+0.112 eV/atom)",
          "Li<sub>6</sub>Fe<sub>5</sub>O<sub>12</sub> (mp-780305-GGA+U) <br> -1.786 eV/atom (+0.06 eV/atom)",
          "Li<sub>6</sub>Fe<sub>5</sub>O<sub>12</sub> (mp-780188-GGA+U) <br> -1.81 eV/atom (+0.035 eV/atom)",
          "Li<sub>6</sub>Fe<sub>7</sub>O<sub>15</sub> (mp-758888-GGA+U) <br> -1.703 eV/atom (+0.119 eV/atom)",
          "Li<sub>7</sub>FeO<sub>6</sub> (mp-752471-GGA+U) <br> -1.876 eV/atom (+0.054 eV/atom)",
          "Li<sub>7</sub>Fe<sub>3</sub>O<sub>8</sub> (mp-771124-GGA+U) <br> -1.911 eV/atom (+0.088 eV/atom)",
          "Li<sub>7</sub>Fe<sub>3</sub>O<sub>10</sub> (mp-1176887-GGA+U) <br> -1.772 eV/atom (+0.083 eV/atom)",
          "Li<sub>7</sub>Fe<sub>5</sub>O<sub>12</sub> (mp-756862-GGA+U) <br> -1.896 eV/atom (+0.016 eV/atom)",
          "Li<sub>7</sub>Fe<sub>5</sub>O<sub>12</sub> (mp-1176882-GGA+U) <br> -1.881 eV/atom (+0.031 eV/atom)",
          "Li<sub>7</sub>Fe<sub>5</sub>O<sub>16</sub> (mp-1176883-GGA+U) <br> -1.497 eV/atom (+0.149 eV/atom)",
          "Li<sub>8</sub>FeO<sub>6</sub> (mp-763305-GGA+U) <br> -1.969 eV/atom (+0.025 eV/atom)",
          "Li<sub>8</sub>FeO<sub>6</sub> (mp-756356-GGA+U) <br> -1.964 eV/atom (+0.029 eV/atom)",
          "Li<sub>8</sub>Fe<sub>2</sub>O<sub>7</sub> (mp-779474-GGA+U) <br> -1.96 eV/atom (+0.07 eV/atom)",
          "Li<sub>8</sub>Fe<sub>2</sub>O<sub>9</sub> (mp-772983-GGA+U) <br> -1.844 eV/atom (+0.017 eV/atom)",
          "Li<sub>8</sub>(FeO<sub>2</sub>)<sub>5</sub> (mp-1638858-GGA+U) <br> -1.803 eV/atom (+0.1 eV/atom)",
          "Li<sub>8</sub>(FeO<sub>2</sub>)<sub>5</sub> (mp-1643420-GGA+U) <br> -1.806 eV/atom (+0.097 eV/atom)",
          "Li<sub>8</sub>(FeO<sub>2</sub>)<sub>5</sub> (mp-764936-GGA+U) <br> -1.798 eV/atom (+0.105 eV/atom)",
          "Li<sub>8</sub>(FeO<sub>2</sub>)<sub>5</sub> (mp-1643829-GGA+U) <br> -1.804 eV/atom (+0.099 eV/atom)",
          "Li<sub>8</sub>(FeO<sub>2</sub>)<sub>5</sub> (mp-753255-GGA+U) <br> -1.82 eV/atom (+0.083 eV/atom)",
          "Li<sub>8</sub>Fe<sub>7</sub>O<sub>15</sub> (mp-1176945-GGA+U) <br> -1.86 eV/atom (+0.071 eV/atom)",
          "Li<sub>9</sub>(FeO<sub>4</sub>)<sub>2</sub> (mp-759144-GGA+U) <br> -1.907 eV/atom (+0.089 eV/atom)",
          "Li<sub>9</sub>(FeO<sub>4</sub>)<sub>2</sub> (mp-774501-GGA+U) <br> -1.911 eV/atom (+0.085 eV/atom)",
          "Li<sub>9</sub>(FeO<sub>4</sub>)<sub>2</sub> (mp-780203-GGA+U) <br> -1.922 eV/atom (+0.073 eV/atom)",
          "Li<sub>9</sub>Fe<sub>5</sub>O<sub>12</sub> (mp-764889-GGA+U) <br> -1.914 eV/atom (+0.068 eV/atom)",
          "Li<sub>9</sub>Fe<sub>23</sub>O<sub>32</sub> (mp-772996-GGA+U) <br> -1.703 eV/atom (+0.039 eV/atom)",
          "Li<sub>10</sub>Fe<sub>21</sub>O<sub>32</sub> (mp-685404-GGA+U) <br> -1.679 eV/atom (+0.114 eV/atom)",
          "Li<sub>11</sub>(FeO<sub>3</sub>)<sub>4</sub> (mp-849463-GGA+U) <br> -1.869 eV/atom (+0.115 eV/atom)",
          "Li<sub>12</sub>Fe<sub>5</sub>O<sub>16</sub> (mp-760142-GGA+U) <br> -1.819 eV/atom (+0.077 eV/atom)",
          "Li<sub>13</sub>(FeO<sub>6</sub>)<sub>2</sub> (mp-753008-GGA+U) <br> -1.827 eV/atom (+0.067 eV/atom)",
          "Li<sub>14</sub>Fe<sub>4</sub>O<sub>13</sub> (mp-781016-GGA+U) <br> -1.924 eV/atom (+0.099 eV/atom)",
          "Li<sub>15</sub>(FeO<sub>6</sub>)<sub>2</sub> (mp-758099-GGA+U) <br> -1.912 eV/atom (+0.051 eV/atom)",
          "Li<sub>15</sub>(FeO<sub>4</sub>)<sub>4</sub> (mp-766829-GGA+U) <br> -1.799 eV/atom (+0.117 eV/atom)",
          "Li<sub>21</sub>(FeO<sub>4</sub>)<sub>4</sub> (mp-769519-GGA+U) <br> -1.999 eV/atom (+0.029 eV/atom)",
          "Li<sub>35</sub>(FeO<sub>4</sub>)<sub>8</sub> (mp-850218-GGA+U) <br> -1.935 eV/atom (+0.048 eV/atom)"
         ],
         "marker": {
          "color": [
           0.001,
           0.018,
           0.126,
           0.002,
           0.03,
           0.121,
           0.012,
           0.01,
           0.175,
           0.017,
           0.099,
           0.098,
           0.148,
           0.055,
           0.104,
           0.087,
           0.009,
           0.113,
           0.116,
           0.012,
           0.111,
           0.014,
           0.186,
           0.18,
           0.145,
           0.167,
           0.18,
           0.123,
           0.113,
           0.168,
           0.119,
           0.086,
           0.085,
           0.116,
           0.16,
           0.177,
           0.071,
           0.077,
           0.131,
           0.052,
           0.079,
           0.114,
           0.059,
           0.059,
           0.029,
           0.177,
           0.075,
           0.062,
           0.131,
           0.133,
           0.078,
           0.146,
           0.124,
           0.114,
           0.076,
           0.109,
           0.017,
           0.075,
           0.024,
           0.04,
           0.037,
           0.048,
           0.108,
           0.09,
           0.171,
           0.182,
           0.163,
           0.185,
           0.099,
           0.064,
           0.05,
           0.062,
           0.04,
           0.057,
           0.045,
           0.05,
           0.083,
           0.072,
           0.078,
           0.059,
           0.084,
           0.077,
           0.04,
           0.053,
           0.195,
           0.05,
           0.109,
           0.188,
           0.185,
           0.058,
           0.071,
           0.087,
           0.116,
           0.019,
           0.003,
           0.003,
           0.003,
           0.005,
           0.055,
           0.011,
           0.083,
           0.016,
           0.07,
           0.005,
           0.068,
           0.009,
           0.017,
           0.078,
           0.039,
           0.075,
           0.02,
           0.027,
           0.001,
           0.12,
           0.08,
           0.131,
           0.147,
           0.148,
           0.172,
           0.067,
           0.06,
           0.094,
           0.043,
           0.027,
           0.101,
           0.139,
           0.032,
           0.073,
           0.076,
           0.083,
           0.11,
           0.082,
           0.141,
           0.06,
           0.083,
           0.039,
           0.041,
           0.086,
           0.039,
           0.14,
           0.121,
           0.137,
           0.063,
           0.099,
           0.147,
           0.067,
           0.144,
           0.069,
           0.175,
           0.052,
           0.167,
           0.059,
           0.173,
           0.159,
           0.085,
           0.15,
           0.162,
           0.143,
           0.002,
           0.044,
           0.055,
           0.044,
           0.067,
           0.004,
           0.058,
           0.001,
           0.094,
           0.074,
           0.127,
           0.063,
           0.135,
           0.046,
           0.074,
           0.069,
           0.12,
           0.078,
           0.057,
           0.068,
           0.061,
           0.059,
           0.058,
           0.061,
           0.016,
           0.071,
           0.095,
           0.07,
           0.07,
           0.078,
           0.073,
           0.074,
           0.069,
           0.07,
           0.15,
           0.107,
           0.069,
           0.07,
           0.109,
           0.069,
           0.074,
           0.123,
           0.098,
           0.035,
           0.051,
           0.076,
           0.081,
           0.146,
           0.154,
           0.145,
           0.107,
           0.052,
           0.069,
           0.074,
           0.048,
           0.067,
           0.092,
           0.174,
           0.053,
           0.055,
           0.116,
           0.069,
           0.057,
           0.047,
           0.071,
           0.088,
           0.046,
           0.05,
           0.05,
           0.077,
           0.078,
           0.067,
           0.061,
           0.095,
           0.025,
           0.05,
           0.023,
           0.042,
           0.026,
           0.075,
           0.112,
           0.06,
           0.035,
           0.119,
           0.054,
           0.088,
           0.083,
           0.016,
           0.031,
           0.149,
           0.025,
           0.029,
           0.07,
           0.017,
           0.1,
           0.097,
           0.105,
           0.099,
           0.083,
           0.071,
           0.089,
           0.085,
           0.073,
           0.068,
           0.039,
           0.114,
           0.115,
           0.077,
           0.067,
           0.099,
           0.051,
           0.117,
           0.029,
           0.048
          ],
          "colorbar": {
           "len": 0.5,
           "thickness": 0.02,
           "thicknessmode": "fraction",
           "title": {
            "text": "Energy Above Hull<br>(eV/atom)"
           },
           "x": 0,
           "xpad": 0,
           "y": 1,
           "yanchor": "top",
           "ypad": 0
          },
          "colorscale": [
           [
            0,
            "#fff5e3"
           ],
           [
            0.5,
            "#f24324"
           ],
           [
            1,
            "#c40000"
           ]
          ],
          "line": {
           "color": "black",
           "width": 1
          },
          "opacity": 0.8,
          "size": 7,
          "symbol": "diamond"
         },
         "mode": "markers",
         "name": "Above Hull",
         "showlegend": true,
         "type": "scatterternary"
        }
       ],
       "layout": {
        "autosize": true,
        "coloraxis": {
         "colorbar": {
          "x": 1,
          "y": 0.05,
          "yanchor": "top"
         }
        },
        "margin": {
         "b": 40,
         "l": 20,
         "r": 20,
         "t": 40
        },
        "paper_bgcolor": "rgba(0,0,0,0)",
        "plot_bgcolor": "rgba(0,0,0,0)",
        "showlegend": true,
        "template": {
         "data": {
          "bar": [
           {
            "error_x": {
             "color": "#2a3f5f"
            },
            "error_y": {
             "color": "#2a3f5f"
            },
            "marker": {
             "line": {
              "color": "#E5ECF6",
              "width": 0.5
             },
             "pattern": {
              "fillmode": "overlay",
              "size": 10,
              "solidity": 0.2
             }
            },
            "type": "bar"
           }
          ],
          "barpolar": [
           {
            "marker": {
             "line": {
              "color": "#E5ECF6",
              "width": 0.5
             },
             "pattern": {
              "fillmode": "overlay",
              "size": 10,
              "solidity": 0.2
             }
            },
            "type": "barpolar"
           }
          ],
          "carpet": [
           {
            "aaxis": {
             "endlinecolor": "#2a3f5f",
             "gridcolor": "white",
             "linecolor": "white",
             "minorgridcolor": "white",
             "startlinecolor": "#2a3f5f"
            },
            "baxis": {
             "endlinecolor": "#2a3f5f",
             "gridcolor": "white",
             "linecolor": "white",
             "minorgridcolor": "white",
             "startlinecolor": "#2a3f5f"
            },
            "type": "carpet"
           }
          ],
          "choropleth": [
           {
            "colorbar": {
             "outlinewidth": 0,
             "ticks": ""
            },
            "type": "choropleth"
           }
          ],
          "contour": [
           {
            "colorbar": {
             "outlinewidth": 0,
             "ticks": ""
            },
            "colorscale": [
             [
              0,
              "#0d0887"
             ],
             [
              0.1111111111111111,
              "#46039f"
             ],
             [
              0.2222222222222222,
              "#7201a8"
             ],
             [
              0.3333333333333333,
              "#9c179e"
             ],
             [
              0.4444444444444444,
              "#bd3786"
             ],
             [
              0.5555555555555556,
              "#d8576b"
             ],
             [
              0.6666666666666666,
              "#ed7953"
             ],
             [
              0.7777777777777778,
              "#fb9f3a"
             ],
             [
              0.8888888888888888,
              "#fdca26"
             ],
             [
              1,
              "#f0f921"
             ]
            ],
            "type": "contour"
           }
          ],
          "contourcarpet": [
           {
            "colorbar": {
             "outlinewidth": 0,
             "ticks": ""
            },
            "type": "contourcarpet"
           }
          ],
          "heatmap": [
           {
            "colorbar": {
             "outlinewidth": 0,
             "ticks": ""
            },
            "colorscale": [
             [
              0,
              "#0d0887"
             ],
             [
              0.1111111111111111,
              "#46039f"
             ],
             [
              0.2222222222222222,
              "#7201a8"
             ],
             [
              0.3333333333333333,
              "#9c179e"
             ],
             [
              0.4444444444444444,
              "#bd3786"
             ],
             [
              0.5555555555555556,
              "#d8576b"
             ],
             [
              0.6666666666666666,
              "#ed7953"
             ],
             [
              0.7777777777777778,
              "#fb9f3a"
             ],
             [
              0.8888888888888888,
              "#fdca26"
             ],
             [
              1,
              "#f0f921"
             ]
            ],
            "type": "heatmap"
           }
          ],
          "heatmapgl": [
           {
            "colorbar": {
             "outlinewidth": 0,
             "ticks": ""
            },
            "colorscale": [
             [
              0,
              "#0d0887"
             ],
             [
              0.1111111111111111,
              "#46039f"
             ],
             [
              0.2222222222222222,
              "#7201a8"
             ],
             [
              0.3333333333333333,
              "#9c179e"
             ],
             [
              0.4444444444444444,
              "#bd3786"
             ],
             [
              0.5555555555555556,
              "#d8576b"
             ],
             [
              0.6666666666666666,
              "#ed7953"
             ],
             [
              0.7777777777777778,
              "#fb9f3a"
             ],
             [
              0.8888888888888888,
              "#fdca26"
             ],
             [
              1,
              "#f0f921"
             ]
            ],
            "type": "heatmapgl"
           }
          ],
          "histogram": [
           {
            "marker": {
             "pattern": {
              "fillmode": "overlay",
              "size": 10,
              "solidity": 0.2
             }
            },
            "type": "histogram"
           }
          ],
          "histogram2d": [
           {
            "colorbar": {
             "outlinewidth": 0,
             "ticks": ""
            },
            "colorscale": [
             [
              0,
              "#0d0887"
             ],
             [
              0.1111111111111111,
              "#46039f"
             ],
             [
              0.2222222222222222,
              "#7201a8"
             ],
             [
              0.3333333333333333,
              "#9c179e"
             ],
             [
              0.4444444444444444,
              "#bd3786"
             ],
             [
              0.5555555555555556,
              "#d8576b"
             ],
             [
              0.6666666666666666,
              "#ed7953"
             ],
             [
              0.7777777777777778,
              "#fb9f3a"
             ],
             [
              0.8888888888888888,
              "#fdca26"
             ],
             [
              1,
              "#f0f921"
             ]
            ],
            "type": "histogram2d"
           }
          ],
          "histogram2dcontour": [
           {
            "colorbar": {
             "outlinewidth": 0,
             "ticks": ""
            },
            "colorscale": [
             [
              0,
              "#0d0887"
             ],
             [
              0.1111111111111111,
              "#46039f"
             ],
             [
              0.2222222222222222,
              "#7201a8"
             ],
             [
              0.3333333333333333,
              "#9c179e"
             ],
             [
              0.4444444444444444,
              "#bd3786"
             ],
             [
              0.5555555555555556,
              "#d8576b"
             ],
             [
              0.6666666666666666,
              "#ed7953"
             ],
             [
              0.7777777777777778,
              "#fb9f3a"
             ],
             [
              0.8888888888888888,
              "#fdca26"
             ],
             [
              1,
              "#f0f921"
             ]
            ],
            "type": "histogram2dcontour"
           }
          ],
          "mesh3d": [
           {
            "colorbar": {
             "outlinewidth": 0,
             "ticks": ""
            },
            "type": "mesh3d"
           }
          ],
          "parcoords": [
           {
            "line": {
             "colorbar": {
              "outlinewidth": 0,
              "ticks": ""
             }
            },
            "type": "parcoords"
           }
          ],
          "pie": [
           {
            "automargin": true,
            "type": "pie"
           }
          ],
          "scatter": [
           {
            "fillpattern": {
             "fillmode": "overlay",
             "size": 10,
             "solidity": 0.2
            },
            "type": "scatter"
           }
          ],
          "scatter3d": [
           {
            "line": {
             "colorbar": {
              "outlinewidth": 0,
              "ticks": ""
             }
            },
            "marker": {
             "colorbar": {
              "outlinewidth": 0,
              "ticks": ""
             }
            },
            "type": "scatter3d"
           }
          ],
          "scattercarpet": [
           {
            "marker": {
             "colorbar": {
              "outlinewidth": 0,
              "ticks": ""
             }
            },
            "type": "scattercarpet"
           }
          ],
          "scattergeo": [
           {
            "marker": {
             "colorbar": {
              "outlinewidth": 0,
              "ticks": ""
             }
            },
            "type": "scattergeo"
           }
          ],
          "scattergl": [
           {
            "marker": {
             "colorbar": {
              "outlinewidth": 0,
              "ticks": ""
             }
            },
            "type": "scattergl"
           }
          ],
          "scattermapbox": [
           {
            "marker": {
             "colorbar": {
              "outlinewidth": 0,
              "ticks": ""
             }
            },
            "type": "scattermapbox"
           }
          ],
          "scatterpolar": [
           {
            "marker": {
             "colorbar": {
              "outlinewidth": 0,
              "ticks": ""
             }
            },
            "type": "scatterpolar"
           }
          ],
          "scatterpolargl": [
           {
            "marker": {
             "colorbar": {
              "outlinewidth": 0,
              "ticks": ""
             }
            },
            "type": "scatterpolargl"
           }
          ],
          "scatterternary": [
           {
            "marker": {
             "colorbar": {
              "outlinewidth": 0,
              "ticks": ""
             }
            },
            "type": "scatterternary"
           }
          ],
          "surface": [
           {
            "colorbar": {
             "outlinewidth": 0,
             "ticks": ""
            },
            "colorscale": [
             [
              0,
              "#0d0887"
             ],
             [
              0.1111111111111111,
              "#46039f"
             ],
             [
              0.2222222222222222,
              "#7201a8"
             ],
             [
              0.3333333333333333,
              "#9c179e"
             ],
             [
              0.4444444444444444,
              "#bd3786"
             ],
             [
              0.5555555555555556,
              "#d8576b"
             ],
             [
              0.6666666666666666,
              "#ed7953"
             ],
             [
              0.7777777777777778,
              "#fb9f3a"
             ],
             [
              0.8888888888888888,
              "#fdca26"
             ],
             [
              1,
              "#f0f921"
             ]
            ],
            "type": "surface"
           }
          ],
          "table": [
           {
            "cells": {
             "fill": {
              "color": "#EBF0F8"
             },
             "line": {
              "color": "white"
             }
            },
            "header": {
             "fill": {
              "color": "#C8D4E3"
             },
             "line": {
              "color": "white"
             }
            },
            "type": "table"
           }
          ]
         },
         "layout": {
          "annotationdefaults": {
           "arrowcolor": "#2a3f5f",
           "arrowhead": 0,
           "arrowwidth": 1
          },
          "autotypenumbers": "strict",
          "coloraxis": {
           "colorbar": {
            "outlinewidth": 0,
            "ticks": ""
           }
          },
          "colorscale": {
           "diverging": [
            [
             0,
             "#8e0152"
            ],
            [
             0.1,
             "#c51b7d"
            ],
            [
             0.2,
             "#de77ae"
            ],
            [
             0.3,
             "#f1b6da"
            ],
            [
             0.4,
             "#fde0ef"
            ],
            [
             0.5,
             "#f7f7f7"
            ],
            [
             0.6,
             "#e6f5d0"
            ],
            [
             0.7,
             "#b8e186"
            ],
            [
             0.8,
             "#7fbc41"
            ],
            [
             0.9,
             "#4d9221"
            ],
            [
             1,
             "#276419"
            ]
           ],
           "sequential": [
            [
             0,
             "#0d0887"
            ],
            [
             0.1111111111111111,
             "#46039f"
            ],
            [
             0.2222222222222222,
             "#7201a8"
            ],
            [
             0.3333333333333333,
             "#9c179e"
            ],
            [
             0.4444444444444444,
             "#bd3786"
            ],
            [
             0.5555555555555556,
             "#d8576b"
            ],
            [
             0.6666666666666666,
             "#ed7953"
            ],
            [
             0.7777777777777778,
             "#fb9f3a"
            ],
            [
             0.8888888888888888,
             "#fdca26"
            ],
            [
             1,
             "#f0f921"
            ]
           ],
           "sequentialminus": [
            [
             0,
             "#0d0887"
            ],
            [
             0.1111111111111111,
             "#46039f"
            ],
            [
             0.2222222222222222,
             "#7201a8"
            ],
            [
             0.3333333333333333,
             "#9c179e"
            ],
            [
             0.4444444444444444,
             "#bd3786"
            ],
            [
             0.5555555555555556,
             "#d8576b"
            ],
            [
             0.6666666666666666,
             "#ed7953"
            ],
            [
             0.7777777777777778,
             "#fb9f3a"
            ],
            [
             0.8888888888888888,
             "#fdca26"
            ],
            [
             1,
             "#f0f921"
            ]
           ]
          },
          "colorway": [
           "#636efa",
           "#EF553B",
           "#00cc96",
           "#ab63fa",
           "#FFA15A",
           "#19d3f3",
           "#FF6692",
           "#B6E880",
           "#FF97FF",
           "#FECB52"
          ],
          "font": {
           "color": "#2a3f5f"
          },
          "geo": {
           "bgcolor": "white",
           "lakecolor": "white",
           "landcolor": "#E5ECF6",
           "showlakes": true,
           "showland": true,
           "subunitcolor": "white"
          },
          "hoverlabel": {
           "align": "left"
          },
          "hovermode": "closest",
          "mapbox": {
           "style": "light"
          },
          "paper_bgcolor": "white",
          "plot_bgcolor": "#E5ECF6",
          "polar": {
           "angularaxis": {
            "gridcolor": "white",
            "linecolor": "white",
            "ticks": ""
           },
           "bgcolor": "#E5ECF6",
           "radialaxis": {
            "gridcolor": "white",
            "linecolor": "white",
            "ticks": ""
           }
          },
          "scene": {
           "xaxis": {
            "backgroundcolor": "#E5ECF6",
            "gridcolor": "white",
            "gridwidth": 2,
            "linecolor": "white",
            "showbackground": true,
            "ticks": "",
            "zerolinecolor": "white"
           },
           "yaxis": {
            "backgroundcolor": "#E5ECF6",
            "gridcolor": "white",
            "gridwidth": 2,
            "linecolor": "white",
            "showbackground": true,
            "ticks": "",
            "zerolinecolor": "white"
           },
           "zaxis": {
            "backgroundcolor": "#E5ECF6",
            "gridcolor": "white",
            "gridwidth": 2,
            "linecolor": "white",
            "showbackground": true,
            "ticks": "",
            "zerolinecolor": "white"
           }
          },
          "shapedefaults": {
           "line": {
            "color": "#2a3f5f"
           }
          },
          "ternary": {
           "aaxis": {
            "gridcolor": "white",
            "linecolor": "white",
            "ticks": ""
           },
           "baxis": {
            "gridcolor": "white",
            "linecolor": "white",
            "ticks": ""
           },
           "bgcolor": "#E5ECF6",
           "caxis": {
            "gridcolor": "white",
            "linecolor": "white",
            "ticks": ""
           }
          },
          "title": {
           "x": 0.05
          },
          "xaxis": {
           "automargin": true,
           "gridcolor": "white",
           "linecolor": "white",
           "ticks": "",
           "title": {
            "standoff": 15
           },
           "zerolinecolor": "white",
           "zerolinewidth": 2
          },
          "yaxis": {
           "automargin": true,
           "gridcolor": "white",
           "linecolor": "white",
           "ticks": "",
           "title": {
            "standoff": 15
           },
           "zerolinecolor": "white",
           "zerolinewidth": 2
          }
         }
        },
        "ternary": {
         "aaxis": {
          "layer": "below traces",
          "showgrid": true,
          "showticklabels": true,
          "tickfont": {
           "color": "rgba(0,0,0,0)",
           "size": 7
          },
          "title": {
           "font": {
            "size": 24
           },
           "text": "Li"
          }
         },
         "baxis": {
          "layer": "below traces",
          "min": 0,
          "showgrid": true,
          "showticklabels": true,
          "tickfont": {
           "color": "rgba(0,0,0,0)",
           "size": 7
          },
          "title": {
           "font": {
            "size": 24
           },
           "text": "Fe"
          }
         },
         "caxis": {
          "layer": "below traces",
          "min": 0,
          "showgrid": true,
          "showticklabels": true,
          "tickfont": {
           "color": "rgba(0,0,0,0)",
           "size": 7
          },
          "title": {
           "font": {
            "size": 24
           },
           "text": "O"
          }
         },
         "sum": 1
        }
       }
      }
     },
     "metadata": {},
     "output_type": "display_data"
    }
   ],
   "source": [
    "#let's show the phase diagram. I had to first install nbformat 'pip install --upgrade nbformat'\n",
    "PDPlotter(pd).get_plot()"
   ]
  },
  {
   "cell_type": "markdown",
   "id": "0ac39c65",
   "metadata": {},
   "source": [
    "# Now you try it!"
   ]
  },
  {
   "cell_type": "markdown",
   "id": "9db94366",
   "metadata": {},
   "source": []
  }
 ],
 "metadata": {
  "kernelspec": {
   "display_name": "Python 3 (ipykernel)",
   "language": "python",
   "name": "python3"
  },
  "language_info": {
   "codemirror_mode": {
    "name": "ipython",
    "version": 3
   },
   "file_extension": ".py",
   "mimetype": "text/x-python",
   "name": "python",
   "nbconvert_exporter": "python",
   "pygments_lexer": "ipython3",
   "version": "3.12.3"
  }
 },
 "nbformat": 4,
 "nbformat_minor": 5
}
