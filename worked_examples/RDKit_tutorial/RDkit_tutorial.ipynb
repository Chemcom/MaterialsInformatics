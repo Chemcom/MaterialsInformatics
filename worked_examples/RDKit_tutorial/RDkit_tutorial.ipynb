{
 "cells": [
  {
   "cell_type": "markdown",
   "metadata": {},
   "source": [
    "<a href=\"https://colab.research.google.com/github/sp8rks/MaterialsInformatics/blob/main/worked_examples/RDKit_tutorial/RDkit_tutorial.ipynb\" target=\"_parent\"><img src=\"https://colab.research.google.com/assets/colab-badge.svg\" alt=\"Open In Colab\"/></a>"
   ]
  },
  {
   "cell_type": "markdown",
   "metadata": {},
   "source": [
    "# RDKIT overview"
   ]
  },
  {
   "cell_type": "markdown",
   "metadata": {},
   "source": [
    "To use this notebook make sure to download RDKIT with conda install rdkit\n",
    "\n",
    "Google Colab link https://colab.research.google.com/drive/1hy0wXH7yFKoXjGVPWI098yxvV4AKsabL?usp=sharing"
   ]
  },
  {
   "cell_type": "markdown",
   "metadata": {},
   "source": [
    "# major types of moleculer file formats\n",
    "* SMILES -- plain text (string) [more description ](http://www.daylight.com/dayhtml/doc/theory/theory.smiles.html)\n",
    "* sdf    -- plain text (acom coordinates)"
   ]
  },
  {
   "cell_type": "markdown",
   "metadata": {},
   "source": [
    "## SMILES"
   ]
  },
  {
   "cell_type": "markdown",
   "metadata": {},
   "source": [
    "Simplest way to reflect a molecule:\n",
    "* atoms of chemical elements are represented by chemical symbols in capital letter, hydrogen is usually ignored. \n",
    "* bonds :\n",
    "    * single bonds are not displayed \n",
    "    * for double '=' symbol\n",
    "    * for triple '#' symbol\n",
    "    * for quadruple '$' symbol \n",
    "* atoms that are bonded must stand nearby.\n",
    "Ring structures are written by breaking each ring at an arbitrary point (although some choices will lead to a more legible SMILES than others) to make a 'straight non-ring' structure (as if it wasn't a ring) and adding numerical ring closure labels to show connectivity between non-adjacent atoms.\n",
    "* aromacity is commonly illustrated by writing the constituent B, C, N, O, P and S atoms in lower-case forms b, c, n, o, p and s, respectively.\n",
    "* for side chains representation of atomic gpoups branches are used."
   ]
  },
  {
   "cell_type": "markdown",
   "metadata": {},
   "source": [
    "pro :\n",
    "* easy to write\n",
    "* easy to store\n",
    "\n",
    "cons:\n",
    "* (usually) does not have a 3D information\n",
    "* one molecule could have multiple (!) smiles\n",
    "\n",
    "#### Video\n",
    "\n",
    "https://www.youtube.com/watch?v=kBk8HbjWwCw&list=PLL0SWcFqypCl4lrzk1dMWwTUrzQZFt7y0&index=15 (Molecular Strings and Fingerprints RDKit tutorial)"
   ]
  },
  {
   "cell_type": "markdown",
   "metadata": {},
   "source": [
    "# Importing data to RDKIT"
   ]
  },
  {
   "cell_type": "markdown",
   "metadata": {},
   "source": [
    "rdkit have it's inner molecular data representation object (called mol object)"
   ]
  },
  {
   "cell_type": "code",
   "execution_count": null,
   "metadata": {},
   "outputs": [],
   "source": [
    "import pandas as pd\n",
    "from rdkit import Chem\n",
    "from rdkit.Chem import PandasTools\n",
    "from rdkit import DataStructs"
   ]
  },
  {
   "cell_type": "markdown",
   "metadata": {},
   "source": [
    "# Data\n",
    "\n",
    "Read the smiles data and load it into a dataframe. Index out the first SMILEs string and read it."
   ]
  },
  {
   "cell_type": "code",
   "execution_count": null,
   "metadata": {},
   "outputs": [],
   "source": [
    "data = pd.read_csv(\"full_dataset_dd.csv\",index_col=0)\n",
    "data.head()"
   ]
  },
  {
   "cell_type": "code",
   "execution_count": null,
   "metadata": {},
   "outputs": [],
   "source": [
    "my_one_smile_string = data[\"SMILES_STD\"][0]\n",
    "print(my_one_smile_string)"
   ]
  },
  {
   "cell_type": "markdown",
   "metadata": {},
   "source": [
    "Creates a mol object from a SMILEs string. "
   ]
  },
  {
   "cell_type": "code",
   "execution_count": null,
   "metadata": {},
   "outputs": [],
   "source": [
    "my_one_mol_object = Chem.MolFromSmiles(my_one_smile_string,sanitize=True)"
   ]
  },
  {
   "cell_type": "code",
   "execution_count": null,
   "metadata": {},
   "outputs": [],
   "source": [
    "type(my_one_mol_object)"
   ]
  },
  {
   "cell_type": "code",
   "execution_count": null,
   "metadata": {},
   "outputs": [],
   "source": [
    "my_one_mol_object"
   ]
  },
  {
   "cell_type": "markdown",
   "metadata": {},
   "source": [
    "Convert a mole object to a SMILEs string. Mol objects are useful because, unlike SMILEs strings, they can be rendered as 2D and 3D objects. "
   ]
  },
  {
   "cell_type": "code",
   "execution_count": null,
   "metadata": {},
   "outputs": [],
   "source": [
    "Chem.MolToSmiles(my_one_mol_object)"
   ]
  },
  {
   "cell_type": "code",
   "execution_count": null,
   "metadata": {},
   "outputs": [],
   "source": [
    "Chem.MolToInchiKey(my_one_mol_object)"
   ]
  },
  {
   "cell_type": "code",
   "execution_count": null,
   "metadata": {},
   "outputs": [],
   "source": [
    "my_one_mol_object.GetNumAtoms()"
   ]
  },
  {
   "cell_type": "markdown",
   "metadata": {},
   "source": [
    "Converting a mol object to a mol block can be useful as the block holds the atomic coordinates of the atoms in the molecule. This lets them hold 3D information about the molecule in question. "
   ]
  },
  {
   "cell_type": "code",
   "execution_count": null,
   "metadata": {},
   "outputs": [],
   "source": [
    "# Molecule representation\n",
    "#https://en.wikipedia.org/wiki/Chemical_table_file#Extended_Connection_Table_(V3000)\n",
    "print(Chem.MolToMolBlock(my_one_mol_object))"
   ]
  },
  {
   "cell_type": "code",
   "execution_count": null,
   "metadata": {},
   "outputs": [],
   "source": [
    "from rdkit.Chem import AllChem\n",
    "my_one_mol_object_3D = Chem.AddHs(my_one_mol_object) # by default rdkit's mol object does not store H's\n",
    "AllChem.EmbedMolecule(my_one_mol_object_3D)"
   ]
  },
  {
   "cell_type": "code",
   "execution_count": null,
   "metadata": {},
   "outputs": [],
   "source": [
    "my_one_mol_object_3D"
   ]
  },
  {
   "cell_type": "code",
   "execution_count": null,
   "metadata": {},
   "outputs": [],
   "source": [
    "print(Chem.MolToMolBlock(my_one_mol_object_3D))"
   ]
  },
  {
   "cell_type": "markdown",
   "metadata": {},
   "source": [
    "## Write a molecule to an sdf file"
   ]
  },
  {
   "cell_type": "code",
   "execution_count": null,
   "metadata": {},
   "outputs": [],
   "source": [
    "w = Chem.SDWriter('./my_one_mol_object_3D.sdf')\n",
    "w.write(my_one_mol_object_3D)\n",
    "w.close()"
   ]
  },
  {
   "cell_type": "markdown",
   "metadata": {},
   "source": [
    "Works on linux to view the sdf file"
   ]
  },
  {
   "cell_type": "code",
   "execution_count": null,
   "metadata": {},
   "outputs": [],
   "source": [
    "%%bash\n",
    "less ./my_one_mol_object_3D.sdf"
   ]
  },
  {
   "cell_type": "markdown",
   "metadata": {},
   "source": [
    "# Working with pandas dataframes"
   ]
  },
  {
   "cell_type": "markdown",
   "metadata": {},
   "source": [
    "You could work with help of PandasTools module (easy to use, good for \"small\" data).\n",
    "Or you could do everything on your own, which is good when trying to deal with \"big\" data (more than 100K molecules)."
   ]
  },
  {
   "cell_type": "code",
   "execution_count": null,
   "metadata": {},
   "outputs": [],
   "source": [
    "data_small = data.head(40).copy()"
   ]
  },
  {
   "cell_type": "code",
   "execution_count": null,
   "metadata": {},
   "outputs": [],
   "source": [
    "data_small.head()"
   ]
  },
  {
   "cell_type": "code",
   "execution_count": null,
   "metadata": {},
   "outputs": [],
   "source": [
    "from rdkit.Chem import PandasTools\n",
    "PandasTools.AddMoleculeColumnToFrame(data_small, smilesCol='SMILES_STD',molCol='ROMol')\n"
   ]
  },
  {
   "cell_type": "code",
   "execution_count": null,
   "metadata": {},
   "outputs": [],
   "source": [
    "data_small.head()"
   ]
  },
  {
   "cell_type": "markdown",
   "metadata": {},
   "source": [
    "**Important to know** ROMol is not a column with pictures, its column with Mol Objects, represented as pictures"
   ]
  },
  {
   "cell_type": "code",
   "execution_count": null,
   "metadata": {},
   "outputs": [],
   "source": [
    "# manual way\n",
    "data_small[\"MolObj\"] = data_small['SMILES_STD'].map(lambda x: Chem.MolFromSmiles(x))"
   ]
  },
  {
   "cell_type": "code",
   "execution_count": null,
   "metadata": {},
   "outputs": [],
   "source": [
    "data_small.head()"
   ]
  },
  {
   "cell_type": "markdown",
   "metadata": {},
   "source": [
    "Why do we need a manual way? Store Mol Objects **in memory could be hard**. so sometimes its useful to perform calculation of interest **on the fly**"
   ]
  },
  {
   "cell_type": "code",
   "execution_count": null,
   "metadata": {},
   "outputs": [],
   "source": [
    "# example of cacluclating n_atoms without storing MolObjects\n",
    "data_small[\"n_Atoms\"] = data_small['SMILES_STD'].map(lambda x: Chem.MolFromSmiles(x).GetNumAtoms())"
   ]
  },
  {
   "cell_type": "code",
   "execution_count": null,
   "metadata": {},
   "outputs": [],
   "source": [
    "data_small.head()"
   ]
  },
  {
   "cell_type": "markdown",
   "metadata": {},
   "source": [
    "## Drawing a mol grid"
   ]
  },
  {
   "cell_type": "code",
   "execution_count": null,
   "metadata": {},
   "outputs": [],
   "source": [
    "from rdkit.Chem import Draw\n",
    "Draw.MolsToGridImage(list(data_small.ROMol), useSVG=True)"
   ]
  },
  {
   "cell_type": "markdown",
   "metadata": {},
   "source": [
    "# Molecular fingerprints\n",
    "\n",
    "Molecular fingerprints are useful when trying to conduct similarity searches and other comparison tasks. This is useful when trying to perform classification and clustering."
   ]
  },
  {
   "cell_type": "markdown",
   "metadata": {},
   "source": [
    "![img](./fp_list.png)"
   ]
  },
  {
   "cell_type": "code",
   "execution_count": null,
   "metadata": {},
   "outputs": [],
   "source": [
    "my_this_mol_obj = data_small[\"ROMol\"][0]\n",
    "my_that_mol_obj = data_small[\"ROMol\"][1]"
   ]
  },
  {
   "cell_type": "markdown",
   "metadata": {},
   "source": [
    "## Path-Based Fingerprint\n",
    "\n",
    "This type of fingerprint encodes information about the specific linear paths within a molecule. As the path length increases so does the chunk of atoms considered. Path Eneumeration shows all possible linear paths in the molecule up to a specific length. In the example below a maxPath of 7 means that the fingerprint will consider paths with up to 7 bonds. Each path is differentiated by a sequence of atoms and bond types along the path. "
   ]
  },
  {
   "cell_type": "code",
   "execution_count": null,
   "metadata": {},
   "outputs": [],
   "source": [
    "this_fp = Chem.RDKFingerprint(my_this_mol_obj,maxPath=7,fpSize=512)\n",
    "that_fp = Chem.RDKFingerprint(my_that_mol_obj,maxPath=7,fpSize=512)"
   ]
  },
  {
   "cell_type": "code",
   "execution_count": null,
   "metadata": {},
   "outputs": [],
   "source": [
    "this_fp"
   ]
  },
  {
   "cell_type": "code",
   "execution_count": null,
   "metadata": {},
   "outputs": [],
   "source": [
    "that_fp.ToBitString()"
   ]
  },
  {
   "cell_type": "code",
   "execution_count": null,
   "metadata": {},
   "outputs": [],
   "source": [
    "import numpy as np\n",
    "np.array(that_fp)"
   ]
  },
  {
   "cell_type": "markdown",
   "metadata": {},
   "source": [
    "To see how path length changes the fingerprint, see this illustration from OpenEye documentation\n",
    "\n",
    "\n",
    "![pathfp](./PathEnumeration.png)"
   ]
  },
  {
   "cell_type": "markdown",
   "metadata": {},
   "source": [
    "## Morgan Fingerprint\n",
    "\n",
    "The Morgan Fingerprint is a type of molecular fingerprint used in cheminformatics to represent the structure of molecules. It's a circular fingerprint, and describes the environment around each atom within a specified radius. For example, a radius of 2 means that it will look at the atom, its neighbors, and the neighbors' neighbors. In the generated image below you can see that as the circular radius increases, so does the chunk of atoms considered. "
   ]
  },
  {
   "cell_type": "code",
   "execution_count": null,
   "metadata": {},
   "outputs": [],
   "source": [
    "# Morgan FP\n",
    "MFP_this = AllChem.GetMorganFingerprint(my_this_mol_obj,2)\n",
    "MFP_this"
   ]
  },
  {
   "cell_type": "markdown",
   "metadata": {},
   "source": [
    "To see how changing the circular radius changes the fingerprint, see this illustration from OpenEye documentation\n",
    "\n",
    " \n",
    "![pathfp](./CircularEnumeration.png)"
   ]
  },
  {
   "cell_type": "markdown",
   "metadata": {},
   "source": [
    "Get the Morgan Fingerprint as a bit vector"
   ]
  },
  {
   "cell_type": "code",
   "execution_count": null,
   "metadata": {},
   "outputs": [],
   "source": [
    "MFP_this_bits = AllChem.GetMorganFingerprintAsBitVect(my_this_mol_obj,5,nBits=512)\n",
    "MFP_this_bits"
   ]
  },
  {
   "cell_type": "code",
   "execution_count": null,
   "metadata": {},
   "outputs": [],
   "source": [
    "MFP_this_bits.ToBitString()"
   ]
  },
  {
   "cell_type": "markdown",
   "metadata": {},
   "source": [
    "Calculate the dice similarities betwen the two fingerprint bit strings."
   ]
  },
  {
   "cell_type": "code",
   "execution_count": null,
   "metadata": {},
   "outputs": [],
   "source": [
    "DataStructs.DiceSimilarity(this_fp,this_fp)"
   ]
  },
  {
   "cell_type": "code",
   "execution_count": null,
   "metadata": {},
   "outputs": [],
   "source": [
    "DataStructs.DiceSimilarity(this_fp,that_fp)"
   ]
  },
  {
   "cell_type": "code",
   "execution_count": null,
   "metadata": {},
   "outputs": [],
   "source": [
    "DataStructs.DiceSimilarity(this_fp,MFP_this_bits)"
   ]
  },
  {
   "cell_type": "markdown",
   "metadata": {},
   "source": [
    "## What does the bit mean?\n",
    "\n",
    "A bit refers to a binary digit that can encode information about the presence or absence of certain substructures or features of the molecule. "
   ]
  },
  {
   "cell_type": "code",
   "execution_count": null,
   "metadata": {},
   "outputs": [],
   "source": [
    "from rdkit.Chem import Draw\n",
    "mol = Chem.MolFromSmiles('c1ccccc1CC1CC1')\n",
    "bi = {}\n",
    "fp = AllChem.GetMorganFingerprintAsBitVect(mol, radius=2, bitInfo=bi,nBits=512)\n",
    "\n",
    "mfp2_svg = Draw.DrawMorganBit(mol, 29, bi, useSVG=True)\n",
    "rdkbi = {}\n",
    "rdkfp = Chem.RDKFingerprint(mol, maxPath=5, bitInfo=rdkbi,fpSize=512)\n",
    "rdk_svg = Draw.DrawRDKitBit(mol, 2, rdkbi, useSVG=True)"
   ]
  },
  {
   "cell_type": "code",
   "execution_count": null,
   "metadata": {},
   "outputs": [],
   "source": [
    "mfp2_svg"
   ]
  },
  {
   "cell_type": "code",
   "execution_count": null,
   "metadata": {},
   "outputs": [],
   "source": [
    "rdk_svg"
   ]
  },
  {
   "cell_type": "markdown",
   "metadata": {},
   "source": [
    "## Molecular similarity\n",
    "\n",
    "Molecular similarity measures how simliar two molecules are to one another based off various criteria. These can be structural features, functional groups, chemical properties, etc. Using molecular similarity allows us to virtually screen for molecules within a certain system or sharing properties. This is helpful when trying to discover new compounds, as we can use previous clustering of compounds to find ones with simliar properties. "
   ]
  },
  {
   "cell_type": "markdown",
   "metadata": {},
   "source": [
    "## Dice similarity\n",
    "\n",
    "Dice similarity is a specific metric used to compare the similarity between two sets. This can be extended to molecular fingerprints. Dice similarity is especially useful when trying to compare two binary vectors (such as chemical fingerprints!). Dice similarity is a subset of molecular similarity."
   ]
  },
  {
   "cell_type": "markdown",
   "metadata": {},
   "source": [
    "![dice](./dice_sim.png)"
   ]
  },
  {
   "cell_type": "markdown",
   "metadata": {},
   "source": [
    "## Tanimoto similarity \n",
    "\n",
    "The Tanimoto similarity is also used to compare two binary vectors of molecular fingerprints. The value of the similarity falls between 0 and 1 (with 0 being no similarity and 1 being all similarity)."
   ]
  },
  {
   "cell_type": "markdown",
   "metadata": {},
   "source": [
    "![tani](./jacard_sim.jpg)"
   ]
  },
  {
   "cell_type": "code",
   "execution_count": null,
   "metadata": {},
   "outputs": [],
   "source": [
    "from rdkit import DataStructs\n",
    "# Tanimoto\n",
    "commonBits = this_fp&that_fp\n",
    "print('this:',this_fp.GetNumOnBits(),'that:',that_fp.GetNumOnBits(),'num in common:',commonBits.GetNumOnBits())\n",
    "print(commonBits.GetNumOnBits()/(this_fp.GetNumOnBits()+that_fp.GetNumOnBits()-commonBits.GetNumOnBits()))\n",
    "print('Tanimoto:', DataStructs.TanimotoSimilarity(this_fp,that_fp))"
   ]
  },
  {
   "cell_type": "code",
   "execution_count": null,
   "metadata": {},
   "outputs": [],
   "source": [
    "from sklearn.metrics import jaccard_score"
   ]
  },
  {
   "cell_type": "code",
   "execution_count": null,
   "metadata": {},
   "outputs": [],
   "source": [
    "jaccard_score(np.array(this_fp),np.array(that_fp))"
   ]
  },
  {
   "cell_type": "markdown",
   "metadata": {},
   "source": [
    "## Molecular similarity visualization \n",
    "\n",
    "This example generates visualizations that highlight the similarities and differences between two molecules based off their found fingerprints. This is a good way to visualize which parts contribute the most to their similarity and dissimilarity. This example is specifically using a Morgan Fingerpring and a Tanimoto Similarity to compare two molecules. "
   ]
  },
  {
   "cell_type": "code",
   "execution_count": null,
   "metadata": {},
   "outputs": [],
   "source": [
    "from rdkit.Chem.Draw import SimilarityMaps"
   ]
  },
  {
   "cell_type": "markdown",
   "metadata": {},
   "source": [
    "## Interpretation\n",
    "\n",
    "The two images below (with the shaded colors on them) are the two molecules we are comparing. The intensity of the color determines how much each atom contributes either negatively or positively to the similarity between the two molecules. The red atoms signify a negative contribution to the similarity (as seen on the left in the first picture) and green signifies a positive contribution to the similarity. This finger print is using a circular radius of 1 for the Morgan Fingerprint and so will only consider a single atom at a time. "
   ]
  },
  {
   "cell_type": "code",
   "execution_count": null,
   "metadata": {},
   "outputs": [],
   "source": [
    "fig, maxweight = SimilarityMaps.GetSimilarityMapForFingerprint(my_this_mol_obj,my_that_mol_obj, SimilarityMaps.GetMorganFingerprint)\n",
    "fig, maxweight = SimilarityMaps.GetSimilarityMapForFingerprint(my_that_mol_obj,my_this_mol_obj, SimilarityMaps.GetMorganFingerprint)"
   ]
  },
  {
   "cell_type": "code",
   "execution_count": null,
   "metadata": {},
   "outputs": [],
   "source": [
    "Draw.MolsToGridImage([my_this_mol_obj,my_that_mol_obj])"
   ]
  },
  {
   "cell_type": "markdown",
   "metadata": {},
   "source": [
    "Now we are using a circular radius of 5 which allows the fingerprint to consider much larger groups of atoms. This can be important to visualize the contributions of functional groups as a whole rather than individual parts. "
   ]
  },
  {
   "cell_type": "code",
   "execution_count": null,
   "metadata": {},
   "outputs": [],
   "source": [
    "fig, maxweight = SimilarityMaps.GetSimilarityMapForFingerprint(my_this_mol_obj, my_that_mol_obj,\n",
    "                                                               lambda m,idx: SimilarityMaps.GetMorganFingerprint(m, atomId=idx, radius=5, fpType='bv'),\n",
    "                                                               metric=DataStructs.TanimotoSimilarity)\n"
   ]
  },
  {
   "cell_type": "markdown",
   "metadata": {},
   "source": [
    "## On a bigger scale with pandas dataframe \n",
    "\n",
    "Now we will compare molecules within a pandas dataframe rather than one at a time. "
   ]
  },
  {
   "cell_type": "code",
   "execution_count": null,
   "metadata": {},
   "outputs": [],
   "source": [
    "def SMI2FD(smiles_str,mP=7,fS=1024):\n",
    "    fp = Chem.RDKFingerprint(Chem.MolFromSmiles(smiles_str),maxPath=mP,fpSize=fS)\n",
    "    return np.array(fp)\n",
    "data_small[\"RDKFP\"]=data_small[\"SMILES_STD\"].apply(SMI2FD)"
   ]
  },
  {
   "cell_type": "code",
   "execution_count": null,
   "metadata": {},
   "outputs": [],
   "source": [
    "data_small.head(1)"
   ]
  },
  {
   "cell_type": "code",
   "execution_count": null,
   "metadata": {},
   "outputs": [],
   "source": [
    "first_fp = data_small[\"RDKFP\"][0]"
   ]
  },
  {
   "cell_type": "code",
   "execution_count": null,
   "metadata": {},
   "outputs": [],
   "source": [
    "data_small[\"Tanimoto_sim_toFirst\"]=data_small[\"RDKFP\"].apply(lambda x: jaccard_score(x,first_fp))"
   ]
  },
  {
   "cell_type": "code",
   "execution_count": null,
   "metadata": {},
   "outputs": [],
   "source": [
    "data_small.sort_values(['Tanimoto_sim_toFirst'], inplace=False, ascending=False)"
   ]
  },
  {
   "cell_type": "markdown",
   "metadata": {},
   "source": [
    "## Descriptors"
   ]
  },
  {
   "cell_type": "markdown",
   "metadata": {},
   "source": [
    "![desc](./de_list.png)"
   ]
  },
  {
   "cell_type": "markdown",
   "metadata": {},
   "source": [
    "# Descriptors\n",
    "\n",
    "This code calculates molecular descriptors, generates simliarity maps, and computes the distance between molecular descriptors. \n",
    "\n",
    "The TPSA (Topological Polar Surface Area) descriptor sums the surface areas of polar atoms in a molecule. This can be helpful when trying to predict drug absorption and permeability. \n",
    "\n",
    "The MolLogP descriptor finds the LogP value (octanol-water partition coefficient) which is a measure of a molecule's hydrophobicity. It's often used to predict the solubility and permeability of drugs. "
   ]
  },
  {
   "cell_type": "code",
   "execution_count": null,
   "metadata": {},
   "outputs": [],
   "source": [
    "from rdkit.Chem import Descriptors\n",
    "print(\"TPSA %s\"%Descriptors.TPSA(my_this_mol_obj))\n",
    "print(\"mollogP %s\"%Descriptors.MolLogP(my_this_mol_obj))"
   ]
  },
  {
   "cell_type": "markdown",
   "metadata": {},
   "source": [
    "With rdMolDescriptors these descriptors can easilly be visualized on the actual molecule. The CalcCrippenContribs shows this as an image ad the similarity map shows the contributions of each atom as a shaded region. "
   ]
  },
  {
   "cell_type": "code",
   "execution_count": null,
   "metadata": {},
   "outputs": [],
   "source": [
    "from rdkit.Chem import rdMolDescriptors\n",
    "contribs = rdMolDescriptors._CalcCrippenContribs(my_this_mol_obj)\n",
    "fig = SimilarityMaps.GetSimilarityMapFromWeights(my_this_mol_obj,[x for x,y in contribs], colorMap='jet', contourLines=10)\n"
   ]
  },
  {
   "cell_type": "markdown",
   "metadata": {},
   "source": [
    "This code allows us to calculate all the molecular descriptors that RDKit has to offer. "
   ]
  },
  {
   "cell_type": "code",
   "execution_count": null,
   "metadata": {},
   "outputs": [],
   "source": [
    "\n",
    "from rdkit.Chem import Descriptors\n",
    "from rdkit.ML.Descriptors import MoleculeDescriptors\n",
    "nms=[x[0] for x in Descriptors._descList]\n",
    "calc = MoleculeDescriptors.MolecularDescriptorCalculator(nms)\n",
    "print(len(nms))"
   ]
  },
  {
   "cell_type": "code",
   "execution_count": null,
   "metadata": {},
   "outputs": [],
   "source": [
    "my_precious_descs = [calc.CalcDescriptors(x) for x in [my_this_mol_obj,my_that_mol_obj]]\n",
    "my_precious_descs"
   ]
  },
  {
   "cell_type": "code",
   "execution_count": null,
   "metadata": {},
   "outputs": [],
   "source": [
    "np.array(my_precious_descs).shape"
   ]
  },
  {
   "cell_type": "markdown",
   "metadata": {},
   "source": [
    "The Euclidian Distance between each set of descriptors quantifies how simliar or different the two molecules are based off their descriptors. This is useful as it allows us to find the similarity between two molecules from multiple descriptors. Additionally, descriptors can be applied to a wide range of properties and so allows us to compare them in more ways than just atom connectivity (for example, the similarity of two molecules based off of TPSA AND molLogP)"
   ]
  },
  {
   "cell_type": "code",
   "execution_count": null,
   "metadata": {},
   "outputs": [],
   "source": [
    "from sklearn.metrics import euclidean_distances\n",
    "euclidean_distances(np.array(my_precious_descs))"
   ]
  },
  {
   "cell_type": "markdown",
   "metadata": {},
   "source": [
    "For realworld data for descriptor calculation one of the most common used library is [Mordred Descriptors](https://github.com/mordred-descriptor/mordred) (~ 1500 descriptors)"
   ]
  },
  {
   "cell_type": "markdown",
   "metadata": {},
   "source": [
    "# Substructure Search\n",
    "\n",
    "This example shows how you can find specific substrates within a group of molecules. The creation of a SMARTS (SMiles ARbitrary Target Specification) pattern can help identify a substrate in order to help find it. SMARTS allows us to use more complex and flexible descriptions of molecular substructures. \n",
    "\n",
    "In this example specifically, let's break down what each piece of notation means:\n",
    "\n",
    "1.\t[*r6R1]1:\n",
    "- [*]: Matches any atom.\n",
    "- [r6]: Matches atoms that are part of a 6-membered ring.\n",
    "- [R1]: Matches atoms that are part of exactly one ring.\n",
    "- 1: Indicates the start of a ring, denoted by the number 1.\n",
    "2.\t[cR2]2:\n",
    "- [c]: Matches aromatic carbon atoms.\n",
    "- [R2]: Matches atoms that are part of exactly two rings.\n",
    "- 2: Indicates the start of a second ring, denoted by the number 2.\n",
    "3.\t[cR1][cR1][cR1][cR1]:\n",
    "- These are aromatic carbon atoms (c) that are part of exactly one ring (R1).\n",
    "4.\t[cR2]2:\n",
    "- This is an aromatic carbon atom that is part of exactly two rings, closing the second ring started by 2.\n",
    "5.\t[*r6R1][*r6R1][*r6R1]1:\n",
    "- These are any atoms that are part of a 6-membered ring and exactly one ring ([*r6R1]), closing the first ring started by 1."
   ]
  },
  {
   "cell_type": "code",
   "execution_count": null,
   "metadata": {},
   "outputs": [],
   "source": [
    "benzo_six = Chem.MolFromSmarts('[*r6R1]1[cR2]2[cR1][cR1][cR1][cR1][cR2]2[*r6R1][*r6R1][*r6R1]1')"
   ]
  },
  {
   "cell_type": "code",
   "execution_count": null,
   "metadata": {},
   "outputs": [],
   "source": [
    "benzo_six"
   ]
  },
  {
   "cell_type": "code",
   "execution_count": null,
   "metadata": {},
   "outputs": [],
   "source": [
    "data_small[data_small['ROMol'] >= benzo_six][['ROMol']]"
   ]
  },
  {
   "cell_type": "code",
   "execution_count": null,
   "metadata": {},
   "outputs": [],
   "source": [
    "data_small[\"ROMol\"].apply(lambda x: x.HasSubstructMatch(benzo_six) )"
   ]
  },
  {
   "cell_type": "code",
   "execution_count": null,
   "metadata": {},
   "outputs": [],
   "source": [
    "data_small[\"HasBenzoSix\"]=data_small[\"ROMol\"].apply(lambda x: x.HasSubstructMatch(benzo_six) )"
   ]
  },
  {
   "cell_type": "markdown",
   "metadata": {},
   "source": [
    "This code pattern matches a SMARTS string to other molecules and creates a grid of matching molecules "
   ]
  },
  {
   "cell_type": "code",
   "execution_count": null,
   "metadata": {},
   "outputs": [],
   "source": [
    "\n",
    "highlight_lists = [mol.GetSubstructMatch(benzo_six) for mol in data_small[\"ROMol\"].to_list()]\n",
    "Draw.MolsToGridImage(data_small[\"ROMol\"].to_list(), \n",
    "                     highlightAtomLists = highlight_lists,\n",
    "                     useSVG=False\n",
    "                    )"
   ]
  },
  {
   "cell_type": "markdown",
   "metadata": {},
   "source": [
    "Filters the molecules for the ones containing \"HasBenzoSix\""
   ]
  },
  {
   "cell_type": "code",
   "execution_count": null,
   "metadata": {},
   "outputs": [],
   "source": [
    "highlight_lists = [mol.GetSubstructMatch(benzo_six) for mol in data_small[data_small[\"HasBenzoSix\"]][\"ROMol\"].to_list()]\n",
    "Draw.MolsToGridImage(data_small[data_small[\"HasBenzoSix\"]][\"ROMol\"].to_list(), \n",
    "                     highlightAtomLists = highlight_lists,\n",
    "                     useSVG=False\n",
    "                    )"
   ]
  },
  {
   "cell_type": "code",
   "execution_count": null,
   "metadata": {},
   "outputs": [],
   "source": [
    "AllChem.Compute2DCoords(benzo_six)"
   ]
  },
  {
   "cell_type": "code",
   "execution_count": null,
   "metadata": {},
   "outputs": [],
   "source": [
    "for mol in data_small[data_small[\"HasBenzoSix\"]][\"ROMol\"].to_list():\n",
    "    AllChem.GenerateDepictionMatching2DStructure(mol, benzo_six, acceptFailure = True)"
   ]
  },
  {
   "cell_type": "code",
   "execution_count": null,
   "metadata": {},
   "outputs": [],
   "source": [
    "highlight_lists = [mol.GetSubstructMatch(benzo_six) for mol in data_small[data_small[\"HasBenzoSix\"]][\"ROMol\"].to_list()]\n",
    "Draw.MolsToGridImage(data_small[data_small[\"HasBenzoSix\"]][\"ROMol\"].to_list(), \n",
    "                     highlightAtomLists = highlight_lists,\n",
    "                     useSVG=False\n",
    "                    )"
   ]
  },
  {
   "cell_type": "markdown",
   "metadata": {},
   "source": [
    "## Murcko scaffolds\n",
    "\n",
    "Murcko scaffolds are used to identify the core structure of a molecule, stripped away side chains and other features. This example shows how to generate and visualize one. "
   ]
  },
  {
   "cell_type": "code",
   "execution_count": null,
   "metadata": {},
   "outputs": [],
   "source": [
    "from rdkit.Chem.Scaffolds import MurckoScaffold\n",
    "core = MurckoScaffold.GetScaffoldForMol(my_this_mol_obj)"
   ]
  },
  {
   "cell_type": "code",
   "execution_count": null,
   "metadata": {},
   "outputs": [],
   "source": [
    "Draw.MolsToGridImage([core,my_this_mol_obj,my_that_mol_obj])"
   ]
  },
  {
   "cell_type": "markdown",
   "metadata": {},
   "source": [
    "Here's what a Murcko Scaffold looks like as a SMILES string. "
   ]
  },
  {
   "cell_type": "code",
   "execution_count": null,
   "metadata": {},
   "outputs": [],
   "source": [
    "fw = MurckoScaffold.MakeScaffoldGeneric(core)\n",
    "Chem.MolToSmiles(fw)\n"
   ]
  },
  {
   "cell_type": "code",
   "execution_count": null,
   "metadata": {},
   "outputs": [],
   "source": [
    "Draw.MolsToGridImage([fw,core,my_this_mol_obj],legends=[\"generic scaffold\",\"scaffold\",\"molecule\"])"
   ]
  },
  {
   "cell_type": "code",
   "execution_count": null,
   "metadata": {},
   "outputs": [],
   "source": [
    "AllChem.Compute2DCoords(core)\n"
   ]
  },
  {
   "cell_type": "code",
   "execution_count": null,
   "metadata": {},
   "outputs": [],
   "source": [
    "for m in [core,my_this_mol_obj]:\n",
    "    AllChem.GenerateDepictionMatching2DStructure(m,core)"
   ]
  },
  {
   "cell_type": "code",
   "execution_count": null,
   "metadata": {},
   "outputs": [],
   "source": [
    "Draw.MolsToGridImage([core,my_this_mol_obj],legends=[\"scaffold\",\"molecule\"])"
   ]
  }
 ],
 "metadata": {
  "kernelspec": {
   "display_name": "Python3.10 (MaterialsInformatics)",
   "language": "python",
   "name": "materialsinformatics"
  },
  "language_info": {
   "codemirror_mode": {
    "name": "ipython",
    "version": 3
   },
   "file_extension": ".py",
   "mimetype": "text/x-python",
   "name": "python",
   "nbconvert_exporter": "python",
   "pygments_lexer": "ipython3",
   "version": "3.11.8"
  }
 },
 "nbformat": 4,
 "nbformat_minor": 2
}
