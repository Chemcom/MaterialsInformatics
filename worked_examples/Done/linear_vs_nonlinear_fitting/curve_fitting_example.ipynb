{
 "cells": [
  {
   "cell_type": "markdown",
   "metadata": {},
   "source": [
    "# Curve Fitting and Residual Plots\n",
    "\n",
    "#### Video \n",
    "\n",
    "https://www.youtube.com/watch?v=YgaBv6CXfvo&list=PLL0SWcFqypCl4lrzk1dMWwTUrzQZFt7y0&index=16 (Linear vs Nonlinear models)\n"
   ]
  },
  {
   "cell_type": "markdown",
   "metadata": {},
   "source": [
    "### Libraries Needed\n",
    "- matplotlib\n",
    "- scipy\n",
    "- pandas\n",
    "- numpy\n",
    "- seaborn"
   ]
  },
  {
   "cell_type": "code",
   "execution_count": null,
   "metadata": {},
   "outputs": [],
   "source": [
    "import matplotlib.pyplot as plt\n",
    "from scipy.optimize import curve_fit\n",
    "import pandas as pd\n",
    "import numpy as np\n",
    "import matplotlib as mpl\n",
    "import seaborn as sns"
   ]
  },
  {
   "cell_type": "markdown",
   "metadata": {},
   "source": [
    "### Start with a linear model (3rd order polynomial)\n",
    "\n",
    "Linear fits are ones in which the inputs of the functioned are assumed to have a linear relationship with the output. Despite a third order polynomial not being a straight line (what the usual definition of a linear line is), it is considered linear as the parameters are interpreted as transformed inputs. \n",
    "\n",
    "Linear functions take the form of $$y = c + c_{1}x_{1} + c_{2}x_{2} + _{\\dots} + c_{n}x_{n}$$\n"
   ]
  },
  {
   "cell_type": "code",
   "execution_count": null,
   "metadata": {},
   "outputs": [],
   "source": [
    "# Set matplotlib parameters for PDF font type and font size\n",
    "mpl.rcParams['pdf.fonttype'] = 42\n",
    "mpl.rcParams['font.size'] = 14\n",
    "\n",
    "# Load the data - found in the same directory as the script\n",
    "filename = r'ElectronMobility.csv'\n",
    "\n",
    "#data taken from https://www.itl.nist.gov/div898/strd/nls/data/thurber.shtml\n",
    "df = pd.read_csv(filename)\n",
    "\n",
    "# Extract the mobility and density data from the loaded data\n",
    "# Clean them up by dropping missing values\n",
    "y = df['Mobility'].dropna()\n",
    "x = df['Density Ln'].dropna()\n",
    "\n",
    "\n",
    "\n",
    "fig = plt.figure(1, figsize=[5,5])\n",
    "\n",
    "# Generate a color palette with seaborn\n",
    "colors = sns.cubehelix_palette(5, start=2)"
   ]
  },
  {
   "cell_type": "markdown",
   "metadata": {},
   "source": [
    "#### Fit the curve and plot the original data and fitted curve"
   ]
  },
  {
   "cell_type": "code",
   "execution_count": null,
   "metadata": {},
   "outputs": [],
   "source": [
    "# Define a function for a third-order polynomial\n",
    "def third_order_poly(x, c, c1, c2, c3):\n",
    "    return c + c1 * x + c2 * x**2 + c3 * x**3\n",
    "\n",
    "# Fit the third-order polynomial model to the data\n",
    "popt, pcov = curve_fit(third_order_poly, x, y)\n",
    "\n",
    "# Extract the optimal parameters from the curve fit\n",
    "c = popt[0]\n",
    "c1 = popt[1]\n",
    "c2 = popt[2]\n",
    "c3 = popt[3]\n",
    "\n",
    "# Plot the original data points\n",
    "plt.plot(x,y,marker='o', color=colors[2], linestyle='', markersize=11, mfc='white',label='NIST data')\n",
    "\n",
    "# Plot the fitted curve as mobility vs density \n",
    "plt.plot(x,third_order_poly(x,*popt),marker='None', linestyle='-',color=colors[4], markersize=11, mfc='white',label=f'{c:.0f}+{c1:.1f}x+{c2:.2f}x$^2$+{c3:.2f}x$^3$')\n",
    "\n",
    "\n",
    "# Enable minor ticks and set major and minor ticks to be on the inside of the plot\n",
    "plt.minorticks_on()\n",
    "plt.tick_params(direction='in',right=True, top=True, left=True, bottom=True)\n",
    "plt.tick_params(labelbottom=True, labeltop=False, labelright=False, labelleft=True)  \n",
    "plt.tick_params(direction='in',which='minor', length=5, bottom=True, top=True, left=True, right=True)\n",
    "plt.tick_params(direction='in',which='major', length=10, bottom=True, top=True, left=True, right=True)\n",
    "plt.xlim([-3.25,2.25])\n",
    "plt.ylim([0,1600])\n",
    "plt.xlabel('Density Ln')\n",
    "plt.ylabel('Mobiliy $cm^2/(Vs)$') \n",
    "plt.legend(bbox_to_anchor=(1.05, 1.0))\n",
    "\n",
    "\n",
    "# Save the plot to a file with high resolution and tight bounding box\n",
    "plt.savefig('third_order_poly_fit.png', dpi=300,bbox_inches=\"tight\")"
   ]
  },
  {
   "cell_type": "markdown",
   "metadata": {},
   "source": [
    "### Plot the residuals of the fitted third order polynomial\n",
    "\n",
    "Residuals are the differences between the observed values and the values of the fitted curve. Residuals should ideally be randomly distributed around zero. A pattern in the residuals may be indicitive of an ill fitting curve. Large residual values indicate points that may not be fitted well. \n",
    "\n",
    "As seen below, the fit of the third order polynomial is fine but not amazing. There are some large residual values that demonstrate points that are not fit well enough.\n"
   ]
  },
  {
   "cell_type": "code",
   "execution_count": null,
   "metadata": {},
   "outputs": [],
   "source": [
    "popt,pcov = curve_fit(third_order_poly,x,y)\n",
    "c=popt[0]\n",
    "c1=popt[1]\n",
    "c2=popt[2]\n",
    "c3=popt[3]\n",
    "z=76\n",
    "\n",
    "# Plot the residuals (difference between actual and fitted values) as residual vs fitted value\n",
    "plt.plot(third_order_poly(x,*popt),y-third_order_poly(x,*popt),marker='s', linestyle='',color=colors[4], markersize=11, mfc='white',label=f'residual')\n",
    "plt.axhline(0,linestyle='--',color='grey')\n",
    "\n",
    "\n",
    "plt.minorticks_on()\n",
    "plt.tick_params(direction='in',right=True, top=True, left=True, bottom=True)\n",
    "plt.tick_params(labelbottom=True, labeltop=False, labelright=False, labelleft=True)  \n",
    "plt.tick_params(direction='in',which='minor', length=5, bottom=True, top=True, left=True, right=True)\n",
    "plt.tick_params(direction='in',which='major', length=10, bottom=True, top=True, left=True, right=True)\n",
    "plt.xlim([0,1600])\n",
    "plt.ylim([-150,150])\n",
    "plt.xlabel('fitted value')\n",
    "plt.ylabel('residual') \n",
    "plt.legend()\n",
    "\n",
    "\n",
    "plt.savefig('third_order_poly_fit_bias.png', dpi=300,bbox_inches=\"tight\")"
   ]
  },
  {
   "cell_type": "markdown",
   "metadata": {},
   "source": [
    "## Nonlinear fitting example\n",
    "\n",
    "Nonlinear fits are fits in which the output is not proportional to the change in the input. Nonlinear functions can show up as exponential growth, logistic regression, and rational functions.\n",
    "\n",
    "Nonlinear functions often take the shape of $$y = a \\cdot e^{bx}$$ $$ y = \\frac{a + bx}{1 + cx}$$ $$ y=\\log{(ax+b)}$$"
   ]
  },
  {
   "cell_type": "code",
   "execution_count": null,
   "metadata": {},
   "outputs": [],
   "source": [
    "# Using the same data as before define a rational function to preform nonlinear curve fitting\n",
    "def rational_function(x,c,c1,c2,c3,c4,c5,c6):\n",
    "    return (c + c1*x + c2*x**2 + c3*x**3) / (1 + c4*x + c5*x**2 + c6*x**3)\n",
    "\n",
    "popt,pcov = curve_fit(rational_function,x,y)\n",
    "c=popt[0]\n",
    "c1=popt[1]\n",
    "c2=popt[2]\n",
    "c3=popt[3]\n",
    "c4=popt[4]\n",
    "c5=popt[5]\n",
    "c6=popt[6]\n",
    "plt.plot(x,y,marker='o', color=colors[2], linestyle='', markersize=11, mfc='white',label='NIST data')\n",
    "plt.plot(x,rational_function(x,*popt),marker='None', linestyle='-',color=colors[4], markersize=11, mfc='white',label=f'rational function')\n",
    "\n",
    "\n",
    "plt.minorticks_on()\n",
    "plt.tick_params(direction='in',right=True, top=True, left=True, bottom=True)\n",
    "plt.tick_params(labelbottom=True, labeltop=False, labelright=False, labelleft=True)  \n",
    "plt.tick_params(direction='in',which='minor', length=5, bottom=True, top=True, left=True, right=True)\n",
    "plt.tick_params(direction='in',which='major', length=10, bottom=True, top=True, left=True, right=True)\n",
    "plt.xlim([-3.25,2.25])\n",
    "plt.ylim([0,1600])\n",
    "plt.xlabel('Density Ln')\n",
    "plt.ylabel('Mobiliy $cm^2/(Vs)$') \n",
    "plt.legend(bbox_to_anchor=(1.05, 1.0))\n",
    "\n",
    "\n",
    "\n",
    "\n",
    "plt.savefig('rational_function_fit.png', dpi=300,bbox_inches=\"tight\")"
   ]
  },
  {
   "cell_type": "markdown",
   "metadata": {},
   "source": [
    "### Plot the residuals of the rational function curve fitting\n",
    "\n",
    "As seen below, the fitting of the nonlinear rational function fits quite a bit better than the third order polynomial. This function has smaller residuals which indicate better fitted points. This is because the loaded data had a stronger nonlinear relationship than a linear one. "
   ]
  },
  {
   "cell_type": "code",
   "execution_count": null,
   "metadata": {},
   "outputs": [],
   "source": [
    "def rational_function(x,c,c1,c2,c3,c4,c5,c6):\n",
    "    return (c + c1*x + c2*x**2 + c3*x**3) / (1 + c4*x + c5*x**2 + c6*x**3)\n",
    "\n",
    "popt,pcov = curve_fit(rational_function,x,y)\n",
    "c=popt[0]\n",
    "c1=popt[1]\n",
    "c2=popt[2]\n",
    "c3=popt[3]\n",
    "c4=popt[4]\n",
    "c5=popt[5]\n",
    "c6=popt[6]\n",
    "#plt.plot(x,y,marker='o', color=colors[2], linestyle='', markersize=11, mfc='white',label='NIST data')\n",
    "plt.plot(rational_function(x,*popt),y-rational_function(x,*popt),marker='^', linestyle='',color=colors[3], markersize=11, mfc='white',label=f'residual')\n",
    "plt.axhline(0,linestyle='--',color='grey')\n",
    "\n",
    "plt.minorticks_on()\n",
    "plt.tick_params(direction='in',right=True, top=True, left=True, bottom=True)\n",
    "plt.tick_params(labelbottom=True, labeltop=False, labelright=False, labelleft=True)  \n",
    "plt.tick_params(direction='in',which='minor', length=5, bottom=True, top=True, left=True, right=True)\n",
    "plt.tick_params(direction='in',which='major', length=10, bottom=True, top=True, left=True, right=True)\n",
    "plt.xlim([0,1600])\n",
    "plt.ylim([-150,150])\n",
    "plt.xlabel('fitted value')\n",
    "plt.ylabel('residual') \n",
    "plt.legend(bbox_to_anchor=(1.05, 1.0))\n",
    "\n",
    "\n",
    "\n",
    "\n",
    "plt.savefig('rational_function_residual.png', dpi=300,bbox_inches=\"tight\")"
   ]
  }
 ],
 "metadata": {
  "kernelspec": {
   "display_name": "nanohub",
   "language": "python",
   "name": "python3"
  },
  "language_info": {
   "codemirror_mode": {
    "name": "ipython",
    "version": 3
   },
   "file_extension": ".py",
   "mimetype": "text/x-python",
   "name": "python",
   "nbconvert_exporter": "python",
   "pygments_lexer": "ipython3",
   "version": "3.11.8"
  }
 },
 "nbformat": 4,
 "nbformat_minor": 2
}
