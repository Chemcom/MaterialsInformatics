{
 "cells": [
  {
   "cell_type": "markdown",
   "metadata": {},
   "source": [
    "# Welcome to the Materials Informatics Project\n",
    "\n",
    "This notebook contains links to other working notebooks in this project. Click the links below to navigate to the notebooks.\n",
    "\n",
    "## Notebooks:\n",
    "\n",
    "1. [2 point statistics](./worked_examples/2_pt_statistics_example/2pt_statistics.ipynb)\n",
    "2. [Ax Optimization](./worked_examples/bayesian_optimization/Ax_optimization.ipynb)\n",
    "3. [Bayesian Optimization](./worked_examples/bayesian_optimization/BayesianOptimization.ipynb)\n",
    "4. [Composition Based Feature Vector](./worked_examples/CBFV_example/CBFV_example.ipynb)\n",
    "5. [Convolutions](./worked_examples/convolution_example/convolution.ipynb)\n",
    "6. [Cross Validation](./worked_examples/cross_validation/CrossValidation.ipynb)\n",
    "7. [Data Wrangling](./worked_examples/data_wrangling/basic_data_wrangling.ipynb)\n",
    "8. [Foundry](./worked_examples/foundry/foundry.ipynb)\n",
    "9. [Gaussian Process](./worked_examples/gaussian_process/gaussian_process.ipynb)\n",
    "10. [Coding Gaussian Process From Scratch](./worked_examples/gaussian_process/coding_gpr_from_scratch_notebook.ipynb)\n",
    "11. [Hyperparameter Optimization](./worked_examples/hyperparameter_opt/hyperparameter_opt.ipynb)\n",
    "12. [Linear Models](./worked_examples/linear_vs_nonlinear_fitting/linear_models.ipynb)\n",
    "13. [Linear vs Nonlinear Models](./worked_examples/linear_vs_nonlinear_fitting/curve_fitting_example.ipynb)\n",
    "14. [Logistic Regression](./worked_examples/logistic_regression/LogisticRegression.ipynb)\n",
    "15. [MPRester API (LEGACY)](./worked_examples/MP_API_example/legacy_MPRester_tutorial.ipynb)\n",
    "16. [MPRester API (NEW)](./worked_examples/MP_API_example/new_MPRester_tutorial.ipynb)\n",
    "17. [Naive Bayes](./worked_examples/naive_bayes/naive_bayes.ipynb)\n",
    "18. [RDKit](./worked_examples/RDKit_tutorial/RDkit_tutorial.ipynb)\n",
    "19. [Segment Anything Model (SAM)](./worked_examples/Segment_Anything_Model/segment_anything_model.ipynb)\n",
    "20. [Simple Linear Models](./worked_examples/simple_linear_models/SimpleLinearModels.ipynb)\n",
    "21. [SMILES and SELFIES](./worked_examples/smiles_selfies/deepchem_pubchempy.ipynb)\n",
    "22. [Vanilla Neural Network](./worked_examples/vanilla_neural_net_pytorch/NN_classification_matbench.ipynb)\n",
    "23. [Y-Data Profiling](./worked_examples/ydata_profiling/ydata.ipynb)\n",
    "24. [Clustering](./worked_examples/clustering/clustering.ipynb)\n",
    "25. [Bayesian Optimization Demo](./worked_examples/Bayesian_Optimization_livecoding/Bayesian_Optimization_Demo.ipynb)"
   ]
  }
 ],
 "metadata": {
  "language_info": {
   "name": "python"
  }
 },
 "nbformat": 4,
 "nbformat_minor": 2
}
