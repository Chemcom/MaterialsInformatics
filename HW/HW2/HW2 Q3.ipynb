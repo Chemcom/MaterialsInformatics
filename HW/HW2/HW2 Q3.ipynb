{
 "cells": [
  {
   "cell_type": "markdown",
   "metadata": {},
   "source": [
    "# Question 3: Clustering\n",
    "**1.1 K-means clustering**\n",
    "\n",
    "**<font color='teal'>a)</font>** Perform K-means clustering on the formulae from the heat capacity problem (HW2, Question 2). See if you can see trends in clusters when you change the numbers of clusters (turning on data point labels with formula will help)"
   ]
  },
  {
   "cell_type": "code",
   "execution_count": null,
   "metadata": {},
   "outputs": [],
   "source": [
    "# your code goes here"
   ]
  },
  {
   "cell_type": "markdown",
   "metadata": {},
   "source": [
    "**1.2 t-sne clustering vs umap**\n",
    "\n",
    "**<font color='teal'>b)</font>** Now compare t-sne and umap embeddings. Explore the parameters a bit. "
   ]
  },
  {
   "cell_type": "code",
   "execution_count": null,
   "metadata": {},
   "outputs": [],
   "source": [
    "# your code goes here"
   ]
  }
 ],
 "metadata": {
  "kernelspec": {
   "display_name": "Python 3",
   "language": "python",
   "name": "python3"
  },
  "language_info": {
   "codemirror_mode": {
    "name": "ipython",
    "version": 3
   },
   "file_extension": ".py",
   "mimetype": "text/x-python",
   "name": "python",
   "nbconvert_exporter": "python",
   "pygments_lexer": "ipython3",
   "version": "3.10.13"
  }
 },
 "nbformat": 4,
 "nbformat_minor": 2
}
