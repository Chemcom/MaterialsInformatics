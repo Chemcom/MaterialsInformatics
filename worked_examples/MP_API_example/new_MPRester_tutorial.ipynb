{
 "cells": [
  {
   "cell_type": "markdown",
   "id": "9009686e",
   "metadata": {},
   "source": [
    "The python environment I used for this was called My_New_Pymatgen in miniconda. The only package required was `pip install mp-api`\n",
    "\n",
    "Note: The old vs new Materials Project API's have two different API Keys. Use the correct one. https://next-gen.materialsproject.org/api"
   ]
  },
  {
   "cell_type": "code",
   "execution_count": null,
   "id": "1d77b8fa",
   "metadata": {},
   "outputs": [],
   "source": [
    "import pandas as pd\n",
    "import os\n",
    "\n",
    "filename = r'G:\\My Drive\\teaching\\5540-6640 Materials Informatics\\apikey.txt'\n",
    "\n",
    "def get_file_contents(filename):\n",
    "    try:\n",
    "        with open(filename, 'r') as f:\n",
    "            # It's assumed our file contains a single line,\n",
    "            # with our API key\n",
    "            return f.read().strip()\n",
    "    except FileNotFoundError:\n",
    "        print(\"'%s' file not found\" % filename)\n",
    "\n",
    "\n",
    "Sparks_API = get_file_contents(filename)"
   ]
  },
  {
   "cell_type": "code",
   "execution_count": null,
   "id": "196ccba8",
   "metadata": {
    "scrolled": true
   },
   "outputs": [],
   "source": [
    "import pymatgen.core as mg\n",
    "si = mg.Element(\"Si\")\n",
    "print('Silicon has atomic mass of:', si.atomic_mass)"
   ]
  },
  {
   "cell_type": "markdown",
   "id": "1814367f",
   "metadata": {},
   "source": [
    "The API for Materials Project recently (2022) was updated. You can read about the differences between new and old with API Key and install instructions for each.\n",
    "https://docs.materialsproject.org/downloading-data/differences-between-new-and-legacy-api\n",
    "\n",
    "For this class, let's use the new API which you can read about here https://api.materialsproject.org/docs\n",
    "\n",
    "To install, in miniconda in your My_Pymatgen environment run the command 'pip install mp-api'\n",
    "\n",
    "First, I had to update pydantic with the following code 'pip install pydantic==2.0'\n",
    "\n"
   ]
  },
  {
   "cell_type": "code",
   "execution_count": null,
   "id": "0a53e08d",
   "metadata": {
    "scrolled": true
   },
   "outputs": [],
   "source": [
    "#this works with the old legacy MPRester\n",
    "from mp_api.client import MPRester\n",
    "\n",
    "with MPRester(Sparks_API) as mpr:\n",
    "    list_ids = mpr.get_materials_ids(\"TaC\")\n",
    "    print('All compounds in the Ta-C system are: ', mpr.get_materials_ids('Ta-C'))"
   ]
  },
  {
   "cell_type": "markdown",
   "id": "9eda7269",
   "metadata": {},
   "source": [
    "Or we can pull data from a specific materials project id"
   ]
  },
  {
   "cell_type": "code",
   "execution_count": null,
   "id": "e18bf54d",
   "metadata": {},
   "outputs": [],
   "source": [
    "for i_d in list_ids:\n",
    "    with MPRester(Sparks_API) as mpr:\n",
    "        structure = mpr.get_structure_by_material_id(i_d)\n",
    "        print(structure)\n",
    "\n",
    "\n",
    "with MPRester(Sparks_API) as mpr:\n",
    "    structure = mpr.get_structure_by_material_id('mp-1086')\n",
    "    print(structure)\n",
    "    \n"
   ]
  },
  {
   "cell_type": "markdown",
   "id": "0960cfb1",
   "metadata": {},
   "source": [
    "How do we do queries though? What if we want to find all carbides having either Ta, Nb, or W?\n",
    "We need to use the MPRester.summary.search method!\n",
    "https://docs.materialsproject.org/downloading-data/using-the-api/querying-data\n",
    "\n",
    "By default it grabs ALL the property data available, but you can also tell it to only grab a few specific fields. Some students report errors if you leave the fields blank and found that it worked if you provided fields. \n"
   ]
  },
  {
   "cell_type": "code",
   "execution_count": null,
   "id": "0b791e6b",
   "metadata": {},
   "outputs": [],
   "source": [
    "mpr = MPRester(Sparks_API)\n",
    "#grab all the data\n",
    "docs = mpr.summary.search(elements=['Si','O'],band_gap=(0.85,1))\n",
    "print(docs[0])\n",
    "#just grab a few specific fields\n",
    "docs = mpr.summary.search(elements=['Si','O'],band_gap=(0.85,1),fields=[\"material_id\",\"density\",\"symmetry\"])\n",
    "print(docs[0])\n",
    "#call up a specific field for a entry as follows\n",
    "print('The chemical system is',docs[0].density)\n"
   ]
  },
  {
   "cell_type": "code",
   "execution_count": null,
   "id": "1e481352",
   "metadata": {},
   "outputs": [],
   "source": [
    "with MPRester(Sparks_API) as mpr:\n",
    "    docs = mpr.summary.search(material_ids=[\"mp-149\"], fields=[\"symmetry\"])\n",
    "    structure = docs[0].symmetry\n",
    "    # -- Shortcut for a single Materials Project ID:\n",
    "    structure = mpr.get_structure_by_material_id(\"mp-149\")\n",
    "    print(structure)"
   ]
  },
  {
   "cell_type": "markdown",
   "id": "f7c8a9df",
   "metadata": {},
   "source": [
    "There are lots of examples that you can peruse here\n",
    "https://docs.materialsproject.org/downloading-data/using-the-api/examples"
   ]
  },
  {
   "cell_type": "code",
   "execution_count": null,
   "id": "2377d5fa",
   "metadata": {},
   "outputs": [],
   "source": [
    "#Find all Materials Project IDs for entries with dielectric data\n",
    "from mp_api.client import MPRester\n",
    "from emmet.core.summary import HasProps\n",
    "\n",
    "with MPRester(Sparks_API) as mpr:\n",
    "    docs = mpr.summary.search(\n",
    "        has_props = [HasProps.dielectric], fields=[\"material_id\"]\n",
    "    )\n",
    "    mpids = [doc.material_id for doc in docs]"
   ]
  },
  {
   "cell_type": "code",
   "execution_count": null,
   "id": "2997f053",
   "metadata": {},
   "outputs": [],
   "source": [
    "#Calculation (task) IDs and types for silicon (mp-149)\n",
    "from mp_api.client import MPRester\n",
    "\n",
    "with MPRester(Sparks_API) as mpr: \n",
    "    docs = mpr.materials.search(material_ids=[\"mp-149\"], fields=[\"calc_types\"])\n",
    "    task_ids = docs[0].calc_types.keys()\n",
    "    task_types = docs[0].calc_types.values() \n",
    "    # -- Shortcut for a single Materials Project ID:\n",
    "    task_ids = mpr.get_task_ids_associated_with_material_id(\"mp-149\")\n",
    "    print(task_ids)"
   ]
  },
  {
   "cell_type": "code",
   "execution_count": null,
   "id": "42962128",
   "metadata": {},
   "outputs": [],
   "source": [
    "#find Band gaps for all materials containing only Si and O\n",
    "from mp_api.client import MPRester\n",
    "\n",
    "with MPRester(Sparks_API) as mpr:\n",
    "    docs = mpr.summary.search(\n",
    "        chemsys=\"Si-O\", fields=[\"material_id\", \"band_gap\"]\n",
    "    )\n",
    "    mpid_bgap_dict = {doc.material_id: doc.band_gap for doc in docs}\n",
    "    print(mpid_bgap_dict)"
   ]
  },
  {
   "cell_type": "code",
   "execution_count": null,
   "id": "6eac191a",
   "metadata": {},
   "outputs": [],
   "source": [
    "#Chemical formulas for all materials containing at least Si and O\n",
    "from mp_api.client import MPRester\n",
    "\n",
    "with MPRester(Sparks_API) as mpr:\n",
    "    docs = mpr.summary.search(\n",
    "        elements=[\"Si\", \"O\"], fields=[\"material_id\", \"band_gap\", \"formula_pretty\"]\n",
    "    )\n",
    "    mpid_formula_dict = {\n",
    "        doc.material_id: doc.formula_pretty for doc in docs\n",
    "    }"
   ]
  },
  {
   "cell_type": "code",
   "execution_count": null,
   "id": "43f2c199",
   "metadata": {},
   "outputs": [],
   "source": [
    "#Stable materials (on the GGA/GGA+U hull) with large band gaps (>3eV)\n",
    "from mp_api.client import MPRester\n",
    "\n",
    "with MPRester(Sparks_API) as mpr:\n",
    "    docs = mpr.summary.search(\n",
    "        band_gap=(3, None), is_stable=True, fields=[\"material_id\"]\n",
    "    )\n",
    "    stable_mpids = [doc.material_id for doc in docs]\n",
    "    \n",
    "    ## -- Alternative directly using energy above hull:\n",
    "    docs = mpr.summary.search(\n",
    "        band_gap=(3, None), energy_above_hull=(0, 0), fields=[\"material_id\"]\n",
    "    )\n",
    "    stable_mpids = [doc.material_id for doc in docs]"
   ]
  },
  {
   "cell_type": "code",
   "execution_count": null,
   "id": "91eb94e0",
   "metadata": {},
   "outputs": [],
   "source": [
    "#Band structures for silicon (mp-149)\n",
    "from mp_api.client import MPRester\n",
    "from emmet.core.electronic_structure import BSPathType\n",
    "\n",
    "with MPRester(Sparks_API) as mpr:\n",
    "    # -- line-mode, Setyawan-Curtarolo (default):\n",
    "    bs_sc = mpr.get_bandstructure_by_material_id(\"mp-149\")\n",
    "    \n",
    "    # -- line-mode, Hinuma et al.:\n",
    "    bs_hin = mpr.get_bandstructure_by_material_id(\"mp-149\", path_type=BSPathType.hinuma)\n",
    "\n",
    "    # -- line-mode, Latimer-Munro:\n",
    "    bs_hin = mpr.get_bandstructure_by_material_id(\"mp-149\", path_type=BSPathType.latimer_munro)\n",
    "    \n",
    "    # -- uniform:\n",
    "    bs_uniform = mpr.get_bandstructure_by_material_id(\"mp-149\", line_mode=False)                            "
   ]
  },
  {
   "cell_type": "code",
   "execution_count": null,
   "id": "b3ebbd05",
   "metadata": {},
   "outputs": [],
   "source": [
    "#Density of states for silicon (mp-149)\n",
    "from mp_api.client import MPRester\n",
    "\n",
    "with MPRester(Sparks_API) as mpr:\n",
    "    dos = mpr.get_dos_by_material_id(\"mp-149\")"
   ]
  },
  {
   "cell_type": "code",
   "execution_count": null,
   "id": "d0b4973b",
   "metadata": {},
   "outputs": [],
   "source": [
    "from mp_api.client import MPRester\n",
    "from emmet.core.thermo import ThermoType\n",
    "\n",
    "with MPRester(Sparks_API) as mpr:\n",
    "    \n",
    "    # -- GGA/GGA+U/R2SCAN mixed phase diagram\n",
    "    pd = mpr.thermo.get_phase_diagram_from_chemsys(chemsys=\"Li-Fe-O\", \n",
    "                                                   thermo_type=ThermoType.GGA_GGA_U_R2SCAN)\n",
    "    \n",
    "    # -- GGA/GGA+U mixed phase diagram\n",
    "    pd = mpr.thermo.get_phase_diagram_from_chemsys(chemsys=\"Li-Fe-O\", \n",
    "                                                   thermo_type=ThermoType.GGA_GGA_U)\n",
    "                                                   \n",
    "    # -- R2SCAN only phase diagram\n",
    "    pd = mpr.thermo.get_phase_diagram_from_chemsys(chemsys=\"Li-Fe-O\", \n",
    "                                                   thermo_type=ThermoType.R2SCAN)\n"
   ]
  },
  {
   "cell_type": "code",
   "execution_count": null,
   "id": "29812cd3",
   "metadata": {},
   "outputs": [],
   "source": [
    "from mp_api.client import MPRester\n",
    "from pymatgen.analysis.phase_diagram import PhaseDiagram, PDPlotter\n",
    "\n",
    "with MPRester(Sparks_API) as mpr:\n",
    "\n",
    "    # Obtain only corrected GGA and GGA+U ComputedStructureEntry objects\n",
    "    entries = mpr.get_entries_in_chemsys(elements=[\"Li\", \"Fe\", \"O\"], \n",
    "                                         additional_criteria={\"thermo_types\": [\"GGA_GGA+U\"]}) \n",
    "    # Construct phase diagram\n",
    "    pd = PhaseDiagram(entries)\n",
    "    \n",
    "    # Plot phase diagram\n",
    "    PDPlotter(pd).get_plot()\n",
    "    "
   ]
  },
  {
   "cell_type": "markdown",
   "id": "b13e718f",
   "metadata": {},
   "source": []
  },
  {
   "cell_type": "code",
   "execution_count": null,
   "id": "baaea2f1",
   "metadata": {},
   "outputs": [],
   "source": [
    "#let's show the phase diagram. I had to first install nbformat 'pip install --upgrade nbformat'\n",
    "PDPlotter(pd).get_plot()"
   ]
  },
  {
   "cell_type": "markdown",
   "id": "0ac39c65",
   "metadata": {},
   "source": [
    "# Now you try it!"
   ]
  },
  {
   "cell_type": "markdown",
   "id": "9db94366",
   "metadata": {},
   "source": []
  }
 ],
 "metadata": {
  "kernelspec": {
   "display_name": "Python 3 (ipykernel)",
   "language": "python",
   "name": "python3"
  },
  "language_info": {
   "codemirror_mode": {
    "name": "ipython",
    "version": 3
   },
   "file_extension": ".py",
   "mimetype": "text/x-python",
   "name": "python",
   "nbconvert_exporter": "python",
   "pygments_lexer": "ipython3",
   "version": "3.12.3"
  }
 },
 "nbformat": 4,
 "nbformat_minor": 5
}
