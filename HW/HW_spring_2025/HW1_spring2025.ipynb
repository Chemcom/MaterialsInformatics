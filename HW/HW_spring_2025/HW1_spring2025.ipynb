{
 "cells": [
  {
   "cell_type": "markdown",
   "metadata": {},
   "source": [
    "# HW1: Materials Project Data Extraction\n",
    "### The goal of this HW1 is to get comfortable extracting data from the materials project database,\n",
    "### cleaning this data and identifying specific info within it.\n",
    "### We will use the new API to extract data based on a few different criteria."
   ]
  },
  {
   "cell_type": "markdown",
   "metadata": {},
   "source": [
    "#### --------------------------------------------------------------------------------------------------------------------------------------------"
   ]
  },
  {
   "cell_type": "markdown",
   "metadata": {},
   "source": [
    "### Import appropriate libraries for the new pymatgen api & initialize the api key via MPRester"
   ]
  },
  {
   "cell_type": "code",
   "execution_count": 1,
   "metadata": {},
   "outputs": [
    {
     "data": {
      "application/vnd.jupyter.widget-view+json": {
       "model_id": "bbaf504ee3d44c049292a0d588682bf6",
       "version_major": 2,
       "version_minor": 0
      },
      "text/plain": [
       "Retrieving SummaryDoc documents:   0%|          | 0/3 [00:00<?, ?it/s]"
      ]
     },
     "metadata": {},
     "output_type": "display_data"
    }
   ],
   "source": [
    "'''\n",
    "enter code here\n",
    "'''"
   ]
  },
  {
   "cell_type": "markdown",
   "metadata": {},
   "source": [
    "### lets explore energy storage materials containing Li.\n",
    "### create a search that finds all quaternary - Lithium contianing materials with\n",
    "### a band gap between 0.5 - 3.0 eV and density between 2.0 - 4.0 g/cm^3\n",
    "### hint - if you did this correctly you should get 4065 materials to explore"
   ]
  },
  {
   "cell_type": "code",
   "execution_count": null,
   "metadata": {},
   "outputs": [],
   "source": [
    "'''\n",
    "enter code here\n",
    "'''"
   ]
  },
  {
   "cell_type": "markdown",
   "metadata": {},
   "source": [
    "### next, identify which composition within this dataset has the highest band gap\n",
    "### print the formula and the band gap value"
   ]
  },
  {
   "cell_type": "code",
   "execution_count": null,
   "metadata": {},
   "outputs": [],
   "source": [
    "'''\n",
    "enter code here\n",
    "'''"
   ]
  },
  {
   "cell_type": "markdown",
   "metadata": {},
   "source": [
    "### Is the optimal material stable?\n",
    "### hint - you might get a few materials with the same formula, identify only the one \n",
    "### of interest using other properties we identified so far "
   ]
  },
  {
   "cell_type": "code",
   "execution_count": null,
   "metadata": {},
   "outputs": [],
   "source": [
    "'''\n",
    "enter code here\n",
    "'''"
   ]
  },
  {
   "cell_type": "markdown",
   "metadata": {},
   "source": [
    "### next, lets visualize the band gap distribution of the dataset\n",
    "### using matplotlib, create a histogram of the band gap values for all materials in the dataset\n",
    "### set the following plotting parameters to bins=50 and density=True\n",
    "\n"
   ]
  },
  {
   "cell_type": "code",
   "execution_count": null,
   "metadata": {},
   "outputs": [],
   "source": [
    "'''\n",
    "enter code here\n",
    "'''\n"
   ]
  },
  {
   "cell_type": "markdown",
   "metadata": {},
   "source": [
    "### create a dataframe of the dataset contianing a column for the formula and band gap\n",
    "### hint - there should be 2 columns in your dataframe consisting of 4065 materials\n"
   ]
  },
  {
   "cell_type": "code",
   "execution_count": 80,
   "metadata": {},
   "outputs": [],
   "source": [
    "'''\n",
    "enter code here\n",
    "'''\n",
    "    "
   ]
  },
  {
   "cell_type": "markdown",
   "metadata": {},
   "source": [
    "### once the dataframe is created, make a copy of it and we will begin identifying features within this dataset"
   ]
  },
  {
   "cell_type": "code",
   "execution_count": null,
   "metadata": {},
   "outputs": [],
   "source": [
    "'''\n",
    "enter code here\n",
    "'''"
   ]
  },
  {
   "cell_type": "markdown",
   "metadata": {},
   "source": [
    "### inspect the dataframe for duplicated rows (meaning these rows will have identical enteries in both the formula and band_gap columns) and report what formulas have duplicate entries "
   ]
  },
  {
   "cell_type": "code",
   "execution_count": null,
   "metadata": {},
   "outputs": [],
   "source": [
    "'''\n",
    "enter code here\n",
    "'''"
   ]
  },
  {
   "cell_type": "markdown",
   "metadata": {},
   "source": [
    "### print the shape of the dataframe before and after removing the duplicate rows (this will help you validate that you removed the correct number of rows)"
   ]
  },
  {
   "cell_type": "code",
   "execution_count": null,
   "metadata": {},
   "outputs": [],
   "source": [
    "'''\n",
    "enter code here\n",
    "'''"
   ]
  },
  {
   "cell_type": "markdown",
   "metadata": {},
   "source": [
    "### next we want to identify all unique formulas within the dataset \n",
    "### these formulas that are duplicated within the formula column are most likely measured at different conditions\n",
    "### leading to different band gap values. For now we will ignore this fact, and proceed \n",
    "### to figuring out how to condense these formulas. Lets take the average value of all duplicate formulas\n",
    "### and replace the duplicate formulas with the average value.\n",
    "\n",
    "\n",
    "### example - if SiO2 has 3 different entries, replace the 3 values with the mean value\n",
    "### so now we will only see SiO2 once, and the assocaited band gap will be the average of the 3 values"
   ]
  },
  {
   "cell_type": "code",
   "execution_count": 128,
   "metadata": {},
   "outputs": [],
   "source": [
    "'''\n",
    "enter code here\n",
    "'''"
   ]
  },
  {
   "cell_type": "markdown",
   "metadata": {},
   "source": [
    "### you can now validate that you did this correctly by filtering the dataframe for a single composition that is duplicated\n",
    "### and making sure that you replaced this value with the average of the duplicates\n",
    "### filter the dataframe for a composition that has duplicates and make sure that the value is the mean value"
   ]
  },
  {
   "cell_type": "code",
   "execution_count": null,
   "metadata": {},
   "outputs": [],
   "source": [
    "'''\n",
    "enter code here\n",
    "'''"
   ]
  },
  {
   "cell_type": "markdown",
   "metadata": {},
   "source": [
    "### once you have validated that you have done this correctly, you can now proceed to the next step.\n",
    "### lets go ahead and drop the duplicated rows in the dataframe. Make sure to print the shape of the\n",
    "### dataframe before and after dropping the duplicates to validate that you have done this correctly\n",
    "### hint - shape before the drop should be (4063, 2) and after drop should be (1443, 2)"
   ]
  },
  {
   "cell_type": "code",
   "execution_count": null,
   "metadata": {},
   "outputs": [],
   "source": [
    "'''\n",
    "enter code here\n",
    "'''"
   ]
  },
  {
   "cell_type": "markdown",
   "metadata": {},
   "source": [
    "### next we will import a featurizer, one that has been developed by our group\n",
    "### import CBFV\n",
    "### There are a few different featurizers that can be used (oliynyk (default), onehot, mat2vec, etc.)\n",
    "### lets make 3 copies of our dataset, and use the oliynyk, onehot, and mat2vec featurizers to create features\n",
    "### you can call each dataset df_oli, df_onehot, df_mat2vec\n",
    "### you will want to make sure to convert the band_gap column name to 'target' for each dataset"
   ]
  },
  {
   "cell_type": "code",
   "execution_count": 139,
   "metadata": {},
   "outputs": [],
   "source": [
    "'''\n",
    "enter code here\n",
    "'''"
   ]
  },
  {
   "cell_type": "markdown",
   "metadata": {},
   "source": [
    "### use cbfv to create features for each of the 3 datasets"
   ]
  },
  {
   "cell_type": "code",
   "execution_count": null,
   "metadata": {},
   "outputs": [],
   "source": [
    "'''\n",
    "enter code here\n",
    "'''"
   ]
  },
  {
   "cell_type": "markdown",
   "metadata": {},
   "source": [
    "### once you have created the features, you can now proceed to the next step\n",
    "### lets split the data into training and testing sets\n",
    "### use the train_test_split function from sklearn to split the data into 80% training and 20% testing\n",
    "### make sure to set the random_state to 13 so that we can reproduce the results\n",
    "### we will have to do this to all 3 featurized datasets\n",
    "### train 3 random forest regressor for each featurized dataset, and evaluate the model on the test set\n",
    "### for each. Report the mean squared error for each model \n",
    "### you will need to import the scikit-learn library "
   ]
  },
  {
   "cell_type": "code",
   "execution_count": 145,
   "metadata": {},
   "outputs": [],
   "source": [
    "'''\n",
    "enter code here\n",
    "'''"
   ]
  },
  {
   "cell_type": "markdown",
   "metadata": {},
   "source": [
    "### which model performed the best?\n",
    "### In a few sentences, explain why you think this model performed the best."
   ]
  },
  {
   "cell_type": "markdown",
   "metadata": {},
   "source": [
    "'''\n",
    "enter comments here\n",
    "'''"
   ]
  }
 ],
 "metadata": {
  "kernelspec": {
   "display_name": "mi",
   "language": "python",
   "name": "python3"
  },
  "language_info": {
   "codemirror_mode": {
    "name": "ipython",
    "version": 3
   },
   "file_extension": ".py",
   "mimetype": "text/x-python",
   "name": "python",
   "nbconvert_exporter": "python",
   "pygments_lexer": "ipython3",
   "version": "3.12.8"
  }
 },
 "nbformat": 4,
 "nbformat_minor": 2
}
